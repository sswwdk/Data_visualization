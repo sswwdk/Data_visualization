{
 "cells": [
  {
   "cell_type": "code",
   "execution_count": 42,
   "id": "984b2a16",
   "metadata": {},
   "outputs": [],
   "source": [
    "import pandas as pd\n",
    "import plotly.express as px\n",
    "import seaborn as sns\n",
    "import matplotlib.pyplot as plt\n",
    "import plotly.graph_objects as go\n",
    "import platform"
   ]
  },
  {
   "cell_type": "code",
   "execution_count": 78,
   "id": "fb760479",
   "metadata": {},
   "outputs": [],
   "source": [
    "# 데이터 불러오기\n",
    "df = pd.read_csv(\"data/crime.csv\")  # CSV 파일 경로"
   ]
  },
  {
   "cell_type": "code",
   "execution_count": 44,
   "id": "35fcc4d8",
   "metadata": {},
   "outputs": [],
   "source": [
    "# 2. Matplotlib & Seaborn 한글 폰트 설정\n",
    "# 운영체제에 따라 적절한 한글 폰트를 설정합니다.\n",
    "system_name = platform.system()\n",
    "\n",
    "if system_name == 'Windows':\n",
    "    # Windows 운영체제\n",
    "    plt.rc('font', family='Malgun Gothic')\n",
    "elif system_name == 'Darwin':\n",
    "    # Mac OS\n",
    "    plt.rc('font', family='AppleGothic')\n",
    "elif system_name == 'Linux':\n",
    "    # Linux\n",
    "    # 나눔고딕 폰트 설치가 필요합니다.\n",
    "    # sudo apt-get update -y\n",
    "    # sudo apt-get install -y fonts-nanum\n",
    "    plt.rc('font', family='NanumGothic')\n",
    "else:\n",
    "    # 기타 운영체제\n",
    "    print(\"해당 운영체제는 한글 폰트 설정이 필요할 수 있습니다.\")\n",
    "\n",
    "# 폰트 변경 시 마이너스('-') 기호 깨짐 방지\n",
    "plt.rcParams['axes.unicode_minus'] = False"
   ]
  },
  {
   "cell_type": "code",
   "execution_count": 45,
   "id": "b2743c33",
   "metadata": {},
   "outputs": [
    {
     "data": {
      "text/html": [
       "<div>\n",
       "<style scoped>\n",
       "    .dataframe tbody tr th:only-of-type {\n",
       "        vertical-align: middle;\n",
       "    }\n",
       "\n",
       "    .dataframe tbody tr th {\n",
       "        vertical-align: top;\n",
       "    }\n",
       "\n",
       "    .dataframe thead th {\n",
       "        text-align: right;\n",
       "    }\n",
       "</style>\n",
       "<table border=\"1\" class=\"dataframe\">\n",
       "  <thead>\n",
       "    <tr style=\"text-align: right;\">\n",
       "      <th></th>\n",
       "      <th>자치구별(1)</th>\n",
       "      <th>자치구별(2)</th>\n",
       "      <th>2023</th>\n",
       "    </tr>\n",
       "  </thead>\n",
       "  <tbody>\n",
       "    <tr>\n",
       "      <th>0</th>\n",
       "      <td>자치구별(1)</td>\n",
       "      <td>자치구별(2)</td>\n",
       "      <td>합계</td>\n",
       "    </tr>\n",
       "    <tr>\n",
       "      <th>1</th>\n",
       "      <td>자치구별(1)</td>\n",
       "      <td>자치구별(2)</td>\n",
       "      <td>소계</td>\n",
       "    </tr>\n",
       "    <tr>\n",
       "      <th>2</th>\n",
       "      <td>자치구별(1)</td>\n",
       "      <td>자치구별(2)</td>\n",
       "      <td>발생</td>\n",
       "    </tr>\n",
       "    <tr>\n",
       "      <th>3</th>\n",
       "      <td>합계</td>\n",
       "      <td>소계</td>\n",
       "      <td>86213</td>\n",
       "    </tr>\n",
       "    <tr>\n",
       "      <th>4</th>\n",
       "      <td>합계</td>\n",
       "      <td>종로구</td>\n",
       "      <td>2981</td>\n",
       "    </tr>\n",
       "    <tr>\n",
       "      <th>5</th>\n",
       "      <td>합계</td>\n",
       "      <td>중구</td>\n",
       "      <td>3348</td>\n",
       "    </tr>\n",
       "    <tr>\n",
       "      <th>6</th>\n",
       "      <td>합계</td>\n",
       "      <td>용산구</td>\n",
       "      <td>3021</td>\n",
       "    </tr>\n",
       "    <tr>\n",
       "      <th>7</th>\n",
       "      <td>합계</td>\n",
       "      <td>성동구</td>\n",
       "      <td>2023</td>\n",
       "    </tr>\n",
       "    <tr>\n",
       "      <th>8</th>\n",
       "      <td>합계</td>\n",
       "      <td>광진구</td>\n",
       "      <td>3424</td>\n",
       "    </tr>\n",
       "    <tr>\n",
       "      <th>9</th>\n",
       "      <td>합계</td>\n",
       "      <td>동대문구</td>\n",
       "      <td>2957</td>\n",
       "    </tr>\n",
       "    <tr>\n",
       "      <th>10</th>\n",
       "      <td>합계</td>\n",
       "      <td>중랑구</td>\n",
       "      <td>3324</td>\n",
       "    </tr>\n",
       "    <tr>\n",
       "      <th>11</th>\n",
       "      <td>합계</td>\n",
       "      <td>성북구</td>\n",
       "      <td>2411</td>\n",
       "    </tr>\n",
       "    <tr>\n",
       "      <th>12</th>\n",
       "      <td>합계</td>\n",
       "      <td>강북구</td>\n",
       "      <td>2497</td>\n",
       "    </tr>\n",
       "    <tr>\n",
       "      <th>13</th>\n",
       "      <td>합계</td>\n",
       "      <td>도봉구</td>\n",
       "      <td>1921</td>\n",
       "    </tr>\n",
       "    <tr>\n",
       "      <th>14</th>\n",
       "      <td>합계</td>\n",
       "      <td>노원구</td>\n",
       "      <td>3567</td>\n",
       "    </tr>\n",
       "    <tr>\n",
       "      <th>15</th>\n",
       "      <td>합계</td>\n",
       "      <td>은평구</td>\n",
       "      <td>3493</td>\n",
       "    </tr>\n",
       "    <tr>\n",
       "      <th>16</th>\n",
       "      <td>합계</td>\n",
       "      <td>서대문구</td>\n",
       "      <td>2385</td>\n",
       "    </tr>\n",
       "    <tr>\n",
       "      <th>17</th>\n",
       "      <td>합계</td>\n",
       "      <td>마포구</td>\n",
       "      <td>3834</td>\n",
       "    </tr>\n",
       "    <tr>\n",
       "      <th>18</th>\n",
       "      <td>합계</td>\n",
       "      <td>양천구</td>\n",
       "      <td>3019</td>\n",
       "    </tr>\n",
       "    <tr>\n",
       "      <th>19</th>\n",
       "      <td>합계</td>\n",
       "      <td>강서구</td>\n",
       "      <td>4296</td>\n",
       "    </tr>\n",
       "    <tr>\n",
       "      <th>20</th>\n",
       "      <td>합계</td>\n",
       "      <td>구로구</td>\n",
       "      <td>3737</td>\n",
       "    </tr>\n",
       "    <tr>\n",
       "      <th>21</th>\n",
       "      <td>합계</td>\n",
       "      <td>금천구</td>\n",
       "      <td>2240</td>\n",
       "    </tr>\n",
       "    <tr>\n",
       "      <th>22</th>\n",
       "      <td>합계</td>\n",
       "      <td>영등포구</td>\n",
       "      <td>4418</td>\n",
       "    </tr>\n",
       "    <tr>\n",
       "      <th>23</th>\n",
       "      <td>합계</td>\n",
       "      <td>동작구</td>\n",
       "      <td>2642</td>\n",
       "    </tr>\n",
       "    <tr>\n",
       "      <th>24</th>\n",
       "      <td>합계</td>\n",
       "      <td>관악구</td>\n",
       "      <td>4769</td>\n",
       "    </tr>\n",
       "    <tr>\n",
       "      <th>25</th>\n",
       "      <td>합계</td>\n",
       "      <td>서초구</td>\n",
       "      <td>4522</td>\n",
       "    </tr>\n",
       "    <tr>\n",
       "      <th>26</th>\n",
       "      <td>합계</td>\n",
       "      <td>강남구</td>\n",
       "      <td>6763</td>\n",
       "    </tr>\n",
       "    <tr>\n",
       "      <th>27</th>\n",
       "      <td>합계</td>\n",
       "      <td>송파구</td>\n",
       "      <td>5223</td>\n",
       "    </tr>\n",
       "    <tr>\n",
       "      <th>28</th>\n",
       "      <td>합계</td>\n",
       "      <td>강동구</td>\n",
       "      <td>3398</td>\n",
       "    </tr>\n",
       "  </tbody>\n",
       "</table>\n",
       "</div>"
      ],
      "text/plain": [
       "    자치구별(1)  자치구별(2)   2023\n",
       "0   자치구별(1)  자치구별(2)     합계\n",
       "1   자치구별(1)  자치구별(2)     소계\n",
       "2   자치구별(1)  자치구별(2)     발생\n",
       "3        합계       소계  86213\n",
       "4        합계      종로구   2981\n",
       "5        합계       중구   3348\n",
       "6        합계      용산구   3021\n",
       "7        합계      성동구   2023\n",
       "8        합계      광진구   3424\n",
       "9        합계     동대문구   2957\n",
       "10       합계      중랑구   3324\n",
       "11       합계      성북구   2411\n",
       "12       합계      강북구   2497\n",
       "13       합계      도봉구   1921\n",
       "14       합계      노원구   3567\n",
       "15       합계      은평구   3493\n",
       "16       합계     서대문구   2385\n",
       "17       합계      마포구   3834\n",
       "18       합계      양천구   3019\n",
       "19       합계      강서구   4296\n",
       "20       합계      구로구   3737\n",
       "21       합계      금천구   2240\n",
       "22       합계     영등포구   4418\n",
       "23       합계      동작구   2642\n",
       "24       합계      관악구   4769\n",
       "25       합계      서초구   4522\n",
       "26       합계      강남구   6763\n",
       "27       합계      송파구   5223\n",
       "28       합계      강동구   3398"
      ]
     },
     "execution_count": 45,
     "metadata": {},
     "output_type": "execute_result"
    }
   ],
   "source": [
    "df"
   ]
  },
  {
   "cell_type": "code",
   "execution_count": 46,
   "id": "50f9557a",
   "metadata": {},
   "outputs": [
    {
     "data": {
      "text/html": [
       "<div>\n",
       "<style scoped>\n",
       "    .dataframe tbody tr th:only-of-type {\n",
       "        vertical-align: middle;\n",
       "    }\n",
       "\n",
       "    .dataframe tbody tr th {\n",
       "        vertical-align: top;\n",
       "    }\n",
       "\n",
       "    .dataframe thead th {\n",
       "        text-align: right;\n",
       "    }\n",
       "</style>\n",
       "<table border=\"1\" class=\"dataframe\">\n",
       "  <thead>\n",
       "    <tr style=\"text-align: right;\">\n",
       "      <th></th>\n",
       "      <th>자치구별(1)</th>\n",
       "      <th>자치구별(2)</th>\n",
       "      <th>2023</th>\n",
       "    </tr>\n",
       "  </thead>\n",
       "  <tbody>\n",
       "    <tr>\n",
       "      <th>4</th>\n",
       "      <td>합계</td>\n",
       "      <td>종로구</td>\n",
       "      <td>2981</td>\n",
       "    </tr>\n",
       "    <tr>\n",
       "      <th>5</th>\n",
       "      <td>합계</td>\n",
       "      <td>중구</td>\n",
       "      <td>3348</td>\n",
       "    </tr>\n",
       "    <tr>\n",
       "      <th>6</th>\n",
       "      <td>합계</td>\n",
       "      <td>용산구</td>\n",
       "      <td>3021</td>\n",
       "    </tr>\n",
       "    <tr>\n",
       "      <th>7</th>\n",
       "      <td>합계</td>\n",
       "      <td>성동구</td>\n",
       "      <td>2023</td>\n",
       "    </tr>\n",
       "    <tr>\n",
       "      <th>8</th>\n",
       "      <td>합계</td>\n",
       "      <td>광진구</td>\n",
       "      <td>3424</td>\n",
       "    </tr>\n",
       "    <tr>\n",
       "      <th>9</th>\n",
       "      <td>합계</td>\n",
       "      <td>동대문구</td>\n",
       "      <td>2957</td>\n",
       "    </tr>\n",
       "    <tr>\n",
       "      <th>10</th>\n",
       "      <td>합계</td>\n",
       "      <td>중랑구</td>\n",
       "      <td>3324</td>\n",
       "    </tr>\n",
       "    <tr>\n",
       "      <th>11</th>\n",
       "      <td>합계</td>\n",
       "      <td>성북구</td>\n",
       "      <td>2411</td>\n",
       "    </tr>\n",
       "    <tr>\n",
       "      <th>12</th>\n",
       "      <td>합계</td>\n",
       "      <td>강북구</td>\n",
       "      <td>2497</td>\n",
       "    </tr>\n",
       "    <tr>\n",
       "      <th>13</th>\n",
       "      <td>합계</td>\n",
       "      <td>도봉구</td>\n",
       "      <td>1921</td>\n",
       "    </tr>\n",
       "    <tr>\n",
       "      <th>14</th>\n",
       "      <td>합계</td>\n",
       "      <td>노원구</td>\n",
       "      <td>3567</td>\n",
       "    </tr>\n",
       "    <tr>\n",
       "      <th>15</th>\n",
       "      <td>합계</td>\n",
       "      <td>은평구</td>\n",
       "      <td>3493</td>\n",
       "    </tr>\n",
       "    <tr>\n",
       "      <th>16</th>\n",
       "      <td>합계</td>\n",
       "      <td>서대문구</td>\n",
       "      <td>2385</td>\n",
       "    </tr>\n",
       "    <tr>\n",
       "      <th>17</th>\n",
       "      <td>합계</td>\n",
       "      <td>마포구</td>\n",
       "      <td>3834</td>\n",
       "    </tr>\n",
       "    <tr>\n",
       "      <th>18</th>\n",
       "      <td>합계</td>\n",
       "      <td>양천구</td>\n",
       "      <td>3019</td>\n",
       "    </tr>\n",
       "    <tr>\n",
       "      <th>19</th>\n",
       "      <td>합계</td>\n",
       "      <td>강서구</td>\n",
       "      <td>4296</td>\n",
       "    </tr>\n",
       "    <tr>\n",
       "      <th>20</th>\n",
       "      <td>합계</td>\n",
       "      <td>구로구</td>\n",
       "      <td>3737</td>\n",
       "    </tr>\n",
       "    <tr>\n",
       "      <th>21</th>\n",
       "      <td>합계</td>\n",
       "      <td>금천구</td>\n",
       "      <td>2240</td>\n",
       "    </tr>\n",
       "    <tr>\n",
       "      <th>22</th>\n",
       "      <td>합계</td>\n",
       "      <td>영등포구</td>\n",
       "      <td>4418</td>\n",
       "    </tr>\n",
       "    <tr>\n",
       "      <th>23</th>\n",
       "      <td>합계</td>\n",
       "      <td>동작구</td>\n",
       "      <td>2642</td>\n",
       "    </tr>\n",
       "    <tr>\n",
       "      <th>24</th>\n",
       "      <td>합계</td>\n",
       "      <td>관악구</td>\n",
       "      <td>4769</td>\n",
       "    </tr>\n",
       "    <tr>\n",
       "      <th>25</th>\n",
       "      <td>합계</td>\n",
       "      <td>서초구</td>\n",
       "      <td>4522</td>\n",
       "    </tr>\n",
       "    <tr>\n",
       "      <th>26</th>\n",
       "      <td>합계</td>\n",
       "      <td>강남구</td>\n",
       "      <td>6763</td>\n",
       "    </tr>\n",
       "    <tr>\n",
       "      <th>27</th>\n",
       "      <td>합계</td>\n",
       "      <td>송파구</td>\n",
       "      <td>5223</td>\n",
       "    </tr>\n",
       "    <tr>\n",
       "      <th>28</th>\n",
       "      <td>합계</td>\n",
       "      <td>강동구</td>\n",
       "      <td>3398</td>\n",
       "    </tr>\n",
       "  </tbody>\n",
       "</table>\n",
       "</div>"
      ],
      "text/plain": [
       "   자치구별(1) 자치구별(2)  2023\n",
       "4       합계     종로구  2981\n",
       "5       합계      중구  3348\n",
       "6       합계     용산구  3021\n",
       "7       합계     성동구  2023\n",
       "8       합계     광진구  3424\n",
       "9       합계    동대문구  2957\n",
       "10      합계     중랑구  3324\n",
       "11      합계     성북구  2411\n",
       "12      합계     강북구  2497\n",
       "13      합계     도봉구  1921\n",
       "14      합계     노원구  3567\n",
       "15      합계     은평구  3493\n",
       "16      합계    서대문구  2385\n",
       "17      합계     마포구  3834\n",
       "18      합계     양천구  3019\n",
       "19      합계     강서구  4296\n",
       "20      합계     구로구  3737\n",
       "21      합계     금천구  2240\n",
       "22      합계    영등포구  4418\n",
       "23      합계     동작구  2642\n",
       "24      합계     관악구  4769\n",
       "25      합계     서초구  4522\n",
       "26      합계     강남구  6763\n",
       "27      합계     송파구  5223\n",
       "28      합계     강동구  3398"
      ]
     },
     "execution_count": 46,
     "metadata": {},
     "output_type": "execute_result"
    }
   ],
   "source": [
    "df = df.drop([0, 1, 2, 3])\n",
    "df"
   ]
  },
  {
   "cell_type": "code",
   "execution_count": 47,
   "id": "249f50c8",
   "metadata": {},
   "outputs": [
    {
     "data": {
      "text/html": [
       "<div>\n",
       "<style scoped>\n",
       "    .dataframe tbody tr th:only-of-type {\n",
       "        vertical-align: middle;\n",
       "    }\n",
       "\n",
       "    .dataframe tbody tr th {\n",
       "        vertical-align: top;\n",
       "    }\n",
       "\n",
       "    .dataframe thead th {\n",
       "        text-align: right;\n",
       "    }\n",
       "</style>\n",
       "<table border=\"1\" class=\"dataframe\">\n",
       "  <thead>\n",
       "    <tr style=\"text-align: right;\">\n",
       "      <th></th>\n",
       "      <th>자치구별(2)</th>\n",
       "      <th>2023</th>\n",
       "    </tr>\n",
       "  </thead>\n",
       "  <tbody>\n",
       "    <tr>\n",
       "      <th>4</th>\n",
       "      <td>종로구</td>\n",
       "      <td>2981</td>\n",
       "    </tr>\n",
       "    <tr>\n",
       "      <th>5</th>\n",
       "      <td>중구</td>\n",
       "      <td>3348</td>\n",
       "    </tr>\n",
       "    <tr>\n",
       "      <th>6</th>\n",
       "      <td>용산구</td>\n",
       "      <td>3021</td>\n",
       "    </tr>\n",
       "    <tr>\n",
       "      <th>7</th>\n",
       "      <td>성동구</td>\n",
       "      <td>2023</td>\n",
       "    </tr>\n",
       "    <tr>\n",
       "      <th>8</th>\n",
       "      <td>광진구</td>\n",
       "      <td>3424</td>\n",
       "    </tr>\n",
       "    <tr>\n",
       "      <th>9</th>\n",
       "      <td>동대문구</td>\n",
       "      <td>2957</td>\n",
       "    </tr>\n",
       "    <tr>\n",
       "      <th>10</th>\n",
       "      <td>중랑구</td>\n",
       "      <td>3324</td>\n",
       "    </tr>\n",
       "    <tr>\n",
       "      <th>11</th>\n",
       "      <td>성북구</td>\n",
       "      <td>2411</td>\n",
       "    </tr>\n",
       "    <tr>\n",
       "      <th>12</th>\n",
       "      <td>강북구</td>\n",
       "      <td>2497</td>\n",
       "    </tr>\n",
       "    <tr>\n",
       "      <th>13</th>\n",
       "      <td>도봉구</td>\n",
       "      <td>1921</td>\n",
       "    </tr>\n",
       "    <tr>\n",
       "      <th>14</th>\n",
       "      <td>노원구</td>\n",
       "      <td>3567</td>\n",
       "    </tr>\n",
       "    <tr>\n",
       "      <th>15</th>\n",
       "      <td>은평구</td>\n",
       "      <td>3493</td>\n",
       "    </tr>\n",
       "    <tr>\n",
       "      <th>16</th>\n",
       "      <td>서대문구</td>\n",
       "      <td>2385</td>\n",
       "    </tr>\n",
       "    <tr>\n",
       "      <th>17</th>\n",
       "      <td>마포구</td>\n",
       "      <td>3834</td>\n",
       "    </tr>\n",
       "    <tr>\n",
       "      <th>18</th>\n",
       "      <td>양천구</td>\n",
       "      <td>3019</td>\n",
       "    </tr>\n",
       "    <tr>\n",
       "      <th>19</th>\n",
       "      <td>강서구</td>\n",
       "      <td>4296</td>\n",
       "    </tr>\n",
       "    <tr>\n",
       "      <th>20</th>\n",
       "      <td>구로구</td>\n",
       "      <td>3737</td>\n",
       "    </tr>\n",
       "    <tr>\n",
       "      <th>21</th>\n",
       "      <td>금천구</td>\n",
       "      <td>2240</td>\n",
       "    </tr>\n",
       "    <tr>\n",
       "      <th>22</th>\n",
       "      <td>영등포구</td>\n",
       "      <td>4418</td>\n",
       "    </tr>\n",
       "    <tr>\n",
       "      <th>23</th>\n",
       "      <td>동작구</td>\n",
       "      <td>2642</td>\n",
       "    </tr>\n",
       "    <tr>\n",
       "      <th>24</th>\n",
       "      <td>관악구</td>\n",
       "      <td>4769</td>\n",
       "    </tr>\n",
       "    <tr>\n",
       "      <th>25</th>\n",
       "      <td>서초구</td>\n",
       "      <td>4522</td>\n",
       "    </tr>\n",
       "    <tr>\n",
       "      <th>26</th>\n",
       "      <td>강남구</td>\n",
       "      <td>6763</td>\n",
       "    </tr>\n",
       "    <tr>\n",
       "      <th>27</th>\n",
       "      <td>송파구</td>\n",
       "      <td>5223</td>\n",
       "    </tr>\n",
       "    <tr>\n",
       "      <th>28</th>\n",
       "      <td>강동구</td>\n",
       "      <td>3398</td>\n",
       "    </tr>\n",
       "  </tbody>\n",
       "</table>\n",
       "</div>"
      ],
      "text/plain": [
       "   자치구별(2)  2023\n",
       "4      종로구  2981\n",
       "5       중구  3348\n",
       "6      용산구  3021\n",
       "7      성동구  2023\n",
       "8      광진구  3424\n",
       "9     동대문구  2957\n",
       "10     중랑구  3324\n",
       "11     성북구  2411\n",
       "12     강북구  2497\n",
       "13     도봉구  1921\n",
       "14     노원구  3567\n",
       "15     은평구  3493\n",
       "16    서대문구  2385\n",
       "17     마포구  3834\n",
       "18     양천구  3019\n",
       "19     강서구  4296\n",
       "20     구로구  3737\n",
       "21     금천구  2240\n",
       "22    영등포구  4418\n",
       "23     동작구  2642\n",
       "24     관악구  4769\n",
       "25     서초구  4522\n",
       "26     강남구  6763\n",
       "27     송파구  5223\n",
       "28     강동구  3398"
      ]
     },
     "execution_count": 47,
     "metadata": {},
     "output_type": "execute_result"
    }
   ],
   "source": [
    "df = df.iloc[:, 1:]\n",
    "df"
   ]
  },
  {
   "cell_type": "code",
   "execution_count": 48,
   "id": "4112e784",
   "metadata": {},
   "outputs": [
    {
     "data": {
      "text/html": [
       "<div>\n",
       "<style scoped>\n",
       "    .dataframe tbody tr th:only-of-type {\n",
       "        vertical-align: middle;\n",
       "    }\n",
       "\n",
       "    .dataframe tbody tr th {\n",
       "        vertical-align: top;\n",
       "    }\n",
       "\n",
       "    .dataframe thead th {\n",
       "        text-align: right;\n",
       "    }\n",
       "</style>\n",
       "<table border=\"1\" class=\"dataframe\">\n",
       "  <thead>\n",
       "    <tr style=\"text-align: right;\">\n",
       "      <th></th>\n",
       "      <th>자치구</th>\n",
       "      <th>발생 횟수</th>\n",
       "    </tr>\n",
       "  </thead>\n",
       "  <tbody>\n",
       "    <tr>\n",
       "      <th>4</th>\n",
       "      <td>종로구</td>\n",
       "      <td>2981</td>\n",
       "    </tr>\n",
       "    <tr>\n",
       "      <th>5</th>\n",
       "      <td>중구</td>\n",
       "      <td>3348</td>\n",
       "    </tr>\n",
       "    <tr>\n",
       "      <th>6</th>\n",
       "      <td>용산구</td>\n",
       "      <td>3021</td>\n",
       "    </tr>\n",
       "    <tr>\n",
       "      <th>7</th>\n",
       "      <td>성동구</td>\n",
       "      <td>2023</td>\n",
       "    </tr>\n",
       "    <tr>\n",
       "      <th>8</th>\n",
       "      <td>광진구</td>\n",
       "      <td>3424</td>\n",
       "    </tr>\n",
       "    <tr>\n",
       "      <th>9</th>\n",
       "      <td>동대문구</td>\n",
       "      <td>2957</td>\n",
       "    </tr>\n",
       "    <tr>\n",
       "      <th>10</th>\n",
       "      <td>중랑구</td>\n",
       "      <td>3324</td>\n",
       "    </tr>\n",
       "    <tr>\n",
       "      <th>11</th>\n",
       "      <td>성북구</td>\n",
       "      <td>2411</td>\n",
       "    </tr>\n",
       "    <tr>\n",
       "      <th>12</th>\n",
       "      <td>강북구</td>\n",
       "      <td>2497</td>\n",
       "    </tr>\n",
       "    <tr>\n",
       "      <th>13</th>\n",
       "      <td>도봉구</td>\n",
       "      <td>1921</td>\n",
       "    </tr>\n",
       "    <tr>\n",
       "      <th>14</th>\n",
       "      <td>노원구</td>\n",
       "      <td>3567</td>\n",
       "    </tr>\n",
       "    <tr>\n",
       "      <th>15</th>\n",
       "      <td>은평구</td>\n",
       "      <td>3493</td>\n",
       "    </tr>\n",
       "    <tr>\n",
       "      <th>16</th>\n",
       "      <td>서대문구</td>\n",
       "      <td>2385</td>\n",
       "    </tr>\n",
       "    <tr>\n",
       "      <th>17</th>\n",
       "      <td>마포구</td>\n",
       "      <td>3834</td>\n",
       "    </tr>\n",
       "    <tr>\n",
       "      <th>18</th>\n",
       "      <td>양천구</td>\n",
       "      <td>3019</td>\n",
       "    </tr>\n",
       "    <tr>\n",
       "      <th>19</th>\n",
       "      <td>강서구</td>\n",
       "      <td>4296</td>\n",
       "    </tr>\n",
       "    <tr>\n",
       "      <th>20</th>\n",
       "      <td>구로구</td>\n",
       "      <td>3737</td>\n",
       "    </tr>\n",
       "    <tr>\n",
       "      <th>21</th>\n",
       "      <td>금천구</td>\n",
       "      <td>2240</td>\n",
       "    </tr>\n",
       "    <tr>\n",
       "      <th>22</th>\n",
       "      <td>영등포구</td>\n",
       "      <td>4418</td>\n",
       "    </tr>\n",
       "    <tr>\n",
       "      <th>23</th>\n",
       "      <td>동작구</td>\n",
       "      <td>2642</td>\n",
       "    </tr>\n",
       "    <tr>\n",
       "      <th>24</th>\n",
       "      <td>관악구</td>\n",
       "      <td>4769</td>\n",
       "    </tr>\n",
       "    <tr>\n",
       "      <th>25</th>\n",
       "      <td>서초구</td>\n",
       "      <td>4522</td>\n",
       "    </tr>\n",
       "    <tr>\n",
       "      <th>26</th>\n",
       "      <td>강남구</td>\n",
       "      <td>6763</td>\n",
       "    </tr>\n",
       "    <tr>\n",
       "      <th>27</th>\n",
       "      <td>송파구</td>\n",
       "      <td>5223</td>\n",
       "    </tr>\n",
       "    <tr>\n",
       "      <th>28</th>\n",
       "      <td>강동구</td>\n",
       "      <td>3398</td>\n",
       "    </tr>\n",
       "  </tbody>\n",
       "</table>\n",
       "</div>"
      ],
      "text/plain": [
       "     자치구 발생 횟수\n",
       "4    종로구  2981\n",
       "5     중구  3348\n",
       "6    용산구  3021\n",
       "7    성동구  2023\n",
       "8    광진구  3424\n",
       "9   동대문구  2957\n",
       "10   중랑구  3324\n",
       "11   성북구  2411\n",
       "12   강북구  2497\n",
       "13   도봉구  1921\n",
       "14   노원구  3567\n",
       "15   은평구  3493\n",
       "16  서대문구  2385\n",
       "17   마포구  3834\n",
       "18   양천구  3019\n",
       "19   강서구  4296\n",
       "20   구로구  3737\n",
       "21   금천구  2240\n",
       "22  영등포구  4418\n",
       "23   동작구  2642\n",
       "24   관악구  4769\n",
       "25   서초구  4522\n",
       "26   강남구  6763\n",
       "27   송파구  5223\n",
       "28   강동구  3398"
      ]
     },
     "execution_count": 48,
     "metadata": {},
     "output_type": "execute_result"
    }
   ],
   "source": [
    "df = df.rename(columns={df.columns[0]: \"자치구\"})\n",
    "df.columns.values[1] = \"발생 횟수\"\n",
    "df\n"
   ]
  },
  {
   "cell_type": "code",
   "execution_count": 49,
   "id": "78a1a68c",
   "metadata": {},
   "outputs": [
    {
     "data": {
      "text/html": [
       "<div>\n",
       "<style scoped>\n",
       "    .dataframe tbody tr th:only-of-type {\n",
       "        vertical-align: middle;\n",
       "    }\n",
       "\n",
       "    .dataframe tbody tr th {\n",
       "        vertical-align: top;\n",
       "    }\n",
       "\n",
       "    .dataframe thead th {\n",
       "        text-align: right;\n",
       "    }\n",
       "</style>\n",
       "<table border=\"1\" class=\"dataframe\">\n",
       "  <thead>\n",
       "    <tr style=\"text-align: right;\">\n",
       "      <th></th>\n",
       "      <th>자치구</th>\n",
       "      <th>발생 횟수</th>\n",
       "    </tr>\n",
       "  </thead>\n",
       "  <tbody>\n",
       "    <tr>\n",
       "      <th>0</th>\n",
       "      <td>종로구</td>\n",
       "      <td>2981</td>\n",
       "    </tr>\n",
       "    <tr>\n",
       "      <th>1</th>\n",
       "      <td>중구</td>\n",
       "      <td>3348</td>\n",
       "    </tr>\n",
       "    <tr>\n",
       "      <th>2</th>\n",
       "      <td>용산구</td>\n",
       "      <td>3021</td>\n",
       "    </tr>\n",
       "    <tr>\n",
       "      <th>3</th>\n",
       "      <td>성동구</td>\n",
       "      <td>2023</td>\n",
       "    </tr>\n",
       "    <tr>\n",
       "      <th>4</th>\n",
       "      <td>광진구</td>\n",
       "      <td>3424</td>\n",
       "    </tr>\n",
       "    <tr>\n",
       "      <th>5</th>\n",
       "      <td>동대문구</td>\n",
       "      <td>2957</td>\n",
       "    </tr>\n",
       "    <tr>\n",
       "      <th>6</th>\n",
       "      <td>중랑구</td>\n",
       "      <td>3324</td>\n",
       "    </tr>\n",
       "    <tr>\n",
       "      <th>7</th>\n",
       "      <td>성북구</td>\n",
       "      <td>2411</td>\n",
       "    </tr>\n",
       "    <tr>\n",
       "      <th>8</th>\n",
       "      <td>강북구</td>\n",
       "      <td>2497</td>\n",
       "    </tr>\n",
       "    <tr>\n",
       "      <th>9</th>\n",
       "      <td>도봉구</td>\n",
       "      <td>1921</td>\n",
       "    </tr>\n",
       "    <tr>\n",
       "      <th>10</th>\n",
       "      <td>노원구</td>\n",
       "      <td>3567</td>\n",
       "    </tr>\n",
       "    <tr>\n",
       "      <th>11</th>\n",
       "      <td>은평구</td>\n",
       "      <td>3493</td>\n",
       "    </tr>\n",
       "    <tr>\n",
       "      <th>12</th>\n",
       "      <td>서대문구</td>\n",
       "      <td>2385</td>\n",
       "    </tr>\n",
       "    <tr>\n",
       "      <th>13</th>\n",
       "      <td>마포구</td>\n",
       "      <td>3834</td>\n",
       "    </tr>\n",
       "    <tr>\n",
       "      <th>14</th>\n",
       "      <td>양천구</td>\n",
       "      <td>3019</td>\n",
       "    </tr>\n",
       "    <tr>\n",
       "      <th>15</th>\n",
       "      <td>강서구</td>\n",
       "      <td>4296</td>\n",
       "    </tr>\n",
       "    <tr>\n",
       "      <th>16</th>\n",
       "      <td>구로구</td>\n",
       "      <td>3737</td>\n",
       "    </tr>\n",
       "    <tr>\n",
       "      <th>17</th>\n",
       "      <td>금천구</td>\n",
       "      <td>2240</td>\n",
       "    </tr>\n",
       "    <tr>\n",
       "      <th>18</th>\n",
       "      <td>영등포구</td>\n",
       "      <td>4418</td>\n",
       "    </tr>\n",
       "    <tr>\n",
       "      <th>19</th>\n",
       "      <td>동작구</td>\n",
       "      <td>2642</td>\n",
       "    </tr>\n",
       "    <tr>\n",
       "      <th>20</th>\n",
       "      <td>관악구</td>\n",
       "      <td>4769</td>\n",
       "    </tr>\n",
       "    <tr>\n",
       "      <th>21</th>\n",
       "      <td>서초구</td>\n",
       "      <td>4522</td>\n",
       "    </tr>\n",
       "    <tr>\n",
       "      <th>22</th>\n",
       "      <td>강남구</td>\n",
       "      <td>6763</td>\n",
       "    </tr>\n",
       "    <tr>\n",
       "      <th>23</th>\n",
       "      <td>송파구</td>\n",
       "      <td>5223</td>\n",
       "    </tr>\n",
       "    <tr>\n",
       "      <th>24</th>\n",
       "      <td>강동구</td>\n",
       "      <td>3398</td>\n",
       "    </tr>\n",
       "  </tbody>\n",
       "</table>\n",
       "</div>"
      ],
      "text/plain": [
       "     자치구 발생 횟수\n",
       "0    종로구  2981\n",
       "1     중구  3348\n",
       "2    용산구  3021\n",
       "3    성동구  2023\n",
       "4    광진구  3424\n",
       "5   동대문구  2957\n",
       "6    중랑구  3324\n",
       "7    성북구  2411\n",
       "8    강북구  2497\n",
       "9    도봉구  1921\n",
       "10   노원구  3567\n",
       "11   은평구  3493\n",
       "12  서대문구  2385\n",
       "13   마포구  3834\n",
       "14   양천구  3019\n",
       "15   강서구  4296\n",
       "16   구로구  3737\n",
       "17   금천구  2240\n",
       "18  영등포구  4418\n",
       "19   동작구  2642\n",
       "20   관악구  4769\n",
       "21   서초구  4522\n",
       "22   강남구  6763\n",
       "23   송파구  5223\n",
       "24   강동구  3398"
      ]
     },
     "execution_count": 49,
     "metadata": {},
     "output_type": "execute_result"
    }
   ],
   "source": [
    "df = df.reset_index(drop=True)\n",
    "df"
   ]
  },
  {
   "cell_type": "code",
   "execution_count": 50,
   "id": "8b4cbf16",
   "metadata": {},
   "outputs": [
    {
     "name": "stdout",
     "output_type": "stream",
     "text": [
      "<class 'pandas.core.frame.DataFrame'>\n",
      "RangeIndex: 25 entries, 0 to 24\n",
      "Data columns (total 2 columns):\n",
      " #   Column  Non-Null Count  Dtype \n",
      "---  ------  --------------  ----- \n",
      " 0   자치구     25 non-null     object\n",
      " 1   발생 횟수   25 non-null     int64 \n",
      "dtypes: int64(1), object(1)\n",
      "memory usage: 528.0+ bytes\n"
     ]
    }
   ],
   "source": [
    "df['발생 횟수'] = df['발생 횟수'].astype(int)\n",
    "df.info()"
   ]
  },
  {
   "cell_type": "code",
   "execution_count": null,
   "id": "10461f7f",
   "metadata": {},
   "outputs": [],
   "source": [
    "df_sorted = df.sort_values(by='발생 횟수', ascending=False)"
   ]
  },
  {
   "cell_type": "code",
   "execution_count": null,
   "id": "1d72ffba",
   "metadata": {},
   "outputs": [
    {
     "data": {
      "application/vnd.plotly.v1+json": {
       "config": {
        "plotlyServerURL": "https://plot.ly"
       },
       "data": [
        {
         "hovertemplate": "구=%{x}<br>발생 건수=%{marker.color}<extra></extra>",
         "legendgroup": "",
         "marker": {
          "color": {
           "bdata": "axpnFKESqhFCEcgQ+g6ZDu8NpQ1gDUYNFA38DM0LywulC40LUgrBCWsJUQnACOcHgQc=",
           "dtype": "i2"
          },
          "coloraxis": "coloraxis",
          "pattern": {
           "shape": ""
          }
         },
         "name": "",
         "orientation": "v",
         "showlegend": false,
         "textposition": "auto",
         "type": "bar",
         "x": [
          "강남구",
          "송파구",
          "관악구",
          "서초구",
          "영등포구",
          "강서구",
          "마포구",
          "구로구",
          "노원구",
          "은평구",
          "광진구",
          "강동구",
          "중구",
          "중랑구",
          "용산구",
          "양천구",
          "종로구",
          "동대문구",
          "동작구",
          "강북구",
          "성북구",
          "서대문구",
          "금천구",
          "성동구",
          "도봉구"
         ],
         "xaxis": "x",
         "y": {
          "bdata": "axpnFKESqhFCEcgQ+g6ZDu8NpQ1gDUYNFA38DM0LywulC40LUgrBCWsJUQnACOcHgQc=",
          "dtype": "i2"
         },
         "yaxis": "y"
        }
       ],
       "layout": {
        "barmode": "relative",
        "coloraxis": {
         "colorbar": {
          "title": {
           "text": "발생 건수"
          }
         },
         "colorscale": [
          [
           0,
           "#00224e"
          ],
          [
           0.1111111111111111,
           "#123570"
          ],
          [
           0.2222222222222222,
           "#3b496c"
          ],
          [
           0.3333333333333333,
           "#575d6d"
          ],
          [
           0.4444444444444444,
           "#707173"
          ],
          [
           0.5555555555555556,
           "#8a8678"
          ],
          [
           0.6666666666666666,
           "#a59c74"
          ],
          [
           0.7777777777777778,
           "#c3b369"
          ],
          [
           0.8888888888888888,
           "#e1cc55"
          ],
          [
           1,
           "#fee838"
          ]
         ]
        },
        "legend": {
         "tracegroupgap": 0
        },
        "template": {
         "data": {
          "bar": [
           {
            "error_x": {
             "color": "#2a3f5f"
            },
            "error_y": {
             "color": "#2a3f5f"
            },
            "marker": {
             "line": {
              "color": "#E5ECF6",
              "width": 0.5
             },
             "pattern": {
              "fillmode": "overlay",
              "size": 10,
              "solidity": 0.2
             }
            },
            "type": "bar"
           }
          ],
          "barpolar": [
           {
            "marker": {
             "line": {
              "color": "#E5ECF6",
              "width": 0.5
             },
             "pattern": {
              "fillmode": "overlay",
              "size": 10,
              "solidity": 0.2
             }
            },
            "type": "barpolar"
           }
          ],
          "carpet": [
           {
            "aaxis": {
             "endlinecolor": "#2a3f5f",
             "gridcolor": "white",
             "linecolor": "white",
             "minorgridcolor": "white",
             "startlinecolor": "#2a3f5f"
            },
            "baxis": {
             "endlinecolor": "#2a3f5f",
             "gridcolor": "white",
             "linecolor": "white",
             "minorgridcolor": "white",
             "startlinecolor": "#2a3f5f"
            },
            "type": "carpet"
           }
          ],
          "choropleth": [
           {
            "colorbar": {
             "outlinewidth": 0,
             "ticks": ""
            },
            "type": "choropleth"
           }
          ],
          "contour": [
           {
            "colorbar": {
             "outlinewidth": 0,
             "ticks": ""
            },
            "colorscale": [
             [
              0,
              "#0d0887"
             ],
             [
              0.1111111111111111,
              "#46039f"
             ],
             [
              0.2222222222222222,
              "#7201a8"
             ],
             [
              0.3333333333333333,
              "#9c179e"
             ],
             [
              0.4444444444444444,
              "#bd3786"
             ],
             [
              0.5555555555555556,
              "#d8576b"
             ],
             [
              0.6666666666666666,
              "#ed7953"
             ],
             [
              0.7777777777777778,
              "#fb9f3a"
             ],
             [
              0.8888888888888888,
              "#fdca26"
             ],
             [
              1,
              "#f0f921"
             ]
            ],
            "type": "contour"
           }
          ],
          "contourcarpet": [
           {
            "colorbar": {
             "outlinewidth": 0,
             "ticks": ""
            },
            "type": "contourcarpet"
           }
          ],
          "heatmap": [
           {
            "colorbar": {
             "outlinewidth": 0,
             "ticks": ""
            },
            "colorscale": [
             [
              0,
              "#0d0887"
             ],
             [
              0.1111111111111111,
              "#46039f"
             ],
             [
              0.2222222222222222,
              "#7201a8"
             ],
             [
              0.3333333333333333,
              "#9c179e"
             ],
             [
              0.4444444444444444,
              "#bd3786"
             ],
             [
              0.5555555555555556,
              "#d8576b"
             ],
             [
              0.6666666666666666,
              "#ed7953"
             ],
             [
              0.7777777777777778,
              "#fb9f3a"
             ],
             [
              0.8888888888888888,
              "#fdca26"
             ],
             [
              1,
              "#f0f921"
             ]
            ],
            "type": "heatmap"
           }
          ],
          "histogram": [
           {
            "marker": {
             "pattern": {
              "fillmode": "overlay",
              "size": 10,
              "solidity": 0.2
             }
            },
            "type": "histogram"
           }
          ],
          "histogram2d": [
           {
            "colorbar": {
             "outlinewidth": 0,
             "ticks": ""
            },
            "colorscale": [
             [
              0,
              "#0d0887"
             ],
             [
              0.1111111111111111,
              "#46039f"
             ],
             [
              0.2222222222222222,
              "#7201a8"
             ],
             [
              0.3333333333333333,
              "#9c179e"
             ],
             [
              0.4444444444444444,
              "#bd3786"
             ],
             [
              0.5555555555555556,
              "#d8576b"
             ],
             [
              0.6666666666666666,
              "#ed7953"
             ],
             [
              0.7777777777777778,
              "#fb9f3a"
             ],
             [
              0.8888888888888888,
              "#fdca26"
             ],
             [
              1,
              "#f0f921"
             ]
            ],
            "type": "histogram2d"
           }
          ],
          "histogram2dcontour": [
           {
            "colorbar": {
             "outlinewidth": 0,
             "ticks": ""
            },
            "colorscale": [
             [
              0,
              "#0d0887"
             ],
             [
              0.1111111111111111,
              "#46039f"
             ],
             [
              0.2222222222222222,
              "#7201a8"
             ],
             [
              0.3333333333333333,
              "#9c179e"
             ],
             [
              0.4444444444444444,
              "#bd3786"
             ],
             [
              0.5555555555555556,
              "#d8576b"
             ],
             [
              0.6666666666666666,
              "#ed7953"
             ],
             [
              0.7777777777777778,
              "#fb9f3a"
             ],
             [
              0.8888888888888888,
              "#fdca26"
             ],
             [
              1,
              "#f0f921"
             ]
            ],
            "type": "histogram2dcontour"
           }
          ],
          "mesh3d": [
           {
            "colorbar": {
             "outlinewidth": 0,
             "ticks": ""
            },
            "type": "mesh3d"
           }
          ],
          "parcoords": [
           {
            "line": {
             "colorbar": {
              "outlinewidth": 0,
              "ticks": ""
             }
            },
            "type": "parcoords"
           }
          ],
          "pie": [
           {
            "automargin": true,
            "type": "pie"
           }
          ],
          "scatter": [
           {
            "fillpattern": {
             "fillmode": "overlay",
             "size": 10,
             "solidity": 0.2
            },
            "type": "scatter"
           }
          ],
          "scatter3d": [
           {
            "line": {
             "colorbar": {
              "outlinewidth": 0,
              "ticks": ""
             }
            },
            "marker": {
             "colorbar": {
              "outlinewidth": 0,
              "ticks": ""
             }
            },
            "type": "scatter3d"
           }
          ],
          "scattercarpet": [
           {
            "marker": {
             "colorbar": {
              "outlinewidth": 0,
              "ticks": ""
             }
            },
            "type": "scattercarpet"
           }
          ],
          "scattergeo": [
           {
            "marker": {
             "colorbar": {
              "outlinewidth": 0,
              "ticks": ""
             }
            },
            "type": "scattergeo"
           }
          ],
          "scattergl": [
           {
            "marker": {
             "colorbar": {
              "outlinewidth": 0,
              "ticks": ""
             }
            },
            "type": "scattergl"
           }
          ],
          "scattermap": [
           {
            "marker": {
             "colorbar": {
              "outlinewidth": 0,
              "ticks": ""
             }
            },
            "type": "scattermap"
           }
          ],
          "scattermapbox": [
           {
            "marker": {
             "colorbar": {
              "outlinewidth": 0,
              "ticks": ""
             }
            },
            "type": "scattermapbox"
           }
          ],
          "scatterpolar": [
           {
            "marker": {
             "colorbar": {
              "outlinewidth": 0,
              "ticks": ""
             }
            },
            "type": "scatterpolar"
           }
          ],
          "scatterpolargl": [
           {
            "marker": {
             "colorbar": {
              "outlinewidth": 0,
              "ticks": ""
             }
            },
            "type": "scatterpolargl"
           }
          ],
          "scatterternary": [
           {
            "marker": {
             "colorbar": {
              "outlinewidth": 0,
              "ticks": ""
             }
            },
            "type": "scatterternary"
           }
          ],
          "surface": [
           {
            "colorbar": {
             "outlinewidth": 0,
             "ticks": ""
            },
            "colorscale": [
             [
              0,
              "#0d0887"
             ],
             [
              0.1111111111111111,
              "#46039f"
             ],
             [
              0.2222222222222222,
              "#7201a8"
             ],
             [
              0.3333333333333333,
              "#9c179e"
             ],
             [
              0.4444444444444444,
              "#bd3786"
             ],
             [
              0.5555555555555556,
              "#d8576b"
             ],
             [
              0.6666666666666666,
              "#ed7953"
             ],
             [
              0.7777777777777778,
              "#fb9f3a"
             ],
             [
              0.8888888888888888,
              "#fdca26"
             ],
             [
              1,
              "#f0f921"
             ]
            ],
            "type": "surface"
           }
          ],
          "table": [
           {
            "cells": {
             "fill": {
              "color": "#EBF0F8"
             },
             "line": {
              "color": "white"
             }
            },
            "header": {
             "fill": {
              "color": "#C8D4E3"
             },
             "line": {
              "color": "white"
             }
            },
            "type": "table"
           }
          ]
         },
         "layout": {
          "annotationdefaults": {
           "arrowcolor": "#2a3f5f",
           "arrowhead": 0,
           "arrowwidth": 1
          },
          "autotypenumbers": "strict",
          "coloraxis": {
           "colorbar": {
            "outlinewidth": 0,
            "ticks": ""
           }
          },
          "colorscale": {
           "diverging": [
            [
             0,
             "#8e0152"
            ],
            [
             0.1,
             "#c51b7d"
            ],
            [
             0.2,
             "#de77ae"
            ],
            [
             0.3,
             "#f1b6da"
            ],
            [
             0.4,
             "#fde0ef"
            ],
            [
             0.5,
             "#f7f7f7"
            ],
            [
             0.6,
             "#e6f5d0"
            ],
            [
             0.7,
             "#b8e186"
            ],
            [
             0.8,
             "#7fbc41"
            ],
            [
             0.9,
             "#4d9221"
            ],
            [
             1,
             "#276419"
            ]
           ],
           "sequential": [
            [
             0,
             "#0d0887"
            ],
            [
             0.1111111111111111,
             "#46039f"
            ],
            [
             0.2222222222222222,
             "#7201a8"
            ],
            [
             0.3333333333333333,
             "#9c179e"
            ],
            [
             0.4444444444444444,
             "#bd3786"
            ],
            [
             0.5555555555555556,
             "#d8576b"
            ],
            [
             0.6666666666666666,
             "#ed7953"
            ],
            [
             0.7777777777777778,
             "#fb9f3a"
            ],
            [
             0.8888888888888888,
             "#fdca26"
            ],
            [
             1,
             "#f0f921"
            ]
           ],
           "sequentialminus": [
            [
             0,
             "#0d0887"
            ],
            [
             0.1111111111111111,
             "#46039f"
            ],
            [
             0.2222222222222222,
             "#7201a8"
            ],
            [
             0.3333333333333333,
             "#9c179e"
            ],
            [
             0.4444444444444444,
             "#bd3786"
            ],
            [
             0.5555555555555556,
             "#d8576b"
            ],
            [
             0.6666666666666666,
             "#ed7953"
            ],
            [
             0.7777777777777778,
             "#fb9f3a"
            ],
            [
             0.8888888888888888,
             "#fdca26"
            ],
            [
             1,
             "#f0f921"
            ]
           ]
          },
          "colorway": [
           "#636efa",
           "#EF553B",
           "#00cc96",
           "#ab63fa",
           "#FFA15A",
           "#19d3f3",
           "#FF6692",
           "#B6E880",
           "#FF97FF",
           "#FECB52"
          ],
          "font": {
           "color": "#2a3f5f"
          },
          "geo": {
           "bgcolor": "white",
           "lakecolor": "white",
           "landcolor": "#E5ECF6",
           "showlakes": true,
           "showland": true,
           "subunitcolor": "white"
          },
          "hoverlabel": {
           "align": "left"
          },
          "hovermode": "closest",
          "mapbox": {
           "style": "light"
          },
          "paper_bgcolor": "white",
          "plot_bgcolor": "#E5ECF6",
          "polar": {
           "angularaxis": {
            "gridcolor": "white",
            "linecolor": "white",
            "ticks": ""
           },
           "bgcolor": "#E5ECF6",
           "radialaxis": {
            "gridcolor": "white",
            "linecolor": "white",
            "ticks": ""
           }
          },
          "scene": {
           "xaxis": {
            "backgroundcolor": "#E5ECF6",
            "gridcolor": "white",
            "gridwidth": 2,
            "linecolor": "white",
            "showbackground": true,
            "ticks": "",
            "zerolinecolor": "white"
           },
           "yaxis": {
            "backgroundcolor": "#E5ECF6",
            "gridcolor": "white",
            "gridwidth": 2,
            "linecolor": "white",
            "showbackground": true,
            "ticks": "",
            "zerolinecolor": "white"
           },
           "zaxis": {
            "backgroundcolor": "#E5ECF6",
            "gridcolor": "white",
            "gridwidth": 2,
            "linecolor": "white",
            "showbackground": true,
            "ticks": "",
            "zerolinecolor": "white"
           }
          },
          "shapedefaults": {
           "line": {
            "color": "#2a3f5f"
           }
          },
          "ternary": {
           "aaxis": {
            "gridcolor": "white",
            "linecolor": "white",
            "ticks": ""
           },
           "baxis": {
            "gridcolor": "white",
            "linecolor": "white",
            "ticks": ""
           },
           "bgcolor": "#E5ECF6",
           "caxis": {
            "gridcolor": "white",
            "linecolor": "white",
            "ticks": ""
           }
          },
          "title": {
           "x": 0.05
          },
          "xaxis": {
           "automargin": true,
           "gridcolor": "white",
           "linecolor": "white",
           "ticks": "",
           "title": {
            "standoff": 15
           },
           "zerolinecolor": "white",
           "zerolinewidth": 2
          },
          "yaxis": {
           "automargin": true,
           "gridcolor": "white",
           "linecolor": "white",
           "ticks": "",
           "title": {
            "standoff": 15
           },
           "zerolinecolor": "white",
           "zerolinewidth": 2
          }
         }
        },
        "title": {
         "text": "구별 범죄 발생 횟수"
        },
        "xaxis": {
         "anchor": "y",
         "domain": [
          0,
          1
         ],
         "title": {
          "text": "구"
         }
        },
        "yaxis": {
         "anchor": "x",
         "domain": [
          0,
          1
         ],
         "title": {
          "text": "발생 건수"
         }
        }
       }
      }
     },
     "metadata": {},
     "output_type": "display_data"
    }
   ],
   "source": [
    "# '발생 횟수'를 기준으로 색상을 적용하도록 color 인자를 추가합니다.\n",
    "fig = px.bar(df_sorted, x=\"자치구\", y=\"발생 횟수\",\n",
    "             title=\"구별 범죄 발생 횟수\",\n",
    "             labels={\"자치구\":\"구\", \"발생 횟수\":\"발생 건수\"},\n",
    "             color=\"발생 횟수\",\n",
    "             color_continuous_scale= px.colors.sequential.Viridis) # 오타 수정\n",
    "fig.show()"
   ]
  },
  {
   "cell_type": "code",
   "execution_count": 53,
   "id": "ae236431",
   "metadata": {},
   "outputs": [
    {
     "name": "stdout",
     "output_type": "stream",
     "text": [
      "--- 1. Matplotlib 그래프 생성 ---\n"
     ]
    },
    {
     "data": {
      "image/png": "[encoded data removed]",
      "text/plain": [
       "<Figure size 1500x800 with 1 Axes>"
      ]
     },
     "metadata": {},
     "output_type": "display_data"
    }
   ],
   "source": [
    "# 3. Matplotlib으로 막대 그래프 그리기\n",
    "print(\"--- 1. Matplotlib 그래프 생성 ---\")\n",
    "plt.figure(figsize=(15, 8))\n",
    "plt.bar(df_sorted['자치구'], df_sorted['발생 횟수'], color='skyblue')\n",
    "plt.title('자치구별 발생 횟수 (Matplotlib)', fontsize=20)\n",
    "plt.xlabel('자치구', fontsize=12)\n",
    "plt.ylabel('발생 횟수', fontsize=12)\n",
    "plt.xticks(rotation=45) # x축 라벨 45도 회전\n",
    "plt.grid(axis='y', linestyle='--', alpha=0.7)\n",
    "plt.tight_layout() # 레이아웃 최적화\n",
    "plt.show()"
   ]
  },
  {
   "cell_type": "code",
   "execution_count": 54,
   "id": "e9edbdd0",
   "metadata": {},
   "outputs": [
    {
     "name": "stderr",
     "output_type": "stream",
     "text": [
      "C:\\Users\\Admin\\AppData\\Local\\Temp\\ipykernel_3744\\1317513698.py:2: FutureWarning:\n",
      "\n",
      "\n",
      "\n",
      "Passing `palette` without assigning `hue` is deprecated and will be removed in v0.14.0. Assign the `x` variable to `hue` and set `legend=False` for the same effect.\n",
      "\n",
      "\n"
     ]
    },
    {
     "data": {
      "image/png": "[encoded data removed]",
      "text/plain": [
       "<Figure size 1500x800 with 1 Axes>"
      ]
     },
     "metadata": {},
     "output_type": "display_data"
    }
   ],
   "source": [
    "plt.figure(figsize=(15, 8))\n",
    "sns.barplot(x='자치구', y='발생 횟수', data=df_sorted, palette='viridis')\n",
    "plt.title('자치구별 발생 횟수 (Seaborn)', fontsize=20)\n",
    "plt.xlabel('자치구', fontsize=12)\n",
    "plt.ylabel('발생 횟수', fontsize=12)\n",
    "plt.xticks(rotation=45)\n",
    "plt.grid(axis='y', linestyle='--', alpha=0.7)\n",
    "plt.tight_layout()\n",
    "plt.show()"
   ]
  },
  {
   "cell_type": "code",
   "execution_count": 76,
   "id": "73f7bb6c",
   "metadata": {},
   "outputs": [
    {
     "name": "stdout",
     "output_type": "stream",
     "text": [
      "\n",
      "--- 3. Plotly.graph_objects 그래프 생성 ---\n"
     ]
    },
    {
     "data": {
      "application/vnd.plotly.v1+json": {
       "config": {
        "plotlyServerURL": "https://plot.ly"
       },
       "data": [
        {
         "marker": {
          "color": "indianred"
         },
         "text": {
          "bdata": "AAAAAABrukAAAAAAAGe0QAAAAAAAobJAAAAAAACqsUAAAAAAAEKxQAAAAAAAyLBAAAAAAAD0rUAAAAAAADKtQAAAAAAA3qtAAAAAAABKq0AAAAAAAMCqQAAAAAAAjKpAAAAAAAAoqkAAAAAAAPipQAAAAAAAmqdAAAAAAACWp0AAAAAAAEqnQAAAAAAAGqdAAAAAAACkpEAAAAAAAIKjQAAAAAAA1qJAAAAAAACiokAAAAAAAIChQAAAAAAAnJ9AAAAAAAAEnkA=",
          "dtype": "f8"
         },
         "textposition": "auto",
         "type": "bar",
         "x": [
          "강남구",
          "송파구",
          "관악구",
          "서초구",
          "영등포구",
          "강서구",
          "마포구",
          "구로구",
          "노원구",
          "은평구",
          "광진구",
          "강동구",
          "중구",
          "중랑구",
          "용산구",
          "양천구",
          "종로구",
          "동대문구",
          "동작구",
          "강북구",
          "성북구",
          "서대문구",
          "금천구",
          "성동구",
          "도봉구"
         ],
         "y": {
          "bdata": "axpnFKESqhFCEcgQ+g6ZDu8NpQ1gDUYNFA38DM0LywulC40LUgrBCWsJUQnACOcHgQc=",
          "dtype": "i2"
         }
        }
       ],
       "layout": {
        "font": {
         "family": "Malgun Gothic, AppleGothic, NanumGothic, sans-serif",
         "size": 12
        },
        "plot_bgcolor": "rgba(0,0,0,0)",
        "template": {
         "data": {
          "bar": [
           {
            "error_x": {
             "color": "#2a3f5f"
            },
            "error_y": {
             "color": "#2a3f5f"
            },
            "marker": {
             "line": {
              "color": "#E5ECF6",
              "width": 0.5
             },
             "pattern": {
              "fillmode": "overlay",
              "size": 10,
              "solidity": 0.2
             }
            },
            "type": "bar"
           }
          ],
          "barpolar": [
           {
            "marker": {
             "line": {
              "color": "#E5ECF6",
              "width": 0.5
             },
             "pattern": {
              "fillmode": "overlay",
              "size": 10,
              "solidity": 0.2
             }
            },
            "type": "barpolar"
           }
          ],
          "carpet": [
           {
            "aaxis": {
             "endlinecolor": "#2a3f5f",
             "gridcolor": "white",
             "linecolor": "white",
             "minorgridcolor": "white",
             "startlinecolor": "#2a3f5f"
            },
            "baxis": {
             "endlinecolor": "#2a3f5f",
             "gridcolor": "white",
             "linecolor": "white",
             "minorgridcolor": "white",
             "startlinecolor": "#2a3f5f"
            },
            "type": "carpet"
           }
          ],
          "choropleth": [
           {
            "colorbar": {
             "outlinewidth": 0,
             "ticks": ""
            },
            "type": "choropleth"
           }
          ],
          "contour": [
           {
            "colorbar": {
             "outlinewidth": 0,
             "ticks": ""
            },
            "colorscale": [
             [
              0,
              "#0d0887"
             ],
             [
              0.1111111111111111,
              "#46039f"
             ],
             [
              0.2222222222222222,
              "#7201a8"
             ],
             [
              0.3333333333333333,
              "#9c179e"
             ],
             [
              0.4444444444444444,
              "#bd3786"
             ],
             [
              0.5555555555555556,
              "#d8576b"
             ],
             [
              0.6666666666666666,
              "#ed7953"
             ],
             [
              0.7777777777777778,
              "#fb9f3a"
             ],
             [
              0.8888888888888888,
              "#fdca26"
             ],
             [
              1,
              "#f0f921"
             ]
            ],
            "type": "contour"
           }
          ],
          "contourcarpet": [
           {
            "colorbar": {
             "outlinewidth": 0,
             "ticks": ""
            },
            "type": "contourcarpet"
           }
          ],
          "heatmap": [
           {
            "colorbar": {
             "outlinewidth": 0,
             "ticks": ""
            },
            "colorscale": [
             [
              0,
              "#0d0887"
             ],
             [
              0.1111111111111111,
              "#46039f"
             ],
             [
              0.2222222222222222,
              "#7201a8"
             ],
             [
              0.3333333333333333,
              "#9c179e"
             ],
             [
              0.4444444444444444,
              "#bd3786"
             ],
             [
              0.5555555555555556,
              "#d8576b"
             ],
             [
              0.6666666666666666,
              "#ed7953"
             ],
             [
              0.7777777777777778,
              "#fb9f3a"
             ],
             [
              0.8888888888888888,
              "#fdca26"
             ],
             [
              1,
              "#f0f921"
             ]
            ],
            "type": "heatmap"
           }
          ],
          "histogram": [
           {
            "marker": {
             "pattern": {
              "fillmode": "overlay",
              "size": 10,
              "solidity": 0.2
             }
            },
            "type": "histogram"
           }
          ],
          "histogram2d": [
           {
            "colorbar": {
             "outlinewidth": 0,
             "ticks": ""
            },
            "colorscale": [
             [
              0,
              "#0d0887"
             ],
             [
              0.1111111111111111,
              "#46039f"
             ],
             [
              0.2222222222222222,
              "#7201a8"
             ],
             [
              0.3333333333333333,
              "#9c179e"
             ],
             [
              0.4444444444444444,
              "#bd3786"
             ],
             [
              0.5555555555555556,
              "#d8576b"
             ],
             [
              0.6666666666666666,
              "#ed7953"
             ],
             [
              0.7777777777777778,
              "#fb9f3a"
             ],
             [
              0.8888888888888888,
              "#fdca26"
             ],
             [
              1,
              "#f0f921"
             ]
            ],
            "type": "histogram2d"
           }
          ],
          "histogram2dcontour": [
           {
            "colorbar": {
             "outlinewidth": 0,
             "ticks": ""
            },
            "colorscale": [
             [
              0,
              "#0d0887"
             ],
             [
              0.1111111111111111,
              "#46039f"
             ],
             [
              0.2222222222222222,
              "#7201a8"
             ],
             [
              0.3333333333333333,
              "#9c179e"
             ],
             [
              0.4444444444444444,
              "#bd3786"
             ],
             [
              0.5555555555555556,
              "#d8576b"
             ],
             [
              0.6666666666666666,
              "#ed7953"
             ],
             [
              0.7777777777777778,
              "#fb9f3a"
             ],
             [
              0.8888888888888888,
              "#fdca26"
             ],
             [
              1,
              "#f0f921"
             ]
            ],
            "type": "histogram2dcontour"
           }
          ],
          "mesh3d": [
           {
            "colorbar": {
             "outlinewidth": 0,
             "ticks": ""
            },
            "type": "mesh3d"
           }
          ],
          "parcoords": [
           {
            "line": {
             "colorbar": {
              "outlinewidth": 0,
              "ticks": ""
             }
            },
            "type": "parcoords"
           }
          ],
          "pie": [
           {
            "automargin": true,
            "type": "pie"
           }
          ],
          "scatter": [
           {
            "fillpattern": {
             "fillmode": "overlay",
             "size": 10,
             "solidity": 0.2
            },
            "type": "scatter"
           }
          ],
          "scatter3d": [
           {
            "line": {
             "colorbar": {
              "outlinewidth": 0,
              "ticks": ""
             }
            },
            "marker": {
             "colorbar": {
              "outlinewidth": 0,
              "ticks": ""
             }
            },
            "type": "scatter3d"
           }
          ],
          "scattercarpet": [
           {
            "marker": {
             "colorbar": {
              "outlinewidth": 0,
              "ticks": ""
             }
            },
            "type": "scattercarpet"
           }
          ],
          "scattergeo": [
           {
            "marker": {
             "colorbar": {
              "outlinewidth": 0,
              "ticks": ""
             }
            },
            "type": "scattergeo"
           }
          ],
          "scattergl": [
           {
            "marker": {
             "colorbar": {
              "outlinewidth": 0,
              "ticks": ""
             }
            },
            "type": "scattergl"
           }
          ],
          "scattermap": [
           {
            "marker": {
             "colorbar": {
              "outlinewidth": 0,
              "ticks": ""
             }
            },
            "type": "scattermap"
           }
          ],
          "scattermapbox": [
           {
            "marker": {
             "colorbar": {
              "outlinewidth": 0,
              "ticks": ""
             }
            },
            "type": "scattermapbox"
           }
          ],
          "scatterpolar": [
           {
            "marker": {
             "colorbar": {
              "outlinewidth": 0,
              "ticks": ""
             }
            },
            "type": "scatterpolar"
           }
          ],
          "scatterpolargl": [
           {
            "marker": {
             "colorbar": {
              "outlinewidth": 0,
              "ticks": ""
             }
            },
            "type": "scatterpolargl"
           }
          ],
          "scatterternary": [
           {
            "marker": {
             "colorbar": {
              "outlinewidth": 0,
              "ticks": ""
             }
            },
            "type": "scatterternary"
           }
          ],
          "surface": [
           {
            "colorbar": {
             "outlinewidth": 0,
             "ticks": ""
            },
            "colorscale": [
             [
              0,
              "#0d0887"
             ],
             [
              0.1111111111111111,
              "#46039f"
             ],
             [
              0.2222222222222222,
              "#7201a8"
             ],
             [
              0.3333333333333333,
              "#9c179e"
             ],
             [
              0.4444444444444444,
              "#bd3786"
             ],
             [
              0.5555555555555556,
              "#d8576b"
             ],
             [
              0.6666666666666666,
              "#ed7953"
             ],
             [
              0.7777777777777778,
              "#fb9f3a"
             ],
             [
              0.8888888888888888,
              "#fdca26"
             ],
             [
              1,
              "#f0f921"
             ]
            ],
            "type": "surface"
           }
          ],
          "table": [
           {
            "cells": {
             "fill": {
              "color": "#EBF0F8"
             },
             "line": {
              "color": "white"
             }
            },
            "header": {
             "fill": {
              "color": "#C8D4E3"
             },
             "line": {
              "color": "white"
             }
            },
            "type": "table"
           }
          ]
         },
         "layout": {
          "annotationdefaults": {
           "arrowcolor": "#2a3f5f",
           "arrowhead": 0,
           "arrowwidth": 1
          },
          "autotypenumbers": "strict",
          "coloraxis": {
           "colorbar": {
            "outlinewidth": 0,
            "ticks": ""
           }
          },
          "colorscale": {
           "diverging": [
            [
             0,
             "#8e0152"
            ],
            [
             0.1,
             "#c51b7d"
            ],
            [
             0.2,
             "#de77ae"
            ],
            [
             0.3,
             "#f1b6da"
            ],
            [
             0.4,
             "#fde0ef"
            ],
            [
             0.5,
             "#f7f7f7"
            ],
            [
             0.6,
             "#e6f5d0"
            ],
            [
             0.7,
             "#b8e186"
            ],
            [
             0.8,
             "#7fbc41"
            ],
            [
             0.9,
             "#4d9221"
            ],
            [
             1,
             "#276419"
            ]
           ],
           "sequential": [
            [
             0,
             "#0d0887"
            ],
            [
             0.1111111111111111,
             "#46039f"
            ],
            [
             0.2222222222222222,
             "#7201a8"
            ],
            [
             0.3333333333333333,
             "#9c179e"
            ],
            [
             0.4444444444444444,
             "#bd3786"
            ],
            [
             0.5555555555555556,
             "#d8576b"
            ],
            [
             0.6666666666666666,
             "#ed7953"
            ],
            [
             0.7777777777777778,
             "#fb9f3a"
            ],
            [
             0.8888888888888888,
             "#fdca26"
            ],
            [
             1,
             "#f0f921"
            ]
           ],
           "sequentialminus": [
            [
             0,
             "#0d0887"
            ],
            [
             0.1111111111111111,
             "#46039f"
            ],
            [
             0.2222222222222222,
             "#7201a8"
            ],
            [
             0.3333333333333333,
             "#9c179e"
            ],
            [
             0.4444444444444444,
             "#bd3786"
            ],
            [
             0.5555555555555556,
             "#d8576b"
            ],
            [
             0.6666666666666666,
             "#ed7953"
            ],
            [
             0.7777777777777778,
             "#fb9f3a"
            ],
            [
             0.8888888888888888,
             "#fdca26"
            ],
            [
             1,
             "#f0f921"
            ]
           ]
          },
          "colorway": [
           "#636efa",
           "#EF553B",
           "#00cc96",
           "#ab63fa",
           "#FFA15A",
           "#19d3f3",
           "#FF6692",
           "#B6E880",
           "#FF97FF",
           "#FECB52"
          ],
          "font": {
           "color": "#2a3f5f"
          },
          "geo": {
           "bgcolor": "white",
           "lakecolor": "white",
           "landcolor": "#E5ECF6",
           "showlakes": true,
           "showland": true,
           "subunitcolor": "white"
          },
          "hoverlabel": {
           "align": "left"
          },
          "hovermode": "closest",
          "mapbox": {
           "style": "light"
          },
          "paper_bgcolor": "white",
          "plot_bgcolor": "#E5ECF6",
          "polar": {
           "angularaxis": {
            "gridcolor": "white",
            "linecolor": "white",
            "ticks": ""
           },
           "bgcolor": "#E5ECF6",
           "radialaxis": {
            "gridcolor": "white",
            "linecolor": "white",
            "ticks": ""
           }
          },
          "scene": {
           "xaxis": {
            "backgroundcolor": "#E5ECF6",
            "gridcolor": "white",
            "gridwidth": 2,
            "linecolor": "white",
            "showbackground": true,
            "ticks": "",
            "zerolinecolor": "white"
           },
           "yaxis": {
            "backgroundcolor": "#E5ECF6",
            "gridcolor": "white",
            "gridwidth": 2,
            "linecolor": "white",
            "showbackground": true,
            "ticks": "",
            "zerolinecolor": "white"
           },
           "zaxis": {
            "backgroundcolor": "#E5ECF6",
            "gridcolor": "white",
            "gridwidth": 2,
            "linecolor": "white",
            "showbackground": true,
            "ticks": "",
            "zerolinecolor": "white"
           }
          },
          "shapedefaults": {
           "line": {
            "color": "#2a3f5f"
           }
          },
          "ternary": {
           "aaxis": {
            "gridcolor": "white",
            "linecolor": "white",
            "ticks": ""
           },
           "baxis": {
            "gridcolor": "white",
            "linecolor": "white",
            "ticks": ""
           },
           "bgcolor": "#E5ECF6",
           "caxis": {
            "gridcolor": "white",
            "linecolor": "white",
            "ticks": ""
           }
          },
          "title": {
           "x": 0.05
          },
          "xaxis": {
           "automargin": true,
           "gridcolor": "white",
           "linecolor": "white",
           "ticks": "",
           "title": {
            "standoff": 15
           },
           "zerolinecolor": "white",
           "zerolinewidth": 2
          },
          "yaxis": {
           "automargin": true,
           "gridcolor": "white",
           "linecolor": "white",
           "ticks": "",
           "title": {
            "standoff": 15
           },
           "zerolinecolor": "white",
           "zerolinewidth": 2
          }
         }
        },
        "title": {
         "font": {
          "size": 24
         },
         "text": "<b>자치구별 발생 횟수 (Plotly)</b>",
         "x": 0.5,
         "xanchor": "center",
         "y": 0.9,
         "yanchor": "top"
        },
        "xaxis": {
         "tickangle": -45,
         "title": {
          "text": "자치구"
         }
        },
        "yaxis": {
         "gridcolor": "lightgrey",
         "title": {
          "text": "발생 횟수"
         }
        }
       }
      }
     },
     "metadata": {},
     "output_type": "display_data"
    }
   ],
   "source": [
    "# 5. Plotly.graph_objects로 인터랙티브 막대 그래프 그리기\n",
    "# Plotly는 기본적으로 유니코드(한글 포함)를 잘 지원하여 별도 설정이 필요 없는 경우가 많습니다.\n",
    "print(\"\\n--- 3. Plotly.graph_objects 그래프 생성 ---\")\n",
    "fig = go.Figure()\n",
    "\n",
    "fig.add_trace(go.Bar(\n",
    "    x=df_sorted['자치구'],\n",
    "    y=df_sorted['발생 횟수'],\n",
    "    marker_color='indianred',\n",
    "    text=df_sorted['발생 횟수'],\n",
    "    textposition='auto',\n",
    "))\n",
    "\n",
    "fig.update_layout(\n",
    "    title={\n",
    "        'text': '<b>자치구별 발생 횟수 (Plotly)</b>',\n",
    "        'y':0.9,\n",
    "        'x':0.5,\n",
    "        'xanchor': 'center',\n",
    "        'yanchor': 'top',\n",
    "        'font': {'size': 24}\n",
    "    },\n",
    "    xaxis_title='자치구',\n",
    "    yaxis_title='발생 횟수',\n",
    "    xaxis_tickangle=-45,\n",
    "    font=dict(\n",
    "        family=\"Malgun Gothic, AppleGothic, NanumGothic, sans-serif\", # 시스템에 맞는 폰트 우선 적용\n",
    "        size=12\n",
    "    ),\n",
    "    plot_bgcolor='rgba(0,0,0,0)', # 배경 투명\n",
    "    yaxis=dict(gridcolor='lightgrey'), # y축 그리드 색상\n",
    ")\n",
    "\n",
    "fig.show()\n"
   ]
  },
  {
   "cell_type": "markdown",
   "id": "e86c348f",
   "metadata": {},
   "source": [
    "# df_year"
   ]
  },
  {
   "cell_type": "code",
   "execution_count": 91,
   "id": "7c5b66fe",
   "metadata": {},
   "outputs": [],
   "source": [
    "# 데이터 불러오기\n",
    "df_year = pd.read_csv(\"data/crime2.csv\")  # CSV 파일 경로"
   ]
  },
  {
   "cell_type": "code",
   "execution_count": 92,
   "id": "da046d40",
   "metadata": {},
   "outputs": [
    {
     "data": {
      "text/html": [
       "<div>\n",
       "<style scoped>\n",
       "    .dataframe tbody tr th:only-of-type {\n",
       "        vertical-align: middle;\n",
       "    }\n",
       "\n",
       "    .dataframe tbody tr th {\n",
       "        vertical-align: top;\n",
       "    }\n",
       "\n",
       "    .dataframe thead th {\n",
       "        text-align: right;\n",
       "    }\n",
       "</style>\n",
       "<table border=\"1\" class=\"dataframe\">\n",
       "  <thead>\n",
       "    <tr style=\"text-align: right;\">\n",
       "      <th></th>\n",
       "      <th>자치구별</th>\n",
       "      <th>2019년</th>\n",
       "      <th>2020년</th>\n",
       "      <th>2021년</th>\n",
       "      <th>2022년</th>\n",
       "      <th>2023년</th>\n",
       "    </tr>\n",
       "  </thead>\n",
       "  <tbody>\n",
       "    <tr>\n",
       "      <th>0</th>\n",
       "      <td>종로구</td>\n",
       "      <td>3846</td>\n",
       "      <td>3102</td>\n",
       "      <td>2712</td>\n",
       "      <td>3138</td>\n",
       "      <td>2981</td>\n",
       "    </tr>\n",
       "    <tr>\n",
       "      <th>1</th>\n",
       "      <td>중구</td>\n",
       "      <td>4327</td>\n",
       "      <td>3411</td>\n",
       "      <td>2861</td>\n",
       "      <td>3071</td>\n",
       "      <td>3348</td>\n",
       "    </tr>\n",
       "    <tr>\n",
       "      <th>2</th>\n",
       "      <td>용산구</td>\n",
       "      <td>3313</td>\n",
       "      <td>2969</td>\n",
       "      <td>2381</td>\n",
       "      <td>2967</td>\n",
       "      <td>3021</td>\n",
       "    </tr>\n",
       "    <tr>\n",
       "      <th>3</th>\n",
       "      <td>성동구</td>\n",
       "      <td>2512</td>\n",
       "      <td>2362</td>\n",
       "      <td>2112</td>\n",
       "      <td>2194</td>\n",
       "      <td>2023</td>\n",
       "    </tr>\n",
       "    <tr>\n",
       "      <th>4</th>\n",
       "      <td>광진구</td>\n",
       "      <td>4011</td>\n",
       "      <td>3601</td>\n",
       "      <td>3087</td>\n",
       "      <td>3619</td>\n",
       "      <td>3424</td>\n",
       "    </tr>\n",
       "    <tr>\n",
       "      <th>5</th>\n",
       "      <td>동대문구</td>\n",
       "      <td>3692</td>\n",
       "      <td>3401</td>\n",
       "      <td>2959</td>\n",
       "      <td>3253</td>\n",
       "      <td>2957</td>\n",
       "    </tr>\n",
       "    <tr>\n",
       "      <th>6</th>\n",
       "      <td>중랑구</td>\n",
       "      <td>4268</td>\n",
       "      <td>3726</td>\n",
       "      <td>3210</td>\n",
       "      <td>3599</td>\n",
       "      <td>3324</td>\n",
       "    </tr>\n",
       "    <tr>\n",
       "      <th>7</th>\n",
       "      <td>성북구</td>\n",
       "      <td>2877</td>\n",
       "      <td>2567</td>\n",
       "      <td>2411</td>\n",
       "      <td>2749</td>\n",
       "      <td>2411</td>\n",
       "    </tr>\n",
       "    <tr>\n",
       "      <th>8</th>\n",
       "      <td>강북구</td>\n",
       "      <td>3838</td>\n",
       "      <td>2770</td>\n",
       "      <td>2301</td>\n",
       "      <td>2832</td>\n",
       "      <td>2497</td>\n",
       "    </tr>\n",
       "    <tr>\n",
       "      <th>9</th>\n",
       "      <td>도봉구</td>\n",
       "      <td>2110</td>\n",
       "      <td>2179</td>\n",
       "      <td>1860</td>\n",
       "      <td>2141</td>\n",
       "      <td>1921</td>\n",
       "    </tr>\n",
       "    <tr>\n",
       "      <th>10</th>\n",
       "      <td>노원구</td>\n",
       "      <td>4153</td>\n",
       "      <td>3743</td>\n",
       "      <td>3425</td>\n",
       "      <td>3896</td>\n",
       "      <td>3567</td>\n",
       "    </tr>\n",
       "    <tr>\n",
       "      <th>11</th>\n",
       "      <td>은평구</td>\n",
       "      <td>3880</td>\n",
       "      <td>3390</td>\n",
       "      <td>3244</td>\n",
       "      <td>3487</td>\n",
       "      <td>3493</td>\n",
       "    </tr>\n",
       "    <tr>\n",
       "      <th>12</th>\n",
       "      <td>서대문구</td>\n",
       "      <td>2943</td>\n",
       "      <td>2533</td>\n",
       "      <td>2278</td>\n",
       "      <td>2374</td>\n",
       "      <td>2385</td>\n",
       "    </tr>\n",
       "    <tr>\n",
       "      <th>13</th>\n",
       "      <td>마포구</td>\n",
       "      <td>4842</td>\n",
       "      <td>3688</td>\n",
       "      <td>3540</td>\n",
       "      <td>4096</td>\n",
       "      <td>3834</td>\n",
       "    </tr>\n",
       "    <tr>\n",
       "      <th>14</th>\n",
       "      <td>양천구</td>\n",
       "      <td>3214</td>\n",
       "      <td>3216</td>\n",
       "      <td>3015</td>\n",
       "      <td>3169</td>\n",
       "      <td>3019</td>\n",
       "    </tr>\n",
       "    <tr>\n",
       "      <th>15</th>\n",
       "      <td>강서구</td>\n",
       "      <td>4924</td>\n",
       "      <td>4415</td>\n",
       "      <td>3896</td>\n",
       "      <td>4663</td>\n",
       "      <td>4296</td>\n",
       "    </tr>\n",
       "    <tr>\n",
       "      <th>16</th>\n",
       "      <td>구로구</td>\n",
       "      <td>4707</td>\n",
       "      <td>4175</td>\n",
       "      <td>3486</td>\n",
       "      <td>3857</td>\n",
       "      <td>3737</td>\n",
       "    </tr>\n",
       "    <tr>\n",
       "      <th>17</th>\n",
       "      <td>금천구</td>\n",
       "      <td>3105</td>\n",
       "      <td>2598</td>\n",
       "      <td>2439</td>\n",
       "      <td>2577</td>\n",
       "      <td>2240</td>\n",
       "    </tr>\n",
       "    <tr>\n",
       "      <th>18</th>\n",
       "      <td>영등포구</td>\n",
       "      <td>5820</td>\n",
       "      <td>5217</td>\n",
       "      <td>4179</td>\n",
       "      <td>4819</td>\n",
       "      <td>4418</td>\n",
       "    </tr>\n",
       "    <tr>\n",
       "      <th>19</th>\n",
       "      <td>동작구</td>\n",
       "      <td>3400</td>\n",
       "      <td>3200</td>\n",
       "      <td>2631</td>\n",
       "      <td>2735</td>\n",
       "      <td>2642</td>\n",
       "    </tr>\n",
       "    <tr>\n",
       "      <th>20</th>\n",
       "      <td>관악구</td>\n",
       "      <td>5328</td>\n",
       "      <td>5261</td>\n",
       "      <td>4444</td>\n",
       "      <td>4879</td>\n",
       "      <td>4769</td>\n",
       "    </tr>\n",
       "    <tr>\n",
       "      <th>21</th>\n",
       "      <td>서초구</td>\n",
       "      <td>5542</td>\n",
       "      <td>4601</td>\n",
       "      <td>3656</td>\n",
       "      <td>4459</td>\n",
       "      <td>4522</td>\n",
       "    </tr>\n",
       "    <tr>\n",
       "      <th>22</th>\n",
       "      <td>강남구</td>\n",
       "      <td>7304</td>\n",
       "      <td>7356</td>\n",
       "      <td>6146</td>\n",
       "      <td>6947</td>\n",
       "      <td>6763</td>\n",
       "    </tr>\n",
       "    <tr>\n",
       "      <th>23</th>\n",
       "      <td>송파구</td>\n",
       "      <td>5698</td>\n",
       "      <td>5410</td>\n",
       "      <td>4714</td>\n",
       "      <td>5167</td>\n",
       "      <td>5223</td>\n",
       "    </tr>\n",
       "    <tr>\n",
       "      <th>24</th>\n",
       "      <td>강동구</td>\n",
       "      <td>4014</td>\n",
       "      <td>3788</td>\n",
       "      <td>3458</td>\n",
       "      <td>3711</td>\n",
       "      <td>3398</td>\n",
       "    </tr>\n",
       "  </tbody>\n",
       "</table>\n",
       "</div>"
      ],
      "text/plain": [
       "    자치구별  2019년  2020년  2021년  2022년  2023년\n",
       "0    종로구   3846   3102   2712   3138   2981\n",
       "1     중구   4327   3411   2861   3071   3348\n",
       "2    용산구   3313   2969   2381   2967   3021\n",
       "3    성동구   2512   2362   2112   2194   2023\n",
       "4    광진구   4011   3601   3087   3619   3424\n",
       "5   동대문구   3692   3401   2959   3253   2957\n",
       "6    중랑구   4268   3726   3210   3599   3324\n",
       "7    성북구   2877   2567   2411   2749   2411\n",
       "8    강북구   3838   2770   2301   2832   2497\n",
       "9    도봉구   2110   2179   1860   2141   1921\n",
       "10   노원구   4153   3743   3425   3896   3567\n",
       "11   은평구   3880   3390   3244   3487   3493\n",
       "12  서대문구   2943   2533   2278   2374   2385\n",
       "13   마포구   4842   3688   3540   4096   3834\n",
       "14   양천구   3214   3216   3015   3169   3019\n",
       "15   강서구   4924   4415   3896   4663   4296\n",
       "16   구로구   4707   4175   3486   3857   3737\n",
       "17   금천구   3105   2598   2439   2577   2240\n",
       "18  영등포구   5820   5217   4179   4819   4418\n",
       "19   동작구   3400   3200   2631   2735   2642\n",
       "20   관악구   5328   5261   4444   4879   4769\n",
       "21   서초구   5542   4601   3656   4459   4522\n",
       "22   강남구   7304   7356   6146   6947   6763\n",
       "23   송파구   5698   5410   4714   5167   5223\n",
       "24   강동구   4014   3788   3458   3711   3398"
      ]
     },
     "execution_count": 92,
     "metadata": {},
     "output_type": "execute_result"
    }
   ],
   "source": [
    "df_year"
   ]
  },
  {
   "cell_type": "code",
   "execution_count": 93,
   "id": "c147a80a",
   "metadata": {},
   "outputs": [
    {
     "name": "stdout",
     "output_type": "stream",
     "text": [
      "<class 'pandas.core.frame.DataFrame'>\n",
      "RangeIndex: 25 entries, 0 to 24\n",
      "Data columns (total 6 columns):\n",
      " #   Column  Non-Null Count  Dtype \n",
      "---  ------  --------------  ----- \n",
      " 0   자치구별    25 non-null     object\n",
      " 1   2019년   25 non-null     int64 \n",
      " 2   2020년   25 non-null     int64 \n",
      " 3   2021년   25 non-null     int64 \n",
      " 4   2022년   25 non-null     int64 \n",
      " 5   2023년   25 non-null     int64 \n",
      "dtypes: int64(5), object(1)\n",
      "memory usage: 1.3+ KB\n"
     ]
    }
   ],
   "source": [
    "df_year.info()"
   ]
  },
  {
   "cell_type": "code",
   "execution_count": 94,
   "id": "016a6dde",
   "metadata": {},
   "outputs": [
    {
     "name": "stdout",
     "output_type": "stream",
     "text": [
      "<class 'pandas.core.frame.DataFrame'>\n",
      "RangeIndex: 25 entries, 0 to 24\n",
      "Data columns (total 6 columns):\n",
      " #   Column  Non-Null Count  Dtype \n",
      "---  ------  --------------  ----- \n",
      " 0   자치구별    25 non-null     object\n",
      " 1   2019년   25 non-null     int64 \n",
      " 2   2020년   25 non-null     int64 \n",
      " 3   2021년   25 non-null     int64 \n",
      " 4   2022년   25 non-null     int64 \n",
      " 5   2023년   25 non-null     int64 \n",
      "dtypes: int64(5), object(1)\n",
      "memory usage: 1.3+ KB\n",
      "None\n"
     ]
    }
   ],
   "source": [
    "# 1. 타입을 변경할 컬럼 이름들을 리스트로 만듭니다.\n",
    "columns_to_convert = ['2019년', '2020년', '2021년', '2022년', '2023년']\n",
    "\n",
    "# 2. for 반복문을 사용해 df_year의 각 컬럼 타입을 int로 변경합니다.\n",
    "for column in columns_to_convert:\n",
    "    df_year[column] = pd.to_numeric(df_year[column])\n",
    "\n",
    "# 3. 변경된 데이터 타입을 확인합니다.\n",
    "print(df_year.info())"
   ]
  },
  {
   "cell_type": "code",
   "execution_count": null,
   "id": "194caa88",
   "metadata": {},
   "outputs": [
    {
     "name": "stdout",
     "output_type": "stream",
     "text": [
      "\n",
      "--- 3. Plotly로 애니메이션 그래프 생성 ---\n"
     ]
    },
    {
     "data": {
      "application/vnd.plotly.v1+json": {
       "config": {
        "plotlyServerURL": "https://plot.ly"
       },
       "data": [
        {
         "hovertemplate": "자치구=%{x}<br>년도=2019년<br>발생 건수=%{y}<extra></extra>",
         "legendgroup": "강남구",
         "marker": {
          "color": "rgb(229, 134, 6)",
          "pattern": {
           "shape": ""
          }
         },
         "name": "강남구",
         "orientation": "v",
         "showlegend": true,
         "textposition": "auto",
         "type": "bar",
         "x": [
          "강남구"
         ],
         "xaxis": "x",
         "y": {
          "bdata": "iBw=",
          "dtype": "i2"
         },
         "yaxis": "y"
        },
        {
         "hovertemplate": "자치구=%{x}<br>년도=2019년<br>발생 건수=%{y}<extra></extra>",
         "legendgroup": "영등포구",
         "marker": {
          "color": "rgb(93, 105, 177)",
          "pattern": {
           "shape": ""
          }
         },
         "name": "영등포구",
         "orientation": "v",
         "showlegend": true,
         "textposition": "auto",
         "type": "bar",
         "x": [
          "영등포구"
         ],
         "xaxis": "x",
         "y": {
          "bdata": "vBY=",
          "dtype": "i2"
         },
         "yaxis": "y"
        },
        {
         "hovertemplate": "자치구=%{x}<br>년도=2019년<br>발생 건수=%{y}<extra></extra>",
         "legendgroup": "송파구",
         "marker": {
          "color": "rgb(82, 188, 163)",
          "pattern": {
           "shape": ""
          }
         },
         "name": "송파구",
         "orientation": "v",
         "showlegend": true,
         "textposition": "auto",
         "type": "bar",
         "x": [
          "송파구"
         ],
         "xaxis": "x",
         "y": {
          "bdata": "QhY=",
          "dtype": "i2"
         },
         "yaxis": "y"
        },
        {
         "hovertemplate": "자치구=%{x}<br>년도=2019년<br>발생 건수=%{y}<extra></extra>",
         "legendgroup": "서초구",
         "marker": {
          "color": "rgb(153, 201, 69)",
          "pattern": {
           "shape": ""
          }
         },
         "name": "서초구",
         "orientation": "v",
         "showlegend": true,
         "textposition": "auto",
         "type": "bar",
         "x": [
          "서초구"
         ],
         "xaxis": "x",
         "y": {
          "bdata": "phU=",
          "dtype": "i2"
         },
         "yaxis": "y"
        },
        {
         "hovertemplate": "자치구=%{x}<br>년도=2019년<br>발생 건수=%{y}<extra></extra>",
         "legendgroup": "관악구",
         "marker": {
          "color": "rgb(204, 97, 176)",
          "pattern": {
           "shape": ""
          }
         },
         "name": "관악구",
         "orientation": "v",
         "showlegend": true,
         "textposition": "auto",
         "type": "bar",
         "x": [
          "관악구"
         ],
         "xaxis": "x",
         "y": {
          "bdata": "0BQ=",
          "dtype": "i2"
         },
         "yaxis": "y"
        },
        {
         "hovertemplate": "자치구=%{x}<br>년도=2019년<br>발생 건수=%{y}<extra></extra>",
         "legendgroup": "강서구",
         "marker": {
          "color": "rgb(36, 121, 108)",
          "pattern": {
           "shape": ""
          }
         },
         "name": "강서구",
         "orientation": "v",
         "showlegend": true,
         "textposition": "auto",
         "type": "bar",
         "x": [
          "강서구"
         ],
         "xaxis": "x",
         "y": {
          "bdata": "PBM=",
          "dtype": "i2"
         },
         "yaxis": "y"
        },
        {
         "hovertemplate": "자치구=%{x}<br>년도=2019년<br>발생 건수=%{y}<extra></extra>",
         "legendgroup": "마포구",
         "marker": {
          "color": "rgb(218, 165, 27)",
          "pattern": {
           "shape": ""
          }
         },
         "name": "마포구",
         "orientation": "v",
         "showlegend": true,
         "textposition": "auto",
         "type": "bar",
         "x": [
          "마포구"
         ],
         "xaxis": "x",
         "y": {
          "bdata": "6hI=",
          "dtype": "i2"
         },
         "yaxis": "y"
        },
        {
         "hovertemplate": "자치구=%{x}<br>년도=2019년<br>발생 건수=%{y}<extra></extra>",
         "legendgroup": "구로구",
         "marker": {
          "color": "rgb(47, 138, 196)",
          "pattern": {
           "shape": ""
          }
         },
         "name": "구로구",
         "orientation": "v",
         "showlegend": true,
         "textposition": "auto",
         "type": "bar",
         "x": [
          "구로구"
         ],
         "xaxis": "x",
         "y": {
          "bdata": "YxI=",
          "dtype": "i2"
         },
         "yaxis": "y"
        },
        {
         "hovertemplate": "자치구=%{x}<br>년도=2019년<br>발생 건수=%{y}<extra></extra>",
         "legendgroup": "중구",
         "marker": {
          "color": "rgb(118, 78, 159)",
          "pattern": {
           "shape": ""
          }
         },
         "name": "중구",
         "orientation": "v",
         "showlegend": true,
         "textposition": "auto",
         "type": "bar",
         "x": [
          "중구"
         ],
         "xaxis": "x",
         "y": {
          "bdata": "5xA=",
          "dtype": "i2"
         },
         "yaxis": "y"
        },
        {
         "hovertemplate": "자치구=%{x}<br>년도=2019년<br>발생 건수=%{y}<extra></extra>",
         "legendgroup": "중랑구",
         "marker": {
          "color": "rgb(237, 100, 90)",
          "pattern": {
           "shape": ""
          }
         },
         "name": "중랑구",
         "orientation": "v",
         "showlegend": true,
         "textposition": "auto",
         "type": "bar",
         "x": [
          "중랑구"
         ],
         "xaxis": "x",
         "y": {
          "bdata": "rBA=",
          "dtype": "i2"
         },
         "yaxis": "y"
        },
        {
         "hovertemplate": "자치구=%{x}<br>년도=2019년<br>발생 건수=%{y}<extra></extra>",
         "legendgroup": "노원구",
         "marker": {
          "color": "rgb(165, 170, 153)",
          "pattern": {
           "shape": ""
          }
         },
         "name": "노원구",
         "orientation": "v",
         "showlegend": true,
         "textposition": "auto",
         "type": "bar",
         "x": [
          "노원구"
         ],
         "xaxis": "x",
         "y": {
          "bdata": "ORA=",
          "dtype": "i2"
         },
         "yaxis": "y"
        },
        {
         "hovertemplate": "자치구=%{x}<br>년도=2019년<br>발생 건수=%{y}<extra></extra>",
         "legendgroup": "강동구",
         "marker": {
          "color": "rgb(229, 134, 6)",
          "pattern": {
           "shape": ""
          }
         },
         "name": "강동구",
         "orientation": "v",
         "showlegend": true,
         "textposition": "auto",
         "type": "bar",
         "x": [
          "강동구"
         ],
         "xaxis": "x",
         "y": {
          "bdata": "rg8=",
          "dtype": "i2"
         },
         "yaxis": "y"
        },
        {
         "hovertemplate": "자치구=%{x}<br>년도=2019년<br>발생 건수=%{y}<extra></extra>",
         "legendgroup": "광진구",
         "marker": {
          "color": "rgb(93, 105, 177)",
          "pattern": {
           "shape": ""
          }
         },
         "name": "광진구",
         "orientation": "v",
         "showlegend": true,
         "textposition": "auto",
         "type": "bar",
         "x": [
          "광진구"
         ],
         "xaxis": "x",
         "y": {
          "bdata": "qw8=",
          "dtype": "i2"
         },
         "yaxis": "y"
        },
        {
         "hovertemplate": "자치구=%{x}<br>년도=2019년<br>발생 건수=%{y}<extra></extra>",
         "legendgroup": "은평구",
         "marker": {
          "color": "rgb(82, 188, 163)",
          "pattern": {
           "shape": ""
          }
         },
         "name": "은평구",
         "orientation": "v",
         "showlegend": true,
         "textposition": "auto",
         "type": "bar",
         "x": [
          "은평구"
         ],
         "xaxis": "x",
         "y": {
          "bdata": "KA8=",
          "dtype": "i2"
         },
         "yaxis": "y"
        },
        {
         "hovertemplate": "자치구=%{x}<br>년도=2019년<br>발생 건수=%{y}<extra></extra>",
         "legendgroup": "종로구",
         "marker": {
          "color": "rgb(153, 201, 69)",
          "pattern": {
           "shape": ""
          }
         },
         "name": "종로구",
         "orientation": "v",
         "showlegend": true,
         "textposition": "auto",
         "type": "bar",
         "x": [
          "종로구"
         ],
         "xaxis": "x",
         "y": {
          "bdata": "Bg8=",
          "dtype": "i2"
         },
         "yaxis": "y"
        },
        {
         "hovertemplate": "자치구=%{x}<br>년도=2019년<br>발생 건수=%{y}<extra></extra>",
         "legendgroup": "강북구",
         "marker": {
          "color": "rgb(204, 97, 176)",
          "pattern": {
           "shape": ""
          }
         },
         "name": "강북구",
         "orientation": "v",
         "showlegend": true,
         "textposition": "auto",
         "type": "bar",
         "x": [
          "강북구"
         ],
         "xaxis": "x",
         "y": {
          "bdata": "/g4=",
          "dtype": "i2"
         },
         "yaxis": "y"
        },
        {
         "hovertemplate": "자치구=%{x}<br>년도=2019년<br>발생 건수=%{y}<extra></extra>",
         "legendgroup": "동대문구",
         "marker": {
          "color": "rgb(36, 121, 108)",
          "pattern": {
           "shape": ""
          }
         },
         "name": "동대문구",
         "orientation": "v",
         "showlegend": true,
         "textposition": "auto",
         "type": "bar",
         "x": [
          "동대문구"
         ],
         "xaxis": "x",
         "y": {
          "bdata": "bA4=",
          "dtype": "i2"
         },
         "yaxis": "y"
        },
        {
         "hovertemplate": "자치구=%{x}<br>년도=2019년<br>발생 건수=%{y}<extra></extra>",
         "legendgroup": "동작구",
         "marker": {
          "color": "rgb(218, 165, 27)",
          "pattern": {
           "shape": ""
          }
         },
         "name": "동작구",
         "orientation": "v",
         "showlegend": true,
         "textposition": "auto",
         "type": "bar",
         "x": [
          "동작구"
         ],
         "xaxis": "x",
         "y": {
          "bdata": "SA0=",
          "dtype": "i2"
         },
         "yaxis": "y"
        },
        {
         "hovertemplate": "자치구=%{x}<br>년도=2019년<br>발생 건수=%{y}<extra></extra>",
         "legendgroup": "용산구",
         "marker": {
          "color": "rgb(47, 138, 196)",
          "pattern": {
           "shape": ""
          }
         },
         "name": "용산구",
         "orientation": "v",
         "showlegend": true,
         "textposition": "auto",
         "type": "bar",
         "x": [
          "용산구"
         ],
         "xaxis": "x",
         "y": {
          "bdata": "8Qw=",
          "dtype": "i2"
         },
         "yaxis": "y"
        },
        {
         "hovertemplate": "자치구=%{x}<br>년도=2019년<br>발생 건수=%{y}<extra></extra>",
         "legendgroup": "양천구",
         "marker": {
          "color": "rgb(118, 78, 159)",
          "pattern": {
           "shape": ""
          }
         },
         "name": "양천구",
         "orientation": "v",
         "showlegend": true,
         "textposition": "auto",
         "type": "bar",
         "x": [
          "양천구"
         ],
         "xaxis": "x",
         "y": {
          "bdata": "jgw=",
          "dtype": "i2"
         },
         "yaxis": "y"
        },
        {
         "hovertemplate": "자치구=%{x}<br>년도=2019년<br>발생 건수=%{y}<extra></extra>",
         "legendgroup": "금천구",
         "marker": {
          "color": "rgb(237, 100, 90)",
          "pattern": {
           "shape": ""
          }
         },
         "name": "금천구",
         "orientation": "v",
         "showlegend": true,
         "textposition": "auto",
         "type": "bar",
         "x": [
          "금천구"
         ],
         "xaxis": "x",
         "y": {
          "bdata": "IQw=",
          "dtype": "i2"
         },
         "yaxis": "y"
        },
        {
         "hovertemplate": "자치구=%{x}<br>년도=2019년<br>발생 건수=%{y}<extra></extra>",
         "legendgroup": "서대문구",
         "marker": {
          "color": "rgb(165, 170, 153)",
          "pattern": {
           "shape": ""
          }
         },
         "name": "서대문구",
         "orientation": "v",
         "showlegend": true,
         "textposition": "auto",
         "type": "bar",
         "x": [
          "서대문구"
         ],
         "xaxis": "x",
         "y": {
          "bdata": "fws=",
          "dtype": "i2"
         },
         "yaxis": "y"
        },
        {
         "hovertemplate": "자치구=%{x}<br>년도=2019년<br>발생 건수=%{y}<extra></extra>",
         "legendgroup": "성북구",
         "marker": {
          "color": "rgb(229, 134, 6)",
          "pattern": {
           "shape": ""
          }
         },
         "name": "성북구",
         "orientation": "v",
         "showlegend": true,
         "textposition": "auto",
         "type": "bar",
         "x": [
          "성북구"
         ],
         "xaxis": "x",
         "y": {
          "bdata": "PQs=",
          "dtype": "i2"
         },
         "yaxis": "y"
        },
        {
         "hovertemplate": "자치구=%{x}<br>년도=2019년<br>발생 건수=%{y}<extra></extra>",
         "legendgroup": "성동구",
         "marker": {
          "color": "rgb(93, 105, 177)",
          "pattern": {
           "shape": ""
          }
         },
         "name": "성동구",
         "orientation": "v",
         "showlegend": true,
         "textposition": "auto",
         "type": "bar",
         "x": [
          "성동구"
         ],
         "xaxis": "x",
         "y": {
          "bdata": "0Ak=",
          "dtype": "i2"
         },
         "yaxis": "y"
        },
        {
         "hovertemplate": "자치구=%{x}<br>년도=2019년<br>발생 건수=%{y}<extra></extra>",
         "legendgroup": "도봉구",
         "marker": {
          "color": "rgb(82, 188, 163)",
          "pattern": {
           "shape": ""
          }
         },
         "name": "도봉구",
         "orientation": "v",
         "showlegend": true,
         "textposition": "auto",
         "type": "bar",
         "x": [
          "도봉구"
         ],
         "xaxis": "x",
         "y": {
          "bdata": "Pgg=",
          "dtype": "i2"
         },
         "yaxis": "y"
        }
       ],
       "frames": [
        {
         "data": [
          {
           "hovertemplate": "자치구=%{x}<br>년도=2019년<br>발생 건수=%{y}<extra></extra>",
           "legendgroup": "강남구",
           "marker": {
            "color": "rgb(229, 134, 6)",
            "pattern": {
             "shape": ""
            }
           },
           "name": "강남구",
           "orientation": "v",
           "showlegend": true,
           "textposition": "auto",
           "type": "bar",
           "x": [
            "강남구"
           ],
           "xaxis": "x",
           "y": {
            "bdata": "iBw=",
            "dtype": "i2"
           },
           "yaxis": "y"
          },
          {
           "hovertemplate": "자치구=%{x}<br>년도=2019년<br>발생 건수=%{y}<extra></extra>",
           "legendgroup": "영등포구",
           "marker": {
            "color": "rgb(93, 105, 177)",
            "pattern": {
             "shape": ""
            }
           },
           "name": "영등포구",
           "orientation": "v",
           "showlegend": true,
           "textposition": "auto",
           "type": "bar",
           "x": [
            "영등포구"
           ],
           "xaxis": "x",
           "y": {
            "bdata": "vBY=",
            "dtype": "i2"
           },
           "yaxis": "y"
          },
          {
           "hovertemplate": "자치구=%{x}<br>년도=2019년<br>발생 건수=%{y}<extra></extra>",
           "legendgroup": "송파구",
           "marker": {
            "color": "rgb(82, 188, 163)",
            "pattern": {
             "shape": ""
            }
           },
           "name": "송파구",
           "orientation": "v",
           "showlegend": true,
           "textposition": "auto",
           "type": "bar",
           "x": [
            "송파구"
           ],
           "xaxis": "x",
           "y": {
            "bdata": "QhY=",
            "dtype": "i2"
           },
           "yaxis": "y"
          },
          {
           "hovertemplate": "자치구=%{x}<br>년도=2019년<br>발생 건수=%{y}<extra></extra>",
           "legendgroup": "서초구",
           "marker": {
            "color": "rgb(153, 201, 69)",
            "pattern": {
             "shape": ""
            }
           },
           "name": "서초구",
           "orientation": "v",
           "showlegend": true,
           "textposition": "auto",
           "type": "bar",
           "x": [
            "서초구"
           ],
           "xaxis": "x",
           "y": {
            "bdata": "phU=",
            "dtype": "i2"
           },
           "yaxis": "y"
          },
          {
           "hovertemplate": "자치구=%{x}<br>년도=2019년<br>발생 건수=%{y}<extra></extra>",
           "legendgroup": "관악구",
           "marker": {
            "color": "rgb(204, 97, 176)",
            "pattern": {
             "shape": ""
            }
           },
           "name": "관악구",
           "orientation": "v",
           "showlegend": true,
           "textposition": "auto",
           "type": "bar",
           "x": [
            "관악구"
           ],
           "xaxis": "x",
           "y": {
            "bdata": "0BQ=",
            "dtype": "i2"
           },
           "yaxis": "y"
          },
          {
           "hovertemplate": "자치구=%{x}<br>년도=2019년<br>발생 건수=%{y}<extra></extra>",
           "legendgroup": "강서구",
           "marker": {
            "color": "rgb(36, 121, 108)",
            "pattern": {
             "shape": ""
            }
           },
           "name": "강서구",
           "orientation": "v",
           "showlegend": true,
           "textposition": "auto",
           "type": "bar",
           "x": [
            "강서구"
           ],
           "xaxis": "x",
           "y": {
            "bdata": "PBM=",
            "dtype": "i2"
           },
           "yaxis": "y"
          },
          {
           "hovertemplate": "자치구=%{x}<br>년도=2019년<br>발생 건수=%{y}<extra></extra>",
           "legendgroup": "마포구",
           "marker": {
            "color": "rgb(218, 165, 27)",
            "pattern": {
             "shape": ""
            }
           },
           "name": "마포구",
           "orientation": "v",
           "showlegend": true,
           "textposition": "auto",
           "type": "bar",
           "x": [
            "마포구"
           ],
           "xaxis": "x",
           "y": {
            "bdata": "6hI=",
            "dtype": "i2"
           },
           "yaxis": "y"
          },
          {
           "hovertemplate": "자치구=%{x}<br>년도=2019년<br>발생 건수=%{y}<extra></extra>",
           "legendgroup": "구로구",
           "marker": {
            "color": "rgb(47, 138, 196)",
            "pattern": {
             "shape": ""
            }
           },
           "name": "구로구",
           "orientation": "v",
           "showlegend": true,
           "textposition": "auto",
           "type": "bar",
           "x": [
            "구로구"
           ],
           "xaxis": "x",
           "y": {
            "bdata": "YxI=",
            "dtype": "i2"
           },
           "yaxis": "y"
          },
          {
           "hovertemplate": "자치구=%{x}<br>년도=2019년<br>발생 건수=%{y}<extra></extra>",
           "legendgroup": "중구",
           "marker": {
            "color": "rgb(118, 78, 159)",
            "pattern": {
             "shape": ""
            }
           },
           "name": "중구",
           "orientation": "v",
           "showlegend": true,
           "textposition": "auto",
           "type": "bar",
           "x": [
            "중구"
           ],
           "xaxis": "x",
           "y": {
            "bdata": "5xA=",
            "dtype": "i2"
           },
           "yaxis": "y"
          },
          {
           "hovertemplate": "자치구=%{x}<br>년도=2019년<br>발생 건수=%{y}<extra></extra>",
           "legendgroup": "중랑구",
           "marker": {
            "color": "rgb(237, 100, 90)",
            "pattern": {
             "shape": ""
            }
           },
           "name": "중랑구",
           "orientation": "v",
           "showlegend": true,
           "textposition": "auto",
           "type": "bar",
           "x": [
            "중랑구"
           ],
           "xaxis": "x",
           "y": {
            "bdata": "rBA=",
            "dtype": "i2"
           },
           "yaxis": "y"
          },
          {
           "hovertemplate": "자치구=%{x}<br>년도=2019년<br>발생 건수=%{y}<extra></extra>",
           "legendgroup": "노원구",
           "marker": {
            "color": "rgb(165, 170, 153)",
            "pattern": {
             "shape": ""
            }
           },
           "name": "노원구",
           "orientation": "v",
           "showlegend": true,
           "textposition": "auto",
           "type": "bar",
           "x": [
            "노원구"
           ],
           "xaxis": "x",
           "y": {
            "bdata": "ORA=",
            "dtype": "i2"
           },
           "yaxis": "y"
          },
          {
           "hovertemplate": "자치구=%{x}<br>년도=2019년<br>발생 건수=%{y}<extra></extra>",
           "legendgroup": "강동구",
           "marker": {
            "color": "rgb(229, 134, 6)",
            "pattern": {
             "shape": ""
            }
           },
           "name": "강동구",
           "orientation": "v",
           "showlegend": true,
           "textposition": "auto",
           "type": "bar",
           "x": [
            "강동구"
           ],
           "xaxis": "x",
           "y": {
            "bdata": "rg8=",
            "dtype": "i2"
           },
           "yaxis": "y"
          },
          {
           "hovertemplate": "자치구=%{x}<br>년도=2019년<br>발생 건수=%{y}<extra></extra>",
           "legendgroup": "광진구",
           "marker": {
            "color": "rgb(93, 105, 177)",
            "pattern": {
             "shape": ""
            }
           },
           "name": "광진구",
           "orientation": "v",
           "showlegend": true,
           "textposition": "auto",
           "type": "bar",
           "x": [
            "광진구"
           ],
           "xaxis": "x",
           "y": {
            "bdata": "qw8=",
            "dtype": "i2"
           },
           "yaxis": "y"
          },
          {
           "hovertemplate": "자치구=%{x}<br>년도=2019년<br>발생 건수=%{y}<extra></extra>",
           "legendgroup": "은평구",
           "marker": {
            "color": "rgb(82, 188, 163)",
            "pattern": {
             "shape": ""
            }
           },
           "name": "은평구",
           "orientation": "v",
           "showlegend": true,
           "textposition": "auto",
           "type": "bar",
           "x": [
            "은평구"
           ],
           "xaxis": "x",
           "y": {
            "bdata": "KA8=",
            "dtype": "i2"
           },
           "yaxis": "y"
          },
          {
           "hovertemplate": "자치구=%{x}<br>년도=2019년<br>발생 건수=%{y}<extra></extra>",
           "legendgroup": "종로구",
           "marker": {
            "color": "rgb(153, 201, 69)",
            "pattern": {
             "shape": ""
            }
           },
           "name": "종로구",
           "orientation": "v",
           "showlegend": true,
           "textposition": "auto",
           "type": "bar",
           "x": [
            "종로구"
           ],
           "xaxis": "x",
           "y": {
            "bdata": "Bg8=",
            "dtype": "i2"
           },
           "yaxis": "y"
          },
          {
           "hovertemplate": "자치구=%{x}<br>년도=2019년<br>발생 건수=%{y}<extra></extra>",
           "legendgroup": "강북구",
           "marker": {
            "color": "rgb(204, 97, 176)",
            "pattern": {
             "shape": ""
            }
           },
           "name": "강북구",
           "orientation": "v",
           "showlegend": true,
           "textposition": "auto",
           "type": "bar",
           "x": [
            "강북구"
           ],
           "xaxis": "x",
           "y": {
            "bdata": "/g4=",
            "dtype": "i2"
           },
           "yaxis": "y"
          },
          {
           "hovertemplate": "자치구=%{x}<br>년도=2019년<br>발생 건수=%{y}<extra></extra>",
           "legendgroup": "동대문구",
           "marker": {
            "color": "rgb(36, 121, 108)",
            "pattern": {
             "shape": ""
            }
           },
           "name": "동대문구",
           "orientation": "v",
           "showlegend": true,
           "textposition": "auto",
           "type": "bar",
           "x": [
            "동대문구"
           ],
           "xaxis": "x",
           "y": {
            "bdata": "bA4=",
            "dtype": "i2"
           },
           "yaxis": "y"
          },
          {
           "hovertemplate": "자치구=%{x}<br>년도=2019년<br>발생 건수=%{y}<extra></extra>",
           "legendgroup": "동작구",
           "marker": {
            "color": "rgb(218, 165, 27)",
            "pattern": {
             "shape": ""
            }
           },
           "name": "동작구",
           "orientation": "v",
           "showlegend": true,
           "textposition": "auto",
           "type": "bar",
           "x": [
            "동작구"
           ],
           "xaxis": "x",
           "y": {
            "bdata": "SA0=",
            "dtype": "i2"
           },
           "yaxis": "y"
          },
          {
           "hovertemplate": "자치구=%{x}<br>년도=2019년<br>발생 건수=%{y}<extra></extra>",
           "legendgroup": "용산구",
           "marker": {
            "color": "rgb(47, 138, 196)",
            "pattern": {
             "shape": ""
            }
           },
           "name": "용산구",
           "orientation": "v",
           "showlegend": true,
           "textposition": "auto",
           "type": "bar",
           "x": [
            "용산구"
           ],
           "xaxis": "x",
           "y": {
            "bdata": "8Qw=",
            "dtype": "i2"
           },
           "yaxis": "y"
          },
          {
           "hovertemplate": "자치구=%{x}<br>년도=2019년<br>발생 건수=%{y}<extra></extra>",
           "legendgroup": "양천구",
           "marker": {
            "color": "rgb(118, 78, 159)",
            "pattern": {
             "shape": ""
            }
           },
           "name": "양천구",
           "orientation": "v",
           "showlegend": true,
           "textposition": "auto",
           "type": "bar",
           "x": [
            "양천구"
           ],
           "xaxis": "x",
           "y": {
            "bdata": "jgw=",
            "dtype": "i2"
           },
           "yaxis": "y"
          },
          {
           "hovertemplate": "자치구=%{x}<br>년도=2019년<br>발생 건수=%{y}<extra></extra>",
           "legendgroup": "금천구",
           "marker": {
            "color": "rgb(237, 100, 90)",
            "pattern": {
             "shape": ""
            }
           },
           "name": "금천구",
           "orientation": "v",
           "showlegend": true,
           "textposition": "auto",
           "type": "bar",
           "x": [
            "금천구"
           ],
           "xaxis": "x",
           "y": {
            "bdata": "IQw=",
            "dtype": "i2"
           },
           "yaxis": "y"
          },
          {
           "hovertemplate": "자치구=%{x}<br>년도=2019년<br>발생 건수=%{y}<extra></extra>",
           "legendgroup": "서대문구",
           "marker": {
            "color": "rgb(165, 170, 153)",
            "pattern": {
             "shape": ""
            }
           },
           "name": "서대문구",
           "orientation": "v",
           "showlegend": true,
           "textposition": "auto",
           "type": "bar",
           "x": [
            "서대문구"
           ],
           "xaxis": "x",
           "y": {
            "bdata": "fws=",
            "dtype": "i2"
           },
           "yaxis": "y"
          },
          {
           "hovertemplate": "자치구=%{x}<br>년도=2019년<br>발생 건수=%{y}<extra></extra>",
           "legendgroup": "성북구",
           "marker": {
            "color": "rgb(229, 134, 6)",
            "pattern": {
             "shape": ""
            }
           },
           "name": "성북구",
           "orientation": "v",
           "showlegend": true,
           "textposition": "auto",
           "type": "bar",
           "x": [
            "성북구"
           ],
           "xaxis": "x",
           "y": {
            "bdata": "PQs=",
            "dtype": "i2"
           },
           "yaxis": "y"
          },
          {
           "hovertemplate": "자치구=%{x}<br>년도=2019년<br>발생 건수=%{y}<extra></extra>",
           "legendgroup": "성동구",
           "marker": {
            "color": "rgb(93, 105, 177)",
            "pattern": {
             "shape": ""
            }
           },
           "name": "성동구",
           "orientation": "v",
           "showlegend": true,
           "textposition": "auto",
           "type": "bar",
           "x": [
            "성동구"
           ],
           "xaxis": "x",
           "y": {
            "bdata": "0Ak=",
            "dtype": "i2"
           },
           "yaxis": "y"
          },
          {
           "hovertemplate": "자치구=%{x}<br>년도=2019년<br>발생 건수=%{y}<extra></extra>",
           "legendgroup": "도봉구",
           "marker": {
            "color": "rgb(82, 188, 163)",
            "pattern": {
             "shape": ""
            }
           },
           "name": "도봉구",
           "orientation": "v",
           "showlegend": true,
           "textposition": "auto",
           "type": "bar",
           "x": [
            "도봉구"
           ],
           "xaxis": "x",
           "y": {
            "bdata": "Pgg=",
            "dtype": "i2"
           },
           "yaxis": "y"
          }
         ],
         "name": "2019년"
        },
        {
         "data": [
          {
           "hovertemplate": "자치구=%{x}<br>년도=2020년<br>발생 건수=%{y}<extra></extra>",
           "legendgroup": "강남구",
           "marker": {
            "color": "rgb(229, 134, 6)",
            "pattern": {
             "shape": ""
            }
           },
           "name": "강남구",
           "orientation": "v",
           "showlegend": true,
           "textposition": "auto",
           "type": "bar",
           "x": [
            "강남구"
           ],
           "xaxis": "x",
           "y": {
            "bdata": "vBw=",
            "dtype": "i2"
           },
           "yaxis": "y"
          },
          {
           "hovertemplate": "자치구=%{x}<br>년도=2020년<br>발생 건수=%{y}<extra></extra>",
           "legendgroup": "영등포구",
           "marker": {
            "color": "rgb(93, 105, 177)",
            "pattern": {
             "shape": ""
            }
           },
           "name": "영등포구",
           "orientation": "v",
           "showlegend": true,
           "textposition": "auto",
           "type": "bar",
           "x": [
            "영등포구"
           ],
           "xaxis": "x",
           "y": {
            "bdata": "YRQ=",
            "dtype": "i2"
           },
           "yaxis": "y"
          },
          {
           "hovertemplate": "자치구=%{x}<br>년도=2020년<br>발생 건수=%{y}<extra></extra>",
           "legendgroup": "송파구",
           "marker": {
            "color": "rgb(82, 188, 163)",
            "pattern": {
             "shape": ""
            }
           },
           "name": "송파구",
           "orientation": "v",
           "showlegend": true,
           "textposition": "auto",
           "type": "bar",
           "x": [
            "송파구"
           ],
           "xaxis": "x",
           "y": {
            "bdata": "IhU=",
            "dtype": "i2"
           },
           "yaxis": "y"
          },
          {
           "hovertemplate": "자치구=%{x}<br>년도=2020년<br>발생 건수=%{y}<extra></extra>",
           "legendgroup": "서초구",
           "marker": {
            "color": "rgb(153, 201, 69)",
            "pattern": {
             "shape": ""
            }
           },
           "name": "서초구",
           "orientation": "v",
           "showlegend": true,
           "textposition": "auto",
           "type": "bar",
           "x": [
            "서초구"
           ],
           "xaxis": "x",
           "y": {
            "bdata": "+RE=",
            "dtype": "i2"
           },
           "yaxis": "y"
          },
          {
           "hovertemplate": "자치구=%{x}<br>년도=2020년<br>발생 건수=%{y}<extra></extra>",
           "legendgroup": "관악구",
           "marker": {
            "color": "rgb(204, 97, 176)",
            "pattern": {
             "shape": ""
            }
           },
           "name": "관악구",
           "orientation": "v",
           "showlegend": true,
           "textposition": "auto",
           "type": "bar",
           "x": [
            "관악구"
           ],
           "xaxis": "x",
           "y": {
            "bdata": "jRQ=",
            "dtype": "i2"
           },
           "yaxis": "y"
          },
          {
           "hovertemplate": "자치구=%{x}<br>년도=2020년<br>발생 건수=%{y}<extra></extra>",
           "legendgroup": "강서구",
           "marker": {
            "color": "rgb(36, 121, 108)",
            "pattern": {
             "shape": ""
            }
           },
           "name": "강서구",
           "orientation": "v",
           "showlegend": true,
           "textposition": "auto",
           "type": "bar",
           "x": [
            "강서구"
           ],
           "xaxis": "x",
           "y": {
            "bdata": "PxE=",
            "dtype": "i2"
           },
           "yaxis": "y"
          },
          {
           "hovertemplate": "자치구=%{x}<br>년도=2020년<br>발생 건수=%{y}<extra></extra>",
           "legendgroup": "마포구",
           "marker": {
            "color": "rgb(218, 165, 27)",
            "pattern": {
             "shape": ""
            }
           },
           "name": "마포구",
           "orientation": "v",
           "showlegend": true,
           "textposition": "auto",
           "type": "bar",
           "x": [
            "마포구"
           ],
           "xaxis": "x",
           "y": {
            "bdata": "aA4=",
            "dtype": "i2"
           },
           "yaxis": "y"
          },
          {
           "hovertemplate": "자치구=%{x}<br>년도=2020년<br>발생 건수=%{y}<extra></extra>",
           "legendgroup": "구로구",
           "marker": {
            "color": "rgb(47, 138, 196)",
            "pattern": {
             "shape": ""
            }
           },
           "name": "구로구",
           "orientation": "v",
           "showlegend": true,
           "textposition": "auto",
           "type": "bar",
           "x": [
            "구로구"
           ],
           "xaxis": "x",
           "y": {
            "bdata": "TxA=",
            "dtype": "i2"
           },
           "yaxis": "y"
          },
          {
           "hovertemplate": "자치구=%{x}<br>년도=2020년<br>발생 건수=%{y}<extra></extra>",
           "legendgroup": "중구",
           "marker": {
            "color": "rgb(118, 78, 159)",
            "pattern": {
             "shape": ""
            }
           },
           "name": "중구",
           "orientation": "v",
           "showlegend": true,
           "textposition": "auto",
           "type": "bar",
           "x": [
            "중구"
           ],
           "xaxis": "x",
           "y": {
            "bdata": "Uw0=",
            "dtype": "i2"
           },
           "yaxis": "y"
          },
          {
           "hovertemplate": "자치구=%{x}<br>년도=2020년<br>발생 건수=%{y}<extra></extra>",
           "legendgroup": "중랑구",
           "marker": {
            "color": "rgb(237, 100, 90)",
            "pattern": {
             "shape": ""
            }
           },
           "name": "중랑구",
           "orientation": "v",
           "showlegend": true,
           "textposition": "auto",
           "type": "bar",
           "x": [
            "중랑구"
           ],
           "xaxis": "x",
           "y": {
            "bdata": "jg4=",
            "dtype": "i2"
           },
           "yaxis": "y"
          },
          {
           "hovertemplate": "자치구=%{x}<br>년도=2020년<br>발생 건수=%{y}<extra></extra>",
           "legendgroup": "노원구",
           "marker": {
            "color": "rgb(165, 170, 153)",
            "pattern": {
             "shape": ""
            }
           },
           "name": "노원구",
           "orientation": "v",
           "showlegend": true,
           "textposition": "auto",
           "type": "bar",
           "x": [
            "노원구"
           ],
           "xaxis": "x",
           "y": {
            "bdata": "nw4=",
            "dtype": "i2"
           },
           "yaxis": "y"
          },
          {
           "hovertemplate": "자치구=%{x}<br>년도=2020년<br>발생 건수=%{y}<extra></extra>",
           "legendgroup": "강동구",
           "marker": {
            "color": "rgb(229, 134, 6)",
            "pattern": {
             "shape": ""
            }
           },
           "name": "강동구",
           "orientation": "v",
           "showlegend": true,
           "textposition": "auto",
           "type": "bar",
           "x": [
            "강동구"
           ],
           "xaxis": "x",
           "y": {
            "bdata": "zA4=",
            "dtype": "i2"
           },
           "yaxis": "y"
          },
          {
           "hovertemplate": "자치구=%{x}<br>년도=2020년<br>발생 건수=%{y}<extra></extra>",
           "legendgroup": "광진구",
           "marker": {
            "color": "rgb(93, 105, 177)",
            "pattern": {
             "shape": ""
            }
           },
           "name": "광진구",
           "orientation": "v",
           "showlegend": true,
           "textposition": "auto",
           "type": "bar",
           "x": [
            "광진구"
           ],
           "xaxis": "x",
           "y": {
            "bdata": "EQ4=",
            "dtype": "i2"
           },
           "yaxis": "y"
          },
          {
           "hovertemplate": "자치구=%{x}<br>년도=2020년<br>발생 건수=%{y}<extra></extra>",
           "legendgroup": "은평구",
           "marker": {
            "color": "rgb(82, 188, 163)",
            "pattern": {
             "shape": ""
            }
           },
           "name": "은평구",
           "orientation": "v",
           "showlegend": true,
           "textposition": "auto",
           "type": "bar",
           "x": [
            "은평구"
           ],
           "xaxis": "x",
           "y": {
            "bdata": "Pg0=",
            "dtype": "i2"
           },
           "yaxis": "y"
          },
          {
           "hovertemplate": "자치구=%{x}<br>년도=2020년<br>발생 건수=%{y}<extra></extra>",
           "legendgroup": "종로구",
           "marker": {
            "color": "rgb(153, 201, 69)",
            "pattern": {
             "shape": ""
            }
           },
           "name": "종로구",
           "orientation": "v",
           "showlegend": true,
           "textposition": "auto",
           "type": "bar",
           "x": [
            "종로구"
           ],
           "xaxis": "x",
           "y": {
            "bdata": "Hgw=",
            "dtype": "i2"
           },
           "yaxis": "y"
          },
          {
           "hovertemplate": "자치구=%{x}<br>년도=2020년<br>발생 건수=%{y}<extra></extra>",
           "legendgroup": "강북구",
           "marker": {
            "color": "rgb(204, 97, 176)",
            "pattern": {
             "shape": ""
            }
           },
           "name": "강북구",
           "orientation": "v",
           "showlegend": true,
           "textposition": "auto",
           "type": "bar",
           "x": [
            "강북구"
           ],
           "xaxis": "x",
           "y": {
            "bdata": "0go=",
            "dtype": "i2"
           },
           "yaxis": "y"
          },
          {
           "hovertemplate": "자치구=%{x}<br>년도=2020년<br>발생 건수=%{y}<extra></extra>",
           "legendgroup": "동대문구",
           "marker": {
            "color": "rgb(36, 121, 108)",
            "pattern": {
             "shape": ""
            }
           },
           "name": "동대문구",
           "orientation": "v",
           "showlegend": true,
           "textposition": "auto",
           "type": "bar",
           "x": [
            "동대문구"
           ],
           "xaxis": "x",
           "y": {
            "bdata": "SQ0=",
            "dtype": "i2"
           },
           "yaxis": "y"
          },
          {
           "hovertemplate": "자치구=%{x}<br>년도=2020년<br>발생 건수=%{y}<extra></extra>",
           "legendgroup": "동작구",
           "marker": {
            "color": "rgb(218, 165, 27)",
            "pattern": {
             "shape": ""
            }
           },
           "name": "동작구",
           "orientation": "v",
           "showlegend": true,
           "textposition": "auto",
           "type": "bar",
           "x": [
            "동작구"
           ],
           "xaxis": "x",
           "y": {
            "bdata": "gAw=",
            "dtype": "i2"
           },
           "yaxis": "y"
          },
          {
           "hovertemplate": "자치구=%{x}<br>년도=2020년<br>발생 건수=%{y}<extra></extra>",
           "legendgroup": "용산구",
           "marker": {
            "color": "rgb(47, 138, 196)",
            "pattern": {
             "shape": ""
            }
           },
           "name": "용산구",
           "orientation": "v",
           "showlegend": true,
           "textposition": "auto",
           "type": "bar",
           "x": [
            "용산구"
           ],
           "xaxis": "x",
           "y": {
            "bdata": "mQs=",
            "dtype": "i2"
           },
           "yaxis": "y"
          },
          {
           "hovertemplate": "자치구=%{x}<br>년도=2020년<br>발생 건수=%{y}<extra></extra>",
           "legendgroup": "양천구",
           "marker": {
            "color": "rgb(118, 78, 159)",
            "pattern": {
             "shape": ""
            }
           },
           "name": "양천구",
           "orientation": "v",
           "showlegend": true,
           "textposition": "auto",
           "type": "bar",
           "x": [
            "양천구"
           ],
           "xaxis": "x",
           "y": {
            "bdata": "kAw=",
            "dtype": "i2"
           },
           "yaxis": "y"
          },
          {
           "hovertemplate": "자치구=%{x}<br>년도=2020년<br>발생 건수=%{y}<extra></extra>",
           "legendgroup": "금천구",
           "marker": {
            "color": "rgb(237, 100, 90)",
            "pattern": {
             "shape": ""
            }
           },
           "name": "금천구",
           "orientation": "v",
           "showlegend": true,
           "textposition": "auto",
           "type": "bar",
           "x": [
            "금천구"
           ],
           "xaxis": "x",
           "y": {
            "bdata": "Jgo=",
            "dtype": "i2"
           },
           "yaxis": "y"
          },
          {
           "hovertemplate": "자치구=%{x}<br>년도=2020년<br>발생 건수=%{y}<extra></extra>",
           "legendgroup": "서대문구",
           "marker": {
            "color": "rgb(165, 170, 153)",
            "pattern": {
             "shape": ""
            }
           },
           "name": "서대문구",
           "orientation": "v",
           "showlegend": true,
           "textposition": "auto",
           "type": "bar",
           "x": [
            "서대문구"
           ],
           "xaxis": "x",
           "y": {
            "bdata": "5Qk=",
            "dtype": "i2"
           },
           "yaxis": "y"
          },
          {
           "hovertemplate": "자치구=%{x}<br>년도=2020년<br>발생 건수=%{y}<extra></extra>",
           "legendgroup": "성북구",
           "marker": {
            "color": "rgb(229, 134, 6)",
            "pattern": {
             "shape": ""
            }
           },
           "name": "성북구",
           "orientation": "v",
           "showlegend": true,
           "textposition": "auto",
           "type": "bar",
           "x": [
            "성북구"
           ],
           "xaxis": "x",
           "y": {
            "bdata": "Bwo=",
            "dtype": "i2"
           },
           "yaxis": "y"
          },
          {
           "hovertemplate": "자치구=%{x}<br>년도=2020년<br>발생 건수=%{y}<extra></extra>",
           "legendgroup": "성동구",
           "marker": {
            "color": "rgb(93, 105, 177)",
            "pattern": {
             "shape": ""
            }
           },
           "name": "성동구",
           "orientation": "v",
           "showlegend": true,
           "textposition": "auto",
           "type": "bar",
           "x": [
            "성동구"
           ],
           "xaxis": "x",
           "y": {
            "bdata": "Ogk=",
            "dtype": "i2"
           },
           "yaxis": "y"
          },
          {
           "hovertemplate": "자치구=%{x}<br>년도=2020년<br>발생 건수=%{y}<extra></extra>",
           "legendgroup": "도봉구",
           "marker": {
            "color": "rgb(82, 188, 163)",
            "pattern": {
             "shape": ""
            }
           },
           "name": "도봉구",
           "orientation": "v",
           "showlegend": true,
           "textposition": "auto",
           "type": "bar",
           "x": [
            "도봉구"
           ],
           "xaxis": "x",
           "y": {
            "bdata": "gwg=",
            "dtype": "i2"
           },
           "yaxis": "y"
          }
         ],
         "name": "2020년"
        },
        {
         "data": [
          {
           "hovertemplate": "자치구=%{x}<br>년도=2021년<br>발생 건수=%{y}<extra></extra>",
           "legendgroup": "강남구",
           "marker": {
            "color": "rgb(229, 134, 6)",
            "pattern": {
             "shape": ""
            }
           },
           "name": "강남구",
           "orientation": "v",
           "showlegend": true,
           "textposition": "auto",
           "type": "bar",
           "x": [
            "강남구"
           ],
           "xaxis": "x",
           "y": {
            "bdata": "Ahg=",
            "dtype": "i2"
           },
           "yaxis": "y"
          },
          {
           "hovertemplate": "자치구=%{x}<br>년도=2021년<br>발생 건수=%{y}<extra></extra>",
           "legendgroup": "영등포구",
           "marker": {
            "color": "rgb(93, 105, 177)",
            "pattern": {
             "shape": ""
            }
           },
           "name": "영등포구",
           "orientation": "v",
           "showlegend": true,
           "textposition": "auto",
           "type": "bar",
           "x": [
            "영등포구"
           ],
           "xaxis": "x",
           "y": {
            "bdata": "UxA=",
            "dtype": "i2"
           },
           "yaxis": "y"
          },
          {
           "hovertemplate": "자치구=%{x}<br>년도=2021년<br>발생 건수=%{y}<extra></extra>",
           "legendgroup": "송파구",
           "marker": {
            "color": "rgb(82, 188, 163)",
            "pattern": {
             "shape": ""
            }
           },
           "name": "송파구",
           "orientation": "v",
           "showlegend": true,
           "textposition": "auto",
           "type": "bar",
           "x": [
            "송파구"
           ],
           "xaxis": "x",
           "y": {
            "bdata": "ahI=",
            "dtype": "i2"
           },
           "yaxis": "y"
          },
          {
           "hovertemplate": "자치구=%{x}<br>년도=2021년<br>발생 건수=%{y}<extra></extra>",
           "legendgroup": "서초구",
           "marker": {
            "color": "rgb(153, 201, 69)",
            "pattern": {
             "shape": ""
            }
           },
           "name": "서초구",
           "orientation": "v",
           "showlegend": true,
           "textposition": "auto",
           "type": "bar",
           "x": [
            "서초구"
           ],
           "xaxis": "x",
           "y": {
            "bdata": "SA4=",
            "dtype": "i2"
           },
           "yaxis": "y"
          },
          {
           "hovertemplate": "자치구=%{x}<br>년도=2021년<br>발생 건수=%{y}<extra></extra>",
           "legendgroup": "관악구",
           "marker": {
            "color": "rgb(204, 97, 176)",
            "pattern": {
             "shape": ""
            }
           },
           "name": "관악구",
           "orientation": "v",
           "showlegend": true,
           "textposition": "auto",
           "type": "bar",
           "x": [
            "관악구"
           ],
           "xaxis": "x",
           "y": {
            "bdata": "XBE=",
            "dtype": "i2"
           },
           "yaxis": "y"
          },
          {
           "hovertemplate": "자치구=%{x}<br>년도=2021년<br>발생 건수=%{y}<extra></extra>",
           "legendgroup": "강서구",
           "marker": {
            "color": "rgb(36, 121, 108)",
            "pattern": {
             "shape": ""
            }
           },
           "name": "강서구",
           "orientation": "v",
           "showlegend": true,
           "textposition": "auto",
           "type": "bar",
           "x": [
            "강서구"
           ],
           "xaxis": "x",
           "y": {
            "bdata": "OA8=",
            "dtype": "i2"
           },
           "yaxis": "y"
          },
          {
           "hovertemplate": "자치구=%{x}<br>년도=2021년<br>발생 건수=%{y}<extra></extra>",
           "legendgroup": "마포구",
           "marker": {
            "color": "rgb(218, 165, 27)",
            "pattern": {
             "shape": ""
            }
           },
           "name": "마포구",
           "orientation": "v",
           "showlegend": true,
           "textposition": "auto",
           "type": "bar",
           "x": [
            "마포구"
           ],
           "xaxis": "x",
           "y": {
            "bdata": "1A0=",
            "dtype": "i2"
           },
           "yaxis": "y"
          },
          {
           "hovertemplate": "자치구=%{x}<br>년도=2021년<br>발생 건수=%{y}<extra></extra>",
           "legendgroup": "구로구",
           "marker": {
            "color": "rgb(47, 138, 196)",
            "pattern": {
             "shape": ""
            }
           },
           "name": "구로구",
           "orientation": "v",
           "showlegend": true,
           "textposition": "auto",
           "type": "bar",
           "x": [
            "구로구"
           ],
           "xaxis": "x",
           "y": {
            "bdata": "ng0=",
            "dtype": "i2"
           },
           "yaxis": "y"
          },
          {
           "hovertemplate": "자치구=%{x}<br>년도=2021년<br>발생 건수=%{y}<extra></extra>",
           "legendgroup": "중구",
           "marker": {
            "color": "rgb(118, 78, 159)",
            "pattern": {
             "shape": ""
            }
           },
           "name": "중구",
           "orientation": "v",
           "showlegend": true,
           "textposition": "auto",
           "type": "bar",
           "x": [
            "중구"
           ],
           "xaxis": "x",
           "y": {
            "bdata": "LQs=",
            "dtype": "i2"
           },
           "yaxis": "y"
          },
          {
           "hovertemplate": "자치구=%{x}<br>년도=2021년<br>발생 건수=%{y}<extra></extra>",
           "legendgroup": "중랑구",
           "marker": {
            "color": "rgb(237, 100, 90)",
            "pattern": {
             "shape": ""
            }
           },
           "name": "중랑구",
           "orientation": "v",
           "showlegend": true,
           "textposition": "auto",
           "type": "bar",
           "x": [
            "중랑구"
           ],
           "xaxis": "x",
           "y": {
            "bdata": "igw=",
            "dtype": "i2"
           },
           "yaxis": "y"
          },
          {
           "hovertemplate": "자치구=%{x}<br>년도=2021년<br>발생 건수=%{y}<extra></extra>",
           "legendgroup": "노원구",
           "marker": {
            "color": "rgb(165, 170, 153)",
            "pattern": {
             "shape": ""
            }
           },
           "name": "노원구",
           "orientation": "v",
           "showlegend": true,
           "textposition": "auto",
           "type": "bar",
           "x": [
            "노원구"
           ],
           "xaxis": "x",
           "y": {
            "bdata": "YQ0=",
            "dtype": "i2"
           },
           "yaxis": "y"
          },
          {
           "hovertemplate": "자치구=%{x}<br>년도=2021년<br>발생 건수=%{y}<extra></extra>",
           "legendgroup": "강동구",
           "marker": {
            "color": "rgb(229, 134, 6)",
            "pattern": {
             "shape": ""
            }
           },
           "name": "강동구",
           "orientation": "v",
           "showlegend": true,
           "textposition": "auto",
           "type": "bar",
           "x": [
            "강동구"
           ],
           "xaxis": "x",
           "y": {
            "bdata": "gg0=",
            "dtype": "i2"
           },
           "yaxis": "y"
          },
          {
           "hovertemplate": "자치구=%{x}<br>년도=2021년<br>발생 건수=%{y}<extra></extra>",
           "legendgroup": "광진구",
           "marker": {
            "color": "rgb(93, 105, 177)",
            "pattern": {
             "shape": ""
            }
           },
           "name": "광진구",
           "orientation": "v",
           "showlegend": true,
           "textposition": "auto",
           "type": "bar",
           "x": [
            "광진구"
           ],
           "xaxis": "x",
           "y": {
            "bdata": "Dww=",
            "dtype": "i2"
           },
           "yaxis": "y"
          },
          {
           "hovertemplate": "자치구=%{x}<br>년도=2021년<br>발생 건수=%{y}<extra></extra>",
           "legendgroup": "은평구",
           "marker": {
            "color": "rgb(82, 188, 163)",
            "pattern": {
             "shape": ""
            }
           },
           "name": "은평구",
           "orientation": "v",
           "showlegend": true,
           "textposition": "auto",
           "type": "bar",
           "x": [
            "은평구"
           ],
           "xaxis": "x",
           "y": {
            "bdata": "rAw=",
            "dtype": "i2"
           },
           "yaxis": "y"
          },
          {
           "hovertemplate": "자치구=%{x}<br>년도=2021년<br>발생 건수=%{y}<extra></extra>",
           "legendgroup": "종로구",
           "marker": {
            "color": "rgb(153, 201, 69)",
            "pattern": {
             "shape": ""
            }
           },
           "name": "종로구",
           "orientation": "v",
           "showlegend": true,
           "textposition": "auto",
           "type": "bar",
           "x": [
            "종로구"
           ],
           "xaxis": "x",
           "y": {
            "bdata": "mAo=",
            "dtype": "i2"
           },
           "yaxis": "y"
          },
          {
           "hovertemplate": "자치구=%{x}<br>년도=2021년<br>발생 건수=%{y}<extra></extra>",
           "legendgroup": "강북구",
           "marker": {
            "color": "rgb(204, 97, 176)",
            "pattern": {
             "shape": ""
            }
           },
           "name": "강북구",
           "orientation": "v",
           "showlegend": true,
           "textposition": "auto",
           "type": "bar",
           "x": [
            "강북구"
           ],
           "xaxis": "x",
           "y": {
            "bdata": "/Qg=",
            "dtype": "i2"
           },
           "yaxis": "y"
          },
          {
           "hovertemplate": "자치구=%{x}<br>년도=2021년<br>발생 건수=%{y}<extra></extra>",
           "legendgroup": "동대문구",
           "marker": {
            "color": "rgb(36, 121, 108)",
            "pattern": {
             "shape": ""
            }
           },
           "name": "동대문구",
           "orientation": "v",
           "showlegend": true,
           "textposition": "auto",
           "type": "bar",
           "x": [
            "동대문구"
           ],
           "xaxis": "x",
           "y": {
            "bdata": "jws=",
            "dtype": "i2"
           },
           "yaxis": "y"
          },
          {
           "hovertemplate": "자치구=%{x}<br>년도=2021년<br>발생 건수=%{y}<extra></extra>",
           "legendgroup": "동작구",
           "marker": {
            "color": "rgb(218, 165, 27)",
            "pattern": {
             "shape": ""
            }
           },
           "name": "동작구",
           "orientation": "v",
           "showlegend": true,
           "textposition": "auto",
           "type": "bar",
           "x": [
            "동작구"
           ],
           "xaxis": "x",
           "y": {
            "bdata": "Rwo=",
            "dtype": "i2"
           },
           "yaxis": "y"
          },
          {
           "hovertemplate": "자치구=%{x}<br>년도=2021년<br>발생 건수=%{y}<extra></extra>",
           "legendgroup": "용산구",
           "marker": {
            "color": "rgb(47, 138, 196)",
            "pattern": {
             "shape": ""
            }
           },
           "name": "용산구",
           "orientation": "v",
           "showlegend": true,
           "textposition": "auto",
           "type": "bar",
           "x": [
            "용산구"
           ],
           "xaxis": "x",
           "y": {
            "bdata": "TQk=",
            "dtype": "i2"
           },
           "yaxis": "y"
          },
          {
           "hovertemplate": "자치구=%{x}<br>년도=2021년<br>발생 건수=%{y}<extra></extra>",
           "legendgroup": "양천구",
           "marker": {
            "color": "rgb(118, 78, 159)",
            "pattern": {
             "shape": ""
            }
           },
           "name": "양천구",
           "orientation": "v",
           "showlegend": true,
           "textposition": "auto",
           "type": "bar",
           "x": [
            "양천구"
           ],
           "xaxis": "x",
           "y": {
            "bdata": "xws=",
            "dtype": "i2"
           },
           "yaxis": "y"
          },
          {
           "hovertemplate": "자치구=%{x}<br>년도=2021년<br>발생 건수=%{y}<extra></extra>",
           "legendgroup": "금천구",
           "marker": {
            "color": "rgb(237, 100, 90)",
            "pattern": {
             "shape": ""
            }
           },
           "name": "금천구",
           "orientation": "v",
           "showlegend": true,
           "textposition": "auto",
           "type": "bar",
           "x": [
            "금천구"
           ],
           "xaxis": "x",
           "y": {
            "bdata": "hwk=",
            "dtype": "i2"
           },
           "yaxis": "y"
          },
          {
           "hovertemplate": "자치구=%{x}<br>년도=2021년<br>발생 건수=%{y}<extra></extra>",
           "legendgroup": "서대문구",
           "marker": {
            "color": "rgb(165, 170, 153)",
            "pattern": {
             "shape": ""
            }
           },
           "name": "서대문구",
           "orientation": "v",
           "showlegend": true,
           "textposition": "auto",
           "type": "bar",
           "x": [
            "서대문구"
           ],
           "xaxis": "x",
           "y": {
            "bdata": "5gg=",
            "dtype": "i2"
           },
           "yaxis": "y"
          },
          {
           "hovertemplate": "자치구=%{x}<br>년도=2021년<br>발생 건수=%{y}<extra></extra>",
           "legendgroup": "성북구",
           "marker": {
            "color": "rgb(229, 134, 6)",
            "pattern": {
             "shape": ""
            }
           },
           "name": "성북구",
           "orientation": "v",
           "showlegend": true,
           "textposition": "auto",
           "type": "bar",
           "x": [
            "성북구"
           ],
           "xaxis": "x",
           "y": {
            "bdata": "awk=",
            "dtype": "i2"
           },
           "yaxis": "y"
          },
          {
           "hovertemplate": "자치구=%{x}<br>년도=2021년<br>발생 건수=%{y}<extra></extra>",
           "legendgroup": "성동구",
           "marker": {
            "color": "rgb(93, 105, 177)",
            "pattern": {
             "shape": ""
            }
           },
           "name": "성동구",
           "orientation": "v",
           "showlegend": true,
           "textposition": "auto",
           "type": "bar",
           "x": [
            "성동구"
           ],
           "xaxis": "x",
           "y": {
            "bdata": "QAg=",
            "dtype": "i2"
           },
           "yaxis": "y"
          },
          {
           "hovertemplate": "자치구=%{x}<br>년도=2021년<br>발생 건수=%{y}<extra></extra>",
           "legendgroup": "도봉구",
           "marker": {
            "color": "rgb(82, 188, 163)",
            "pattern": {
             "shape": ""
            }
           },
           "name": "도봉구",
           "orientation": "v",
           "showlegend": true,
           "textposition": "auto",
           "type": "bar",
           "x": [
            "도봉구"
           ],
           "xaxis": "x",
           "y": {
            "bdata": "RAc=",
            "dtype": "i2"
           },
           "yaxis": "y"
          }
         ],
         "name": "2021년"
        },
        {
         "data": [
          {
           "hovertemplate": "자치구=%{x}<br>년도=2022년<br>발생 건수=%{y}<extra></extra>",
           "legendgroup": "강남구",
           "marker": {
            "color": "rgb(229, 134, 6)",
            "pattern": {
             "shape": ""
            }
           },
           "name": "강남구",
           "orientation": "v",
           "showlegend": true,
           "textposition": "auto",
           "type": "bar",
           "x": [
            "강남구"
           ],
           "xaxis": "x",
           "y": {
            "bdata": "Ixs=",
            "dtype": "i2"
           },
           "yaxis": "y"
          },
          {
           "hovertemplate": "자치구=%{x}<br>년도=2022년<br>발생 건수=%{y}<extra></extra>",
           "legendgroup": "영등포구",
           "marker": {
            "color": "rgb(93, 105, 177)",
            "pattern": {
             "shape": ""
            }
           },
           "name": "영등포구",
           "orientation": "v",
           "showlegend": true,
           "textposition": "auto",
           "type": "bar",
           "x": [
            "영등포구"
           ],
           "xaxis": "x",
           "y": {
            "bdata": "0xI=",
            "dtype": "i2"
           },
           "yaxis": "y"
          },
          {
           "hovertemplate": "자치구=%{x}<br>년도=2022년<br>발생 건수=%{y}<extra></extra>",
           "legendgroup": "송파구",
           "marker": {
            "color": "rgb(82, 188, 163)",
            "pattern": {
             "shape": ""
            }
           },
           "name": "송파구",
           "orientation": "v",
           "showlegend": true,
           "textposition": "auto",
           "type": "bar",
           "x": [
            "송파구"
           ],
           "xaxis": "x",
           "y": {
            "bdata": "LxQ=",
            "dtype": "i2"
           },
           "yaxis": "y"
          },
          {
           "hovertemplate": "자치구=%{x}<br>년도=2022년<br>발생 건수=%{y}<extra></extra>",
           "legendgroup": "서초구",
           "marker": {
            "color": "rgb(153, 201, 69)",
            "pattern": {
             "shape": ""
            }
           },
           "name": "서초구",
           "orientation": "v",
           "showlegend": true,
           "textposition": "auto",
           "type": "bar",
           "x": [
            "서초구"
           ],
           "xaxis": "x",
           "y": {
            "bdata": "axE=",
            "dtype": "i2"
           },
           "yaxis": "y"
          },
          {
           "hovertemplate": "자치구=%{x}<br>년도=2022년<br>발생 건수=%{y}<extra></extra>",
           "legendgroup": "관악구",
           "marker": {
            "color": "rgb(204, 97, 176)",
            "pattern": {
             "shape": ""
            }
           },
           "name": "관악구",
           "orientation": "v",
           "showlegend": true,
           "textposition": "auto",
           "type": "bar",
           "x": [
            "관악구"
           ],
           "xaxis": "x",
           "y": {
            "bdata": "DxM=",
            "dtype": "i2"
           },
           "yaxis": "y"
          },
          {
           "hovertemplate": "자치구=%{x}<br>년도=2022년<br>발생 건수=%{y}<extra></extra>",
           "legendgroup": "강서구",
           "marker": {
            "color": "rgb(36, 121, 108)",
            "pattern": {
             "shape": ""
            }
           },
           "name": "강서구",
           "orientation": "v",
           "showlegend": true,
           "textposition": "auto",
           "type": "bar",
           "x": [
            "강서구"
           ],
           "xaxis": "x",
           "y": {
            "bdata": "NxI=",
            "dtype": "i2"
           },
           "yaxis": "y"
          },
          {
           "hovertemplate": "자치구=%{x}<br>년도=2022년<br>발생 건수=%{y}<extra></extra>",
           "legendgroup": "마포구",
           "marker": {
            "color": "rgb(218, 165, 27)",
            "pattern": {
             "shape": ""
            }
           },
           "name": "마포구",
           "orientation": "v",
           "showlegend": true,
           "textposition": "auto",
           "type": "bar",
           "x": [
            "마포구"
           ],
           "xaxis": "x",
           "y": {
            "bdata": "ABA=",
            "dtype": "i2"
           },
           "yaxis": "y"
          },
          {
           "hovertemplate": "자치구=%{x}<br>년도=2022년<br>발생 건수=%{y}<extra></extra>",
           "legendgroup": "구로구",
           "marker": {
            "color": "rgb(47, 138, 196)",
            "pattern": {
             "shape": ""
            }
           },
           "name": "구로구",
           "orientation": "v",
           "showlegend": true,
           "textposition": "auto",
           "type": "bar",
           "x": [
            "구로구"
           ],
           "xaxis": "x",
           "y": {
            "bdata": "EQ8=",
            "dtype": "i2"
           },
           "yaxis": "y"
          },
          {
           "hovertemplate": "자치구=%{x}<br>년도=2022년<br>발생 건수=%{y}<extra></extra>",
           "legendgroup": "중구",
           "marker": {
            "color": "rgb(118, 78, 159)",
            "pattern": {
             "shape": ""
            }
           },
           "name": "중구",
           "orientation": "v",
           "showlegend": true,
           "textposition": "auto",
           "type": "bar",
           "x": [
            "중구"
           ],
           "xaxis": "x",
           "y": {
            "bdata": "/ws=",
            "dtype": "i2"
           },
           "yaxis": "y"
          },
          {
           "hovertemplate": "자치구=%{x}<br>년도=2022년<br>발생 건수=%{y}<extra></extra>",
           "legendgroup": "중랑구",
           "marker": {
            "color": "rgb(237, 100, 90)",
            "pattern": {
             "shape": ""
            }
           },
           "name": "중랑구",
           "orientation": "v",
           "showlegend": true,
           "textposition": "auto",
           "type": "bar",
           "x": [
            "중랑구"
           ],
           "xaxis": "x",
           "y": {
            "bdata": "Dw4=",
            "dtype": "i2"
           },
           "yaxis": "y"
          },
          {
           "hovertemplate": "자치구=%{x}<br>년도=2022년<br>발생 건수=%{y}<extra></extra>",
           "legendgroup": "노원구",
           "marker": {
            "color": "rgb(165, 170, 153)",
            "pattern": {
             "shape": ""
            }
           },
           "name": "노원구",
           "orientation": "v",
           "showlegend": true,
           "textposition": "auto",
           "type": "bar",
           "x": [
            "노원구"
           ],
           "xaxis": "x",
           "y": {
            "bdata": "OA8=",
            "dtype": "i2"
           },
           "yaxis": "y"
          },
          {
           "hovertemplate": "자치구=%{x}<br>년도=2022년<br>발생 건수=%{y}<extra></extra>",
           "legendgroup": "강동구",
           "marker": {
            "color": "rgb(229, 134, 6)",
            "pattern": {
             "shape": ""
            }
           },
           "name": "강동구",
           "orientation": "v",
           "showlegend": true,
           "textposition": "auto",
           "type": "bar",
           "x": [
            "강동구"
           ],
           "xaxis": "x",
           "y": {
            "bdata": "fw4=",
            "dtype": "i2"
           },
           "yaxis": "y"
          },
          {
           "hovertemplate": "자치구=%{x}<br>년도=2022년<br>발생 건수=%{y}<extra></extra>",
           "legendgroup": "광진구",
           "marker": {
            "color": "rgb(93, 105, 177)",
            "pattern": {
             "shape": ""
            }
           },
           "name": "광진구",
           "orientation": "v",
           "showlegend": true,
           "textposition": "auto",
           "type": "bar",
           "x": [
            "광진구"
           ],
           "xaxis": "x",
           "y": {
            "bdata": "Iw4=",
            "dtype": "i2"
           },
           "yaxis": "y"
          },
          {
           "hovertemplate": "자치구=%{x}<br>년도=2022년<br>발생 건수=%{y}<extra></extra>",
           "legendgroup": "은평구",
           "marker": {
            "color": "rgb(82, 188, 163)",
            "pattern": {
             "shape": ""
            }
           },
           "name": "은평구",
           "orientation": "v",
           "showlegend": true,
           "textposition": "auto",
           "type": "bar",
           "x": [
            "은평구"
           ],
           "xaxis": "x",
           "y": {
            "bdata": "nw0=",
            "dtype": "i2"
           },
           "yaxis": "y"
          },
          {
           "hovertemplate": "자치구=%{x}<br>년도=2022년<br>발생 건수=%{y}<extra></extra>",
           "legendgroup": "종로구",
           "marker": {
            "color": "rgb(153, 201, 69)",
            "pattern": {
             "shape": ""
            }
           },
           "name": "종로구",
           "orientation": "v",
           "showlegend": true,
           "textposition": "auto",
           "type": "bar",
           "x": [
            "종로구"
           ],
           "xaxis": "x",
           "y": {
            "bdata": "Qgw=",
            "dtype": "i2"
           },
           "yaxis": "y"
          },
          {
           "hovertemplate": "자치구=%{x}<br>년도=2022년<br>발생 건수=%{y}<extra></extra>",
           "legendgroup": "강북구",
           "marker": {
            "color": "rgb(204, 97, 176)",
            "pattern": {
             "shape": ""
            }
           },
           "name": "강북구",
           "orientation": "v",
           "showlegend": true,
           "textposition": "auto",
           "type": "bar",
           "x": [
            "강북구"
           ],
           "xaxis": "x",
           "y": {
            "bdata": "EAs=",
            "dtype": "i2"
           },
           "yaxis": "y"
          },
          {
           "hovertemplate": "자치구=%{x}<br>년도=2022년<br>발생 건수=%{y}<extra></extra>",
           "legendgroup": "동대문구",
           "marker": {
            "color": "rgb(36, 121, 108)",
            "pattern": {
             "shape": ""
            }
           },
           "name": "동대문구",
           "orientation": "v",
           "showlegend": true,
           "textposition": "auto",
           "type": "bar",
           "x": [
            "동대문구"
           ],
           "xaxis": "x",
           "y": {
            "bdata": "tQw=",
            "dtype": "i2"
           },
           "yaxis": "y"
          },
          {
           "hovertemplate": "자치구=%{x}<br>년도=2022년<br>발생 건수=%{y}<extra></extra>",
           "legendgroup": "동작구",
           "marker": {
            "color": "rgb(218, 165, 27)",
            "pattern": {
             "shape": ""
            }
           },
           "name": "동작구",
           "orientation": "v",
           "showlegend": true,
           "textposition": "auto",
           "type": "bar",
           "x": [
            "동작구"
           ],
           "xaxis": "x",
           "y": {
            "bdata": "rwo=",
            "dtype": "i2"
           },
           "yaxis": "y"
          },
          {
           "hovertemplate": "자치구=%{x}<br>년도=2022년<br>발생 건수=%{y}<extra></extra>",
           "legendgroup": "용산구",
           "marker": {
            "color": "rgb(47, 138, 196)",
            "pattern": {
             "shape": ""
            }
           },
           "name": "용산구",
           "orientation": "v",
           "showlegend": true,
           "textposition": "auto",
           "type": "bar",
           "x": [
            "용산구"
           ],
           "xaxis": "x",
           "y": {
            "bdata": "lws=",
            "dtype": "i2"
           },
           "yaxis": "y"
          },
          {
           "hovertemplate": "자치구=%{x}<br>년도=2022년<br>발생 건수=%{y}<extra></extra>",
           "legendgroup": "양천구",
           "marker": {
            "color": "rgb(118, 78, 159)",
            "pattern": {
             "shape": ""
            }
           },
           "name": "양천구",
           "orientation": "v",
           "showlegend": true,
           "textposition": "auto",
           "type": "bar",
           "x": [
            "양천구"
           ],
           "xaxis": "x",
           "y": {
            "bdata": "YQw=",
            "dtype": "i2"
           },
           "yaxis": "y"
          },
          {
           "hovertemplate": "자치구=%{x}<br>년도=2022년<br>발생 건수=%{y}<extra></extra>",
           "legendgroup": "금천구",
           "marker": {
            "color": "rgb(237, 100, 90)",
            "pattern": {
             "shape": ""
            }
           },
           "name": "금천구",
           "orientation": "v",
           "showlegend": true,
           "textposition": "auto",
           "type": "bar",
           "x": [
            "금천구"
           ],
           "xaxis": "x",
           "y": {
            "bdata": "EQo=",
            "dtype": "i2"
           },
           "yaxis": "y"
          },
          {
           "hovertemplate": "자치구=%{x}<br>년도=2022년<br>발생 건수=%{y}<extra></extra>",
           "legendgroup": "서대문구",
           "marker": {
            "color": "rgb(165, 170, 153)",
            "pattern": {
             "shape": ""
            }
           },
           "name": "서대문구",
           "orientation": "v",
           "showlegend": true,
           "textposition": "auto",
           "type": "bar",
           "x": [
            "서대문구"
           ],
           "xaxis": "x",
           "y": {
            "bdata": "Rgk=",
            "dtype": "i2"
           },
           "yaxis": "y"
          },
          {
           "hovertemplate": "자치구=%{x}<br>년도=2022년<br>발생 건수=%{y}<extra></extra>",
           "legendgroup": "성북구",
           "marker": {
            "color": "rgb(229, 134, 6)",
            "pattern": {
             "shape": ""
            }
           },
           "name": "성북구",
           "orientation": "v",
           "showlegend": true,
           "textposition": "auto",
           "type": "bar",
           "x": [
            "성북구"
           ],
           "xaxis": "x",
           "y": {
            "bdata": "vQo=",
            "dtype": "i2"
           },
           "yaxis": "y"
          },
          {
           "hovertemplate": "자치구=%{x}<br>년도=2022년<br>발생 건수=%{y}<extra></extra>",
           "legendgroup": "성동구",
           "marker": {
            "color": "rgb(93, 105, 177)",
            "pattern": {
             "shape": ""
            }
           },
           "name": "성동구",
           "orientation": "v",
           "showlegend": true,
           "textposition": "auto",
           "type": "bar",
           "x": [
            "성동구"
           ],
           "xaxis": "x",
           "y": {
            "bdata": "kgg=",
            "dtype": "i2"
           },
           "yaxis": "y"
          },
          {
           "hovertemplate": "자치구=%{x}<br>년도=2022년<br>발생 건수=%{y}<extra></extra>",
           "legendgroup": "도봉구",
           "marker": {
            "color": "rgb(82, 188, 163)",
            "pattern": {
             "shape": ""
            }
           },
           "name": "도봉구",
           "orientation": "v",
           "showlegend": true,
           "textposition": "auto",
           "type": "bar",
           "x": [
            "도봉구"
           ],
           "xaxis": "x",
           "y": {
            "bdata": "XQg=",
            "dtype": "i2"
           },
           "yaxis": "y"
          }
         ],
         "name": "2022년"
        },
        {
         "data": [
          {
           "hovertemplate": "자치구=%{x}<br>년도=2023년<br>발생 건수=%{y}<extra></extra>",
           "legendgroup": "강남구",
           "marker": {
            "color": "rgb(229, 134, 6)",
            "pattern": {
             "shape": ""
            }
           },
           "name": "강남구",
           "orientation": "v",
           "showlegend": true,
           "textposition": "auto",
           "type": "bar",
           "x": [
            "강남구"
           ],
           "xaxis": "x",
           "y": {
            "bdata": "axo=",
            "dtype": "i2"
           },
           "yaxis": "y"
          },
          {
           "hovertemplate": "자치구=%{x}<br>년도=2023년<br>발생 건수=%{y}<extra></extra>",
           "legendgroup": "영등포구",
           "marker": {
            "color": "rgb(93, 105, 177)",
            "pattern": {
             "shape": ""
            }
           },
           "name": "영등포구",
           "orientation": "v",
           "showlegend": true,
           "textposition": "auto",
           "type": "bar",
           "x": [
            "영등포구"
           ],
           "xaxis": "x",
           "y": {
            "bdata": "QhE=",
            "dtype": "i2"
           },
           "yaxis": "y"
          },
          {
           "hovertemplate": "자치구=%{x}<br>년도=2023년<br>발생 건수=%{y}<extra></extra>",
           "legendgroup": "송파구",
           "marker": {
            "color": "rgb(82, 188, 163)",
            "pattern": {
             "shape": ""
            }
           },
           "name": "송파구",
           "orientation": "v",
           "showlegend": true,
           "textposition": "auto",
           "type": "bar",
           "x": [
            "송파구"
           ],
           "xaxis": "x",
           "y": {
            "bdata": "ZxQ=",
            "dtype": "i2"
           },
           "yaxis": "y"
          },
          {
           "hovertemplate": "자치구=%{x}<br>년도=2023년<br>발생 건수=%{y}<extra></extra>",
           "legendgroup": "서초구",
           "marker": {
            "color": "rgb(153, 201, 69)",
            "pattern": {
             "shape": ""
            }
           },
           "name": "서초구",
           "orientation": "v",
           "showlegend": true,
           "textposition": "auto",
           "type": "bar",
           "x": [
            "서초구"
           ],
           "xaxis": "x",
           "y": {
            "bdata": "qhE=",
            "dtype": "i2"
           },
           "yaxis": "y"
          },
          {
           "hovertemplate": "자치구=%{x}<br>년도=2023년<br>발생 건수=%{y}<extra></extra>",
           "legendgroup": "관악구",
           "marker": {
            "color": "rgb(204, 97, 176)",
            "pattern": {
             "shape": ""
            }
           },
           "name": "관악구",
           "orientation": "v",
           "showlegend": true,
           "textposition": "auto",
           "type": "bar",
           "x": [
            "관악구"
           ],
           "xaxis": "x",
           "y": {
            "bdata": "oRI=",
            "dtype": "i2"
           },
           "yaxis": "y"
          },
          {
           "hovertemplate": "자치구=%{x}<br>년도=2023년<br>발생 건수=%{y}<extra></extra>",
           "legendgroup": "강서구",
           "marker": {
            "color": "rgb(36, 121, 108)",
            "pattern": {
             "shape": ""
            }
           },
           "name": "강서구",
           "orientation": "v",
           "showlegend": true,
           "textposition": "auto",
           "type": "bar",
           "x": [
            "강서구"
           ],
           "xaxis": "x",
           "y": {
            "bdata": "yBA=",
            "dtype": "i2"
           },
           "yaxis": "y"
          },
          {
           "hovertemplate": "자치구=%{x}<br>년도=2023년<br>발생 건수=%{y}<extra></extra>",
           "legendgroup": "마포구",
           "marker": {
            "color": "rgb(218, 165, 27)",
            "pattern": {
             "shape": ""
            }
           },
           "name": "마포구",
           "orientation": "v",
           "showlegend": true,
           "textposition": "auto",
           "type": "bar",
           "x": [
            "마포구"
           ],
           "xaxis": "x",
           "y": {
            "bdata": "+g4=",
            "dtype": "i2"
           },
           "yaxis": "y"
          },
          {
           "hovertemplate": "자치구=%{x}<br>년도=2023년<br>발생 건수=%{y}<extra></extra>",
           "legendgroup": "구로구",
           "marker": {
            "color": "rgb(47, 138, 196)",
            "pattern": {
             "shape": ""
            }
           },
           "name": "구로구",
           "orientation": "v",
           "showlegend": true,
           "textposition": "auto",
           "type": "bar",
           "x": [
            "구로구"
           ],
           "xaxis": "x",
           "y": {
            "bdata": "mQ4=",
            "dtype": "i2"
           },
           "yaxis": "y"
          },
          {
           "hovertemplate": "자치구=%{x}<br>년도=2023년<br>발생 건수=%{y}<extra></extra>",
           "legendgroup": "중구",
           "marker": {
            "color": "rgb(118, 78, 159)",
            "pattern": {
             "shape": ""
            }
           },
           "name": "중구",
           "orientation": "v",
           "showlegend": true,
           "textposition": "auto",
           "type": "bar",
           "x": [
            "중구"
           ],
           "xaxis": "x",
           "y": {
            "bdata": "FA0=",
            "dtype": "i2"
           },
           "yaxis": "y"
          },
          {
           "hovertemplate": "자치구=%{x}<br>년도=2023년<br>발생 건수=%{y}<extra></extra>",
           "legendgroup": "중랑구",
           "marker": {
            "color": "rgb(237, 100, 90)",
            "pattern": {
             "shape": ""
            }
           },
           "name": "중랑구",
           "orientation": "v",
           "showlegend": true,
           "textposition": "auto",
           "type": "bar",
           "x": [
            "중랑구"
           ],
           "xaxis": "x",
           "y": {
            "bdata": "/Aw=",
            "dtype": "i2"
           },
           "yaxis": "y"
          },
          {
           "hovertemplate": "자치구=%{x}<br>년도=2023년<br>발생 건수=%{y}<extra></extra>",
           "legendgroup": "노원구",
           "marker": {
            "color": "rgb(165, 170, 153)",
            "pattern": {
             "shape": ""
            }
           },
           "name": "노원구",
           "orientation": "v",
           "showlegend": true,
           "textposition": "auto",
           "type": "bar",
           "x": [
            "노원구"
           ],
           "xaxis": "x",
           "y": {
            "bdata": "7w0=",
            "dtype": "i2"
           },
           "yaxis": "y"
          },
          {
           "hovertemplate": "자치구=%{x}<br>년도=2023년<br>발생 건수=%{y}<extra></extra>",
           "legendgroup": "강동구",
           "marker": {
            "color": "rgb(229, 134, 6)",
            "pattern": {
             "shape": ""
            }
           },
           "name": "강동구",
           "orientation": "v",
           "showlegend": true,
           "textposition": "auto",
           "type": "bar",
           "x": [
            "강동구"
           ],
           "xaxis": "x",
           "y": {
            "bdata": "Rg0=",
            "dtype": "i2"
           },
           "yaxis": "y"
          },
          {
           "hovertemplate": "자치구=%{x}<br>년도=2023년<br>발생 건수=%{y}<extra></extra>",
           "legendgroup": "광진구",
           "marker": {
            "color": "rgb(93, 105, 177)",
            "pattern": {
             "shape": ""
            }
           },
           "name": "광진구",
           "orientation": "v",
           "showlegend": true,
           "textposition": "auto",
           "type": "bar",
           "x": [
            "광진구"
           ],
           "xaxis": "x",
           "y": {
            "bdata": "YA0=",
            "dtype": "i2"
           },
           "yaxis": "y"
          },
          {
           "hovertemplate": "자치구=%{x}<br>년도=2023년<br>발생 건수=%{y}<extra></extra>",
           "legendgroup": "은평구",
           "marker": {
            "color": "rgb(82, 188, 163)",
            "pattern": {
             "shape": ""
            }
           },
           "name": "은평구",
           "orientation": "v",
           "showlegend": true,
           "textposition": "auto",
           "type": "bar",
           "x": [
            "은평구"
           ],
           "xaxis": "x",
           "y": {
            "bdata": "pQ0=",
            "dtype": "i2"
           },
           "yaxis": "y"
          },
          {
           "hovertemplate": "자치구=%{x}<br>년도=2023년<br>발생 건수=%{y}<extra></extra>",
           "legendgroup": "종로구",
           "marker": {
            "color": "rgb(153, 201, 69)",
            "pattern": {
             "shape": ""
            }
           },
           "name": "종로구",
           "orientation": "v",
           "showlegend": true,
           "textposition": "auto",
           "type": "bar",
           "x": [
            "종로구"
           ],
           "xaxis": "x",
           "y": {
            "bdata": "pQs=",
            "dtype": "i2"
           },
           "yaxis": "y"
          },
          {
           "hovertemplate": "자치구=%{x}<br>년도=2023년<br>발생 건수=%{y}<extra></extra>",
           "legendgroup": "강북구",
           "marker": {
            "color": "rgb(204, 97, 176)",
            "pattern": {
             "shape": ""
            }
           },
           "name": "강북구",
           "orientation": "v",
           "showlegend": true,
           "textposition": "auto",
           "type": "bar",
           "x": [
            "강북구"
           ],
           "xaxis": "x",
           "y": {
            "bdata": "wQk=",
            "dtype": "i2"
           },
           "yaxis": "y"
          },
          {
           "hovertemplate": "자치구=%{x}<br>년도=2023년<br>발생 건수=%{y}<extra></extra>",
           "legendgroup": "동대문구",
           "marker": {
            "color": "rgb(36, 121, 108)",
            "pattern": {
             "shape": ""
            }
           },
           "name": "동대문구",
           "orientation": "v",
           "showlegend": true,
           "textposition": "auto",
           "type": "bar",
           "x": [
            "동대문구"
           ],
           "xaxis": "x",
           "y": {
            "bdata": "jQs=",
            "dtype": "i2"
           },
           "yaxis": "y"
          },
          {
           "hovertemplate": "자치구=%{x}<br>년도=2023년<br>발생 건수=%{y}<extra></extra>",
           "legendgroup": "동작구",
           "marker": {
            "color": "rgb(218, 165, 27)",
            "pattern": {
             "shape": ""
            }
           },
           "name": "동작구",
           "orientation": "v",
           "showlegend": true,
           "textposition": "auto",
           "type": "bar",
           "x": [
            "동작구"
           ],
           "xaxis": "x",
           "y": {
            "bdata": "Ugo=",
            "dtype": "i2"
           },
           "yaxis": "y"
          },
          {
           "hovertemplate": "자치구=%{x}<br>년도=2023년<br>발생 건수=%{y}<extra></extra>",
           "legendgroup": "용산구",
           "marker": {
            "color": "rgb(47, 138, 196)",
            "pattern": {
             "shape": ""
            }
           },
           "name": "용산구",
           "orientation": "v",
           "showlegend": true,
           "textposition": "auto",
           "type": "bar",
           "x": [
            "용산구"
           ],
           "xaxis": "x",
           "y": {
            "bdata": "zQs=",
            "dtype": "i2"
           },
           "yaxis": "y"
          },
          {
           "hovertemplate": "자치구=%{x}<br>년도=2023년<br>발생 건수=%{y}<extra></extra>",
           "legendgroup": "양천구",
           "marker": {
            "color": "rgb(118, 78, 159)",
            "pattern": {
             "shape": ""
            }
           },
           "name": "양천구",
           "orientation": "v",
           "showlegend": true,
           "textposition": "auto",
           "type": "bar",
           "x": [
            "양천구"
           ],
           "xaxis": "x",
           "y": {
            "bdata": "yws=",
            "dtype": "i2"
           },
           "yaxis": "y"
          },
          {
           "hovertemplate": "자치구=%{x}<br>년도=2023년<br>발생 건수=%{y}<extra></extra>",
           "legendgroup": "금천구",
           "marker": {
            "color": "rgb(237, 100, 90)",
            "pattern": {
             "shape": ""
            }
           },
           "name": "금천구",
           "orientation": "v",
           "showlegend": true,
           "textposition": "auto",
           "type": "bar",
           "x": [
            "금천구"
           ],
           "xaxis": "x",
           "y": {
            "bdata": "wAg=",
            "dtype": "i2"
           },
           "yaxis": "y"
          },
          {
           "hovertemplate": "자치구=%{x}<br>년도=2023년<br>발생 건수=%{y}<extra></extra>",
           "legendgroup": "서대문구",
           "marker": {
            "color": "rgb(165, 170, 153)",
            "pattern": {
             "shape": ""
            }
           },
           "name": "서대문구",
           "orientation": "v",
           "showlegend": true,
           "textposition": "auto",
           "type": "bar",
           "x": [
            "서대문구"
           ],
           "xaxis": "x",
           "y": {
            "bdata": "UQk=",
            "dtype": "i2"
           },
           "yaxis": "y"
          },
          {
           "hovertemplate": "자치구=%{x}<br>년도=2023년<br>발생 건수=%{y}<extra></extra>",
           "legendgroup": "성북구",
           "marker": {
            "color": "rgb(229, 134, 6)",
            "pattern": {
             "shape": ""
            }
           },
           "name": "성북구",
           "orientation": "v",
           "showlegend": true,
           "textposition": "auto",
           "type": "bar",
           "x": [
            "성북구"
           ],
           "xaxis": "x",
           "y": {
            "bdata": "awk=",
            "dtype": "i2"
           },
           "yaxis": "y"
          },
          {
           "hovertemplate": "자치구=%{x}<br>년도=2023년<br>발생 건수=%{y}<extra></extra>",
           "legendgroup": "성동구",
           "marker": {
            "color": "rgb(93, 105, 177)",
            "pattern": {
             "shape": ""
            }
           },
           "name": "성동구",
           "orientation": "v",
           "showlegend": true,
           "textposition": "auto",
           "type": "bar",
           "x": [
            "성동구"
           ],
           "xaxis": "x",
           "y": {
            "bdata": "5wc=",
            "dtype": "i2"
           },
           "yaxis": "y"
          },
          {
           "hovertemplate": "자치구=%{x}<br>년도=2023년<br>발생 건수=%{y}<extra></extra>",
           "legendgroup": "도봉구",
           "marker": {
            "color": "rgb(82, 188, 163)",
            "pattern": {
             "shape": ""
            }
           },
           "name": "도봉구",
           "orientation": "v",
           "showlegend": true,
           "textposition": "auto",
           "type": "bar",
           "x": [
            "도봉구"
           ],
           "xaxis": "x",
           "y": {
            "bdata": "gQc=",
            "dtype": "i2"
           },
           "yaxis": "y"
          }
         ],
         "name": "2023년"
        }
       ],
       "layout": {
        "barmode": "relative",
        "font": {
         "family": "Malgun Gothic, AppleGothic, NanumGothic, sans-serif",
         "size": 12
        },
        "legend": {
         "title": {
          "text": "자치구"
         },
         "tracegroupgap": 0
        },
        "sliders": [
         {
          "active": 0,
          "currentvalue": {
           "prefix": "년도="
          },
          "len": 0.9,
          "pad": {
           "b": 10,
           "t": 60
          },
          "steps": [
           {
            "args": [
             [
              "2019년"
             ],
             {
              "frame": {
               "duration": 0,
               "redraw": true
              },
              "fromcurrent": true,
              "mode": "immediate",
              "transition": {
               "duration": 0,
               "easing": "linear"
              }
             }
            ],
            "label": "2019년",
            "method": "animate"
           },
           {
            "args": [
             [
              "2020년"
             ],
             {
              "frame": {
               "duration": 0,
               "redraw": true
              },
              "fromcurrent": true,
              "mode": "immediate",
              "transition": {
               "duration": 0,
               "easing": "linear"
              }
             }
            ],
            "label": "2020년",
            "method": "animate"
           },
           {
            "args": [
             [
              "2021년"
             ],
             {
              "frame": {
               "duration": 0,
               "redraw": true
              },
              "fromcurrent": true,
              "mode": "immediate",
              "transition": {
               "duration": 0,
               "easing": "linear"
              }
             }
            ],
            "label": "2021년",
            "method": "animate"
           },
           {
            "args": [
             [
              "2022년"
             ],
             {
              "frame": {
               "duration": 0,
               "redraw": true
              },
              "fromcurrent": true,
              "mode": "immediate",
              "transition": {
               "duration": 0,
               "easing": "linear"
              }
             }
            ],
            "label": "2022년",
            "method": "animate"
           },
           {
            "args": [
             [
              "2023년"
             ],
             {
              "frame": {
               "duration": 0,
               "redraw": true
              },
              "fromcurrent": true,
              "mode": "immediate",
              "transition": {
               "duration": 0,
               "easing": "linear"
              }
             }
            ],
            "label": "2023년",
            "method": "animate"
           }
          ],
          "x": 0.1,
          "xanchor": "left",
          "y": 0,
          "yanchor": "top"
         }
        ],
        "template": {
         "data": {
          "bar": [
           {
            "error_x": {
             "color": "#2a3f5f"
            },
            "error_y": {
             "color": "#2a3f5f"
            },
            "marker": {
             "line": {
              "color": "#E5ECF6",
              "width": 0.5
             },
             "pattern": {
              "fillmode": "overlay",
              "size": 10,
              "solidity": 0.2
             }
            },
            "type": "bar"
           }
          ],
          "barpolar": [
           {
            "marker": {
             "line": {
              "color": "#E5ECF6",
              "width": 0.5
             },
             "pattern": {
              "fillmode": "overlay",
              "size": 10,
              "solidity": 0.2
             }
            },
            "type": "barpolar"
           }
          ],
          "carpet": [
           {
            "aaxis": {
             "endlinecolor": "#2a3f5f",
             "gridcolor": "white",
             "linecolor": "white",
             "minorgridcolor": "white",
             "startlinecolor": "#2a3f5f"
            },
            "baxis": {
             "endlinecolor": "#2a3f5f",
             "gridcolor": "white",
             "linecolor": "white",
             "minorgridcolor": "white",
             "startlinecolor": "#2a3f5f"
            },
            "type": "carpet"
           }
          ],
          "choropleth": [
           {
            "colorbar": {
             "outlinewidth": 0,
             "ticks": ""
            },
            "type": "choropleth"
           }
          ],
          "contour": [
           {
            "colorbar": {
             "outlinewidth": 0,
             "ticks": ""
            },
            "colorscale": [
             [
              0,
              "#0d0887"
             ],
             [
              0.1111111111111111,
              "#46039f"
             ],
             [
              0.2222222222222222,
              "#7201a8"
             ],
             [
              0.3333333333333333,
              "#9c179e"
             ],
             [
              0.4444444444444444,
              "#bd3786"
             ],
             [
              0.5555555555555556,
              "#d8576b"
             ],
             [
              0.6666666666666666,
              "#ed7953"
             ],
             [
              0.7777777777777778,
              "#fb9f3a"
             ],
             [
              0.8888888888888888,
              "#fdca26"
             ],
             [
              1,
              "#f0f921"
             ]
            ],
            "type": "contour"
           }
          ],
          "contourcarpet": [
           {
            "colorbar": {
             "outlinewidth": 0,
             "ticks": ""
            },
            "type": "contourcarpet"
           }
          ],
          "heatmap": [
           {
            "colorbar": {
             "outlinewidth": 0,
             "ticks": ""
            },
            "colorscale": [
             [
              0,
              "#0d0887"
             ],
             [
              0.1111111111111111,
              "#46039f"
             ],
             [
              0.2222222222222222,
              "#7201a8"
             ],
             [
              0.3333333333333333,
              "#9c179e"
             ],
             [
              0.4444444444444444,
              "#bd3786"
             ],
             [
              0.5555555555555556,
              "#d8576b"
             ],
             [
              0.6666666666666666,
              "#ed7953"
             ],
             [
              0.7777777777777778,
              "#fb9f3a"
             ],
             [
              0.8888888888888888,
              "#fdca26"
             ],
             [
              1,
              "#f0f921"
             ]
            ],
            "type": "heatmap"
           }
          ],
          "histogram": [
           {
            "marker": {
             "pattern": {
              "fillmode": "overlay",
              "size": 10,
              "solidity": 0.2
             }
            },
            "type": "histogram"
           }
          ],
          "histogram2d": [
           {
            "colorbar": {
             "outlinewidth": 0,
             "ticks": ""
            },
            "colorscale": [
             [
              0,
              "#0d0887"
             ],
             [
              0.1111111111111111,
              "#46039f"
             ],
             [
              0.2222222222222222,
              "#7201a8"
             ],
             [
              0.3333333333333333,
              "#9c179e"
             ],
             [
              0.4444444444444444,
              "#bd3786"
             ],
             [
              0.5555555555555556,
              "#d8576b"
             ],
             [
              0.6666666666666666,
              "#ed7953"
             ],
             [
              0.7777777777777778,
              "#fb9f3a"
             ],
             [
              0.8888888888888888,
              "#fdca26"
             ],
             [
              1,
              "#f0f921"
             ]
            ],
            "type": "histogram2d"
           }
          ],
          "histogram2dcontour": [
           {
            "colorbar": {
             "outlinewidth": 0,
             "ticks": ""
            },
            "colorscale": [
             [
              0,
              "#0d0887"
             ],
             [
              0.1111111111111111,
              "#46039f"
             ],
             [
              0.2222222222222222,
              "#7201a8"
             ],
             [
              0.3333333333333333,
              "#9c179e"
             ],
             [
              0.4444444444444444,
              "#bd3786"
             ],
             [
              0.5555555555555556,
              "#d8576b"
             ],
             [
              0.6666666666666666,
              "#ed7953"
             ],
             [
              0.7777777777777778,
              "#fb9f3a"
             ],
             [
              0.8888888888888888,
              "#fdca26"
             ],
             [
              1,
              "#f0f921"
             ]
            ],
            "type": "histogram2dcontour"
           }
          ],
          "mesh3d": [
           {
            "colorbar": {
             "outlinewidth": 0,
             "ticks": ""
            },
            "type": "mesh3d"
           }
          ],
          "parcoords": [
           {
            "line": {
             "colorbar": {
              "outlinewidth": 0,
              "ticks": ""
             }
            },
            "type": "parcoords"
           }
          ],
          "pie": [
           {
            "automargin": true,
            "type": "pie"
           }
          ],
          "scatter": [
           {
            "fillpattern": {
             "fillmode": "overlay",
             "size": 10,
             "solidity": 0.2
            },
            "type": "scatter"
           }
          ],
          "scatter3d": [
           {
            "line": {
             "colorbar": {
              "outlinewidth": 0,
              "ticks": ""
             }
            },
            "marker": {
             "colorbar": {
              "outlinewidth": 0,
              "ticks": ""
             }
            },
            "type": "scatter3d"
           }
          ],
          "scattercarpet": [
           {
            "marker": {
             "colorbar": {
              "outlinewidth": 0,
              "ticks": ""
             }
            },
            "type": "scattercarpet"
           }
          ],
          "scattergeo": [
           {
            "marker": {
             "colorbar": {
              "outlinewidth": 0,
              "ticks": ""
             }
            },
            "type": "scattergeo"
           }
          ],
          "scattergl": [
           {
            "marker": {
             "colorbar": {
              "outlinewidth": 0,
              "ticks": ""
             }
            },
            "type": "scattergl"
           }
          ],
          "scattermap": [
           {
            "marker": {
             "colorbar": {
              "outlinewidth": 0,
              "ticks": ""
             }
            },
            "type": "scattermap"
           }
          ],
          "scattermapbox": [
           {
            "marker": {
             "colorbar": {
              "outlinewidth": 0,
              "ticks": ""
             }
            },
            "type": "scattermapbox"
           }
          ],
          "scatterpolar": [
           {
            "marker": {
             "colorbar": {
              "outlinewidth": 0,
              "ticks": ""
             }
            },
            "type": "scatterpolar"
           }
          ],
          "scatterpolargl": [
           {
            "marker": {
             "colorbar": {
              "outlinewidth": 0,
              "ticks": ""
             }
            },
            "type": "scatterpolargl"
           }
          ],
          "scatterternary": [
           {
            "marker": {
             "colorbar": {
              "outlinewidth": 0,
              "ticks": ""
             }
            },
            "type": "scatterternary"
           }
          ],
          "surface": [
           {
            "colorbar": {
             "outlinewidth": 0,
             "ticks": ""
            },
            "colorscale": [
             [
              0,
              "#0d0887"
             ],
             [
              0.1111111111111111,
              "#46039f"
             ],
             [
              0.2222222222222222,
              "#7201a8"
             ],
             [
              0.3333333333333333,
              "#9c179e"
             ],
             [
              0.4444444444444444,
              "#bd3786"
             ],
             [
              0.5555555555555556,
              "#d8576b"
             ],
             [
              0.6666666666666666,
              "#ed7953"
             ],
             [
              0.7777777777777778,
              "#fb9f3a"
             ],
             [
              0.8888888888888888,
              "#fdca26"
             ],
             [
              1,
              "#f0f921"
             ]
            ],
            "type": "surface"
           }
          ],
          "table": [
           {
            "cells": {
             "fill": {
              "color": "#EBF0F8"
             },
             "line": {
              "color": "white"
             }
            },
            "header": {
             "fill": {
              "color": "#C8D4E3"
             },
             "line": {
              "color": "white"
             }
            },
            "type": "table"
           }
          ]
         },
         "layout": {
          "annotationdefaults": {
           "arrowcolor": "#2a3f5f",
           "arrowhead": 0,
           "arrowwidth": 1
          },
          "autotypenumbers": "strict",
          "coloraxis": {
           "colorbar": {
            "outlinewidth": 0,
            "ticks": ""
           }
          },
          "colorscale": {
           "diverging": [
            [
             0,
             "#8e0152"
            ],
            [
             0.1,
             "#c51b7d"
            ],
            [
             0.2,
             "#de77ae"
            ],
            [
             0.3,
             "#f1b6da"
            ],
            [
             0.4,
             "#fde0ef"
            ],
            [
             0.5,
             "#f7f7f7"
            ],
            [
             0.6,
             "#e6f5d0"
            ],
            [
             0.7,
             "#b8e186"
            ],
            [
             0.8,
             "#7fbc41"
            ],
            [
             0.9,
             "#4d9221"
            ],
            [
             1,
             "#276419"
            ]
           ],
           "sequential": [
            [
             0,
             "#0d0887"
            ],
            [
             0.1111111111111111,
             "#46039f"
            ],
            [
             0.2222222222222222,
             "#7201a8"
            ],
            [
             0.3333333333333333,
             "#9c179e"
            ],
            [
             0.4444444444444444,
             "#bd3786"
            ],
            [
             0.5555555555555556,
             "#d8576b"
            ],
            [
             0.6666666666666666,
             "#ed7953"
            ],
            [
             0.7777777777777778,
             "#fb9f3a"
            ],
            [
             0.8888888888888888,
             "#fdca26"
            ],
            [
             1,
             "#f0f921"
            ]
           ],
           "sequentialminus": [
            [
             0,
             "#0d0887"
            ],
            [
             0.1111111111111111,
             "#46039f"
            ],
            [
             0.2222222222222222,
             "#7201a8"
            ],
            [
             0.3333333333333333,
             "#9c179e"
            ],
            [
             0.4444444444444444,
             "#bd3786"
            ],
            [
             0.5555555555555556,
             "#d8576b"
            ],
            [
             0.6666666666666666,
             "#ed7953"
            ],
            [
             0.7777777777777778,
             "#fb9f3a"
            ],
            [
             0.8888888888888888,
             "#fdca26"
            ],
            [
             1,
             "#f0f921"
            ]
           ]
          },
          "colorway": [
           "#636efa",
           "#EF553B",
           "#00cc96",
           "#ab63fa",
           "#FFA15A",
           "#19d3f3",
           "#FF6692",
           "#B6E880",
           "#FF97FF",
           "#FECB52"
          ],
          "font": {
           "color": "#2a3f5f"
          },
          "geo": {
           "bgcolor": "white",
           "lakecolor": "white",
           "landcolor": "#E5ECF6",
           "showlakes": true,
           "showland": true,
           "subunitcolor": "white"
          },
          "hoverlabel": {
           "align": "left"
          },
          "hovermode": "closest",
          "mapbox": {
           "style": "light"
          },
          "paper_bgcolor": "white",
          "plot_bgcolor": "#E5ECF6",
          "polar": {
           "angularaxis": {
            "gridcolor": "white",
            "linecolor": "white",
            "ticks": ""
           },
           "bgcolor": "#E5ECF6",
           "radialaxis": {
            "gridcolor": "white",
            "linecolor": "white",
            "ticks": ""
           }
          },
          "scene": {
           "xaxis": {
            "backgroundcolor": "#E5ECF6",
            "gridcolor": "white",
            "gridwidth": 2,
            "linecolor": "white",
            "showbackground": true,
            "ticks": "",
            "zerolinecolor": "white"
           },
           "yaxis": {
            "backgroundcolor": "#E5ECF6",
            "gridcolor": "white",
            "gridwidth": 2,
            "linecolor": "white",
            "showbackground": true,
            "ticks": "",
            "zerolinecolor": "white"
           },
           "zaxis": {
            "backgroundcolor": "#E5ECF6",
            "gridcolor": "white",
            "gridwidth": 2,
            "linecolor": "white",
            "showbackground": true,
            "ticks": "",
            "zerolinecolor": "white"
           }
          },
          "shapedefaults": {
           "line": {
            "color": "#2a3f5f"
           }
          },
          "ternary": {
           "aaxis": {
            "gridcolor": "white",
            "linecolor": "white",
            "ticks": ""
           },
           "baxis": {
            "gridcolor": "white",
            "linecolor": "white",
            "ticks": ""
           },
           "bgcolor": "#E5ECF6",
           "caxis": {
            "gridcolor": "white",
            "linecolor": "white",
            "ticks": ""
           }
          },
          "title": {
           "x": 0.05
          },
          "xaxis": {
           "automargin": true,
           "gridcolor": "white",
           "linecolor": "white",
           "ticks": "",
           "title": {
            "standoff": 15
           },
           "zerolinecolor": "white",
           "zerolinewidth": 2
          },
          "yaxis": {
           "automargin": true,
           "gridcolor": "white",
           "linecolor": "white",
           "ticks": "",
           "title": {
            "standoff": 15
           },
           "zerolinecolor": "white",
           "zerolinewidth": 2
          }
         }
        },
        "title": {
         "text": "<b>년도별 서울시 자치구 범죄 발생 건수 (Plotly)</b>",
         "x": 0.5
        },
        "updatemenus": [
         {
          "buttons": [
           {
            "args": [
             null,
             {
              "frame": {
               "duration": 1000,
               "redraw": true
              },
              "fromcurrent": true,
              "mode": "immediate",
              "transition": {
               "duration": 500,
               "easing": "linear"
              }
             }
            ],
            "label": "&#9654;",
            "method": "animate"
           },
           {
            "args": [
             [
              null
             ],
             {
              "frame": {
               "duration": 0,
               "redraw": true
              },
              "fromcurrent": true,
              "mode": "immediate",
              "transition": {
               "duration": 0,
               "easing": "linear"
              }
             }
            ],
            "label": "&#9724;",
            "method": "animate"
           }
          ],
          "direction": "left",
          "pad": {
           "r": 10,
           "t": 70
          },
          "showactive": false,
          "type": "buttons",
          "x": 0.1,
          "xanchor": "right",
          "y": 0,
          "yanchor": "top"
         }
        ],
        "xaxis": {
         "anchor": "y",
         "categoryarray": [
          "강남구",
          "영등포구",
          "송파구",
          "서초구",
          "관악구",
          "강서구",
          "마포구",
          "구로구",
          "중구",
          "중랑구",
          "노원구",
          "강동구",
          "광진구",
          "은평구",
          "종로구",
          "강북구",
          "동대문구",
          "동작구",
          "용산구",
          "양천구",
          "금천구",
          "서대문구",
          "성북구",
          "성동구",
          "도봉구"
         ],
         "categoryorder": "total descending",
         "domain": [
          0,
          1
         ],
         "title": {
          "text": "자치구"
         }
        },
        "yaxis": {
         "anchor": "x",
         "domain": [
          0,
          1
         ],
         "range": [
          0,
          11769.6
         ],
         "title": {
          "text": "발생 건수"
         }
        }
       }
      }
     },
     "metadata": {},
     "output_type": "display_data"
    }
   ],
   "source": [
    "# --- 5. Plotly로 애니메이션 그래프 그리기 ---\n",
    "print(\"\\n--- 3. Plotly로 애니메이션 그래프 생성 ---\")\n",
    "# Plotly에 적합한 형태로 데이터 구조 변경 (Wide to Long)\n",
    "df_long = pd.melt(df_year,\n",
    "                  id_vars=['자치구별'],\n",
    "                  var_name='년도',\n",
    "                  value_name='발생 횟수')\n",
    "\n",
    "# 년도별로 정렬\n",
    "df_long = df_long.sort_values(by=['년도', '발생 횟수'], ascending=[True, False])\n",
    "\n",
    "fig = px.bar(df_long,\n",
    "             x='자치구별',\n",
    "             y='발생 횟수',\n",
    "             color='자치구별',\n",
    "             animation_frame='년도', # 이 옵션이 애니메이션을 만듭니다.\n",
    "             title='<b>년도별 서울시 자치구 범죄 발생 건수</b>',\n",
    "             labels={'자치구별': '자치구', '발생 횟수': '발생 건수'},\n",
    "             color_discrete_sequence=px.colors.qualitative.Vivid)\n",
    "\n",
    "# 애니메이션이 부드럽게 보이도록 y축 범위 고정\n",
    "fig.update_yaxes(range=[0, df_long['발생 횟수'].max() * 1.6])\n",
    "\n",
    "# 레이아웃 및 폰트 설정\n",
    "fig.update_layout(\n",
    "    title_x=0.5,\n",
    "    font=dict(family=\"Malgun Gothic, AppleGothic, NanumGothic, sans-serif\", size=12),\n",
    "    xaxis={'categoryorder':'total descending'} # 각 년도마다 막대를 내림차순으로 정렬\n",
    ")\n",
    "\n",
    "# --- 애니메이션 속도 조절 (수정된 부분) ---\n",
    "# Plotly가 자동으로 생성한 플레이 버튼의 애니메이션 속성값을 변경합니다.\n",
    "# duration: 각 프레임(년도)이 표시되는 시간 (1000ms = 1초)\n",
    "# transition: 프레임 간 전환(애니메이션)에 걸리는 시간 (500ms = 0.5초)\n",
    "fig.layout.updatemenus[0].buttons[0].args[1]['frame']['duration'] = 1000\n",
    "fig.layout.updatemenus[0].buttons[0].args[1]['transition']['duration'] = 500\n",
    "\n",
    "fig.show()"
   ]
  },
  {
   "cell_type": "code",
   "execution_count": null,
   "id": "48f070c0",
   "metadata": {},
   "outputs": [],
   "source": []
  },
  {
   "cell_type": "code",
   "execution_count": null,
   "id": "83854428",
   "metadata": {},
   "outputs": [],
   "source": []
  },
  {
   "cell_type": "code",
   "execution_count": null,
   "id": "cc55c214",
   "metadata": {},
   "outputs": [],
   "source": []
  },
  {
   "cell_type": "code",
   "execution_count": null,
   "id": "4cb59467",
   "metadata": {},
   "outputs": [],
   "source": []
  }
 ],
 "metadata": {
  "kernelspec": {
   "display_name": "streamlit_env",
   "language": "python",
   "name": "python3"
  },
  "language_info": {
   "codemirror_mode": {
    "name": "ipython",
    "version": 3
   },
   "file_extension": ".py",
   "mimetype": "text/x-python",
   "name": "python",
   "nbconvert_exporter": "python",
   "pygments_lexer": "ipython3",
   "version": "3.9.23"
  }
 },
 "nbformat": 4,
 "nbformat_minor": 5
}
