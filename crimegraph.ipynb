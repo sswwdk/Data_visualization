{
 "cells": [
  {
   "cell_type": "code",
   "execution_count": 3,
   "id": "0d14d4de",
   "metadata": {},
   "outputs": [
    {
     "data": {
      "application/vnd.plotly.v1+json": {
       "config": {
        "plotlyServerURL": "https://plot.ly"
       },
       "data": [
        {
         "hovertemplate": "자치구=%{x}<br>년도=2019년<br>발생 건수=%{y}<extra></extra>",
         "legendgroup": "강남구",
         "marker": {
          "color": "rgb(229, 134, 6)",
          "pattern": {
           "shape": ""
          }
         },
         "name": "강남구",
         "orientation": "v",
         "showlegend": true,
         "textposition": "auto",
         "type": "bar",
         "x": [
          "강남구"
         ],
         "xaxis": "x",
         "y": {
          "bdata": "iBw=",
          "dtype": "i2"
         },
         "yaxis": "y"
        },
        {
         "hovertemplate": "자치구=%{x}<br>년도=2019년<br>발생 건수=%{y}<extra></extra>",
         "legendgroup": "영등포구",
         "marker": {
          "color": "rgb(93, 105, 177)",
          "pattern": {
           "shape": ""
          }
         },
         "name": "영등포구",
         "orientation": "v",
         "showlegend": true,
         "textposition": "auto",
         "type": "bar",
         "x": [
          "영등포구"
         ],
         "xaxis": "x",
         "y": {
          "bdata": "vBY=",
          "dtype": "i2"
         },
         "yaxis": "y"
        },
        {
         "hovertemplate": "자치구=%{x}<br>년도=2019년<br>발생 건수=%{y}<extra></extra>",
         "legendgroup": "송파구",
         "marker": {
          "color": "rgb(82, 188, 163)",
          "pattern": {
           "shape": ""
          }
         },
         "name": "송파구",
         "orientation": "v",
         "showlegend": true,
         "textposition": "auto",
         "type": "bar",
         "x": [
          "송파구"
         ],
         "xaxis": "x",
         "y": {
          "bdata": "QhY=",
          "dtype": "i2"
         },
         "yaxis": "y"
        },
        {
         "hovertemplate": "자치구=%{x}<br>년도=2019년<br>발생 건수=%{y}<extra></extra>",
         "legendgroup": "서초구",
         "marker": {
          "color": "rgb(153, 201, 69)",
          "pattern": {
           "shape": ""
          }
         },
         "name": "서초구",
         "orientation": "v",
         "showlegend": true,
         "textposition": "auto",
         "type": "bar",
         "x": [
          "서초구"
         ],
         "xaxis": "x",
         "y": {
          "bdata": "phU=",
          "dtype": "i2"
         },
         "yaxis": "y"
        },
        {
         "hovertemplate": "자치구=%{x}<br>년도=2019년<br>발생 건수=%{y}<extra></extra>",
         "legendgroup": "관악구",
         "marker": {
          "color": "rgb(204, 97, 176)",
          "pattern": {
           "shape": ""
          }
         },
         "name": "관악구",
         "orientation": "v",
         "showlegend": true,
         "textposition": "auto",
         "type": "bar",
         "x": [
          "관악구"
         ],
         "xaxis": "x",
         "y": {
          "bdata": "0BQ=",
          "dtype": "i2"
         },
         "yaxis": "y"
        },
        {
         "hovertemplate": "자치구=%{x}<br>년도=2019년<br>발생 건수=%{y}<extra></extra>",
         "legendgroup": "강서구",
         "marker": {
          "color": "rgb(36, 121, 108)",
          "pattern": {
           "shape": ""
          }
         },
         "name": "강서구",
         "orientation": "v",
         "showlegend": true,
         "textposition": "auto",
         "type": "bar",
         "x": [
          "강서구"
         ],
         "xaxis": "x",
         "y": {
          "bdata": "PBM=",
          "dtype": "i2"
         },
         "yaxis": "y"
        },
        {
         "hovertemplate": "자치구=%{x}<br>년도=2019년<br>발생 건수=%{y}<extra></extra>",
         "legendgroup": "마포구",
         "marker": {
          "color": "rgb(218, 165, 27)",
          "pattern": {
           "shape": ""
          }
         },
         "name": "마포구",
         "orientation": "v",
         "showlegend": true,
         "textposition": "auto",
         "type": "bar",
         "x": [
          "마포구"
         ],
         "xaxis": "x",
         "y": {
          "bdata": "6hI=",
          "dtype": "i2"
         },
         "yaxis": "y"
        },
        {
         "hovertemplate": "자치구=%{x}<br>년도=2019년<br>발생 건수=%{y}<extra></extra>",
         "legendgroup": "구로구",
         "marker": {
          "color": "rgb(47, 138, 196)",
          "pattern": {
           "shape": ""
          }
         },
         "name": "구로구",
         "orientation": "v",
         "showlegend": true,
         "textposition": "auto",
         "type": "bar",
         "x": [
          "구로구"
         ],
         "xaxis": "x",
         "y": {
          "bdata": "YxI=",
          "dtype": "i2"
         },
         "yaxis": "y"
        },
        {
         "hovertemplate": "자치구=%{x}<br>년도=2019년<br>발생 건수=%{y}<extra></extra>",
         "legendgroup": "중구",
         "marker": {
          "color": "rgb(118, 78, 159)",
          "pattern": {
           "shape": ""
          }
         },
         "name": "중구",
         "orientation": "v",
         "showlegend": true,
         "textposition": "auto",
         "type": "bar",
         "x": [
          "중구"
         ],
         "xaxis": "x",
         "y": {
          "bdata": "5xA=",
          "dtype": "i2"
         },
         "yaxis": "y"
        },
        {
         "hovertemplate": "자치구=%{x}<br>년도=2019년<br>발생 건수=%{y}<extra></extra>",
         "legendgroup": "중랑구",
         "marker": {
          "color": "rgb(237, 100, 90)",
          "pattern": {
           "shape": ""
          }
         },
         "name": "중랑구",
         "orientation": "v",
         "showlegend": true,
         "textposition": "auto",
         "type": "bar",
         "x": [
          "중랑구"
         ],
         "xaxis": "x",
         "y": {
          "bdata": "rBA=",
          "dtype": "i2"
         },
         "yaxis": "y"
        },
        {
         "hovertemplate": "자치구=%{x}<br>년도=2019년<br>발생 건수=%{y}<extra></extra>",
         "legendgroup": "노원구",
         "marker": {
          "color": "rgb(165, 170, 153)",
          "pattern": {
           "shape": ""
          }
         },
         "name": "노원구",
         "orientation": "v",
         "showlegend": true,
         "textposition": "auto",
         "type": "bar",
         "x": [
          "노원구"
         ],
         "xaxis": "x",
         "y": {
          "bdata": "ORA=",
          "dtype": "i2"
         },
         "yaxis": "y"
        },
        {
         "hovertemplate": "자치구=%{x}<br>년도=2019년<br>발생 건수=%{y}<extra></extra>",
         "legendgroup": "강동구",
         "marker": {
          "color": "rgb(229, 134, 6)",
          "pattern": {
           "shape": ""
          }
         },
         "name": "강동구",
         "orientation": "v",
         "showlegend": true,
         "textposition": "auto",
         "type": "bar",
         "x": [
          "강동구"
         ],
         "xaxis": "x",
         "y": {
          "bdata": "rg8=",
          "dtype": "i2"
         },
         "yaxis": "y"
        },
        {
         "hovertemplate": "자치구=%{x}<br>년도=2019년<br>발생 건수=%{y}<extra></extra>",
         "legendgroup": "광진구",
         "marker": {
          "color": "rgb(93, 105, 177)",
          "pattern": {
           "shape": ""
          }
         },
         "name": "광진구",
         "orientation": "v",
         "showlegend": true,
         "textposition": "auto",
         "type": "bar",
         "x": [
          "광진구"
         ],
         "xaxis": "x",
         "y": {
          "bdata": "qw8=",
          "dtype": "i2"
         },
         "yaxis": "y"
        },
        {
         "hovertemplate": "자치구=%{x}<br>년도=2019년<br>발생 건수=%{y}<extra></extra>",
         "legendgroup": "은평구",
         "marker": {
          "color": "rgb(82, 188, 163)",
          "pattern": {
           "shape": ""
          }
         },
         "name": "은평구",
         "orientation": "v",
         "showlegend": true,
         "textposition": "auto",
         "type": "bar",
         "x": [
          "은평구"
         ],
         "xaxis": "x",
         "y": {
          "bdata": "KA8=",
          "dtype": "i2"
         },
         "yaxis": "y"
        },
        {
         "hovertemplate": "자치구=%{x}<br>년도=2019년<br>발생 건수=%{y}<extra></extra>",
         "legendgroup": "종로구",
         "marker": {
          "color": "rgb(153, 201, 69)",
          "pattern": {
           "shape": ""
          }
         },
         "name": "종로구",
         "orientation": "v",
         "showlegend": true,
         "textposition": "auto",
         "type": "bar",
         "x": [
          "종로구"
         ],
         "xaxis": "x",
         "y": {
          "bdata": "Bg8=",
          "dtype": "i2"
         },
         "yaxis": "y"
        },
        {
         "hovertemplate": "자치구=%{x}<br>년도=2019년<br>발생 건수=%{y}<extra></extra>",
         "legendgroup": "강북구",
         "marker": {
          "color": "rgb(204, 97, 176)",
          "pattern": {
           "shape": ""
          }
         },
         "name": "강북구",
         "orientation": "v",
         "showlegend": true,
         "textposition": "auto",
         "type": "bar",
         "x": [
          "강북구"
         ],
         "xaxis": "x",
         "y": {
          "bdata": "/g4=",
          "dtype": "i2"
         },
         "yaxis": "y"
        },
        {
         "hovertemplate": "자치구=%{x}<br>년도=2019년<br>발생 건수=%{y}<extra></extra>",
         "legendgroup": "동대문구",
         "marker": {
          "color": "rgb(36, 121, 108)",
          "pattern": {
           "shape": ""
          }
         },
         "name": "동대문구",
         "orientation": "v",
         "showlegend": true,
         "textposition": "auto",
         "type": "bar",
         "x": [
          "동대문구"
         ],
         "xaxis": "x",
         "y": {
          "bdata": "bA4=",
          "dtype": "i2"
         },
         "yaxis": "y"
        },
        {
         "hovertemplate": "자치구=%{x}<br>년도=2019년<br>발생 건수=%{y}<extra></extra>",
         "legendgroup": "동작구",
         "marker": {
          "color": "rgb(218, 165, 27)",
          "pattern": {
           "shape": ""
          }
         },
         "name": "동작구",
         "orientation": "v",
         "showlegend": true,
         "textposition": "auto",
         "type": "bar",
         "x": [
          "동작구"
         ],
         "xaxis": "x",
         "y": {
          "bdata": "SA0=",
          "dtype": "i2"
         },
         "yaxis": "y"
        },
        {
         "hovertemplate": "자치구=%{x}<br>년도=2019년<br>발생 건수=%{y}<extra></extra>",
         "legendgroup": "용산구",
         "marker": {
          "color": "rgb(47, 138, 196)",
          "pattern": {
           "shape": ""
          }
         },
         "name": "용산구",
         "orientation": "v",
         "showlegend": true,
         "textposition": "auto",
         "type": "bar",
         "x": [
          "용산구"
         ],
         "xaxis": "x",
         "y": {
          "bdata": "8Qw=",
          "dtype": "i2"
         },
         "yaxis": "y"
        },
        {
         "hovertemplate": "자치구=%{x}<br>년도=2019년<br>발생 건수=%{y}<extra></extra>",
         "legendgroup": "양천구",
         "marker": {
          "color": "rgb(118, 78, 159)",
          "pattern": {
           "shape": ""
          }
         },
         "name": "양천구",
         "orientation": "v",
         "showlegend": true,
         "textposition": "auto",
         "type": "bar",
         "x": [
          "양천구"
         ],
         "xaxis": "x",
         "y": {
          "bdata": "jgw=",
          "dtype": "i2"
         },
         "yaxis": "y"
        },
        {
         "hovertemplate": "자치구=%{x}<br>년도=2019년<br>발생 건수=%{y}<extra></extra>",
         "legendgroup": "금천구",
         "marker": {
          "color": "rgb(237, 100, 90)",
          "pattern": {
           "shape": ""
          }
         },
         "name": "금천구",
         "orientation": "v",
         "showlegend": true,
         "textposition": "auto",
         "type": "bar",
         "x": [
          "금천구"
         ],
         "xaxis": "x",
         "y": {
          "bdata": "IQw=",
          "dtype": "i2"
         },
         "yaxis": "y"
        },
        {
         "hovertemplate": "자치구=%{x}<br>년도=2019년<br>발생 건수=%{y}<extra></extra>",
         "legendgroup": "서대문구",
         "marker": {
          "color": "rgb(165, 170, 153)",
          "pattern": {
           "shape": ""
          }
         },
         "name": "서대문구",
         "orientation": "v",
         "showlegend": true,
         "textposition": "auto",
         "type": "bar",
         "x": [
          "서대문구"
         ],
         "xaxis": "x",
         "y": {
          "bdata": "fws=",
          "dtype": "i2"
         },
         "yaxis": "y"
        },
        {
         "hovertemplate": "자치구=%{x}<br>년도=2019년<br>발생 건수=%{y}<extra></extra>",
         "legendgroup": "성북구",
         "marker": {
          "color": "rgb(229, 134, 6)",
          "pattern": {
           "shape": ""
          }
         },
         "name": "성북구",
         "orientation": "v",
         "showlegend": true,
         "textposition": "auto",
         "type": "bar",
         "x": [
          "성북구"
         ],
         "xaxis": "x",
         "y": {
          "bdata": "PQs=",
          "dtype": "i2"
         },
         "yaxis": "y"
        },
        {
         "hovertemplate": "자치구=%{x}<br>년도=2019년<br>발생 건수=%{y}<extra></extra>",
         "legendgroup": "성동구",
         "marker": {
          "color": "rgb(93, 105, 177)",
          "pattern": {
           "shape": ""
          }
         },
         "name": "성동구",
         "orientation": "v",
         "showlegend": true,
         "textposition": "auto",
         "type": "bar",
         "x": [
          "성동구"
         ],
         "xaxis": "x",
         "y": {
          "bdata": "0Ak=",
          "dtype": "i2"
         },
         "yaxis": "y"
        },
        {
         "hovertemplate": "자치구=%{x}<br>년도=2019년<br>발생 건수=%{y}<extra></extra>",
         "legendgroup": "도봉구",
         "marker": {
          "color": "rgb(82, 188, 163)",
          "pattern": {
           "shape": ""
          }
         },
         "name": "도봉구",
         "orientation": "v",
         "showlegend": true,
         "textposition": "auto",
         "type": "bar",
         "x": [
          "도봉구"
         ],
         "xaxis": "x",
         "y": {
          "bdata": "Pgg=",
          "dtype": "i2"
         },
         "yaxis": "y"
        }
       ],
       "frames": [
        {
         "data": [
          {
           "hovertemplate": "자치구=%{x}<br>년도=2019년<br>발생 건수=%{y}<extra></extra>",
           "legendgroup": "강남구",
           "marker": {
            "color": "rgb(229, 134, 6)",
            "pattern": {
             "shape": ""
            }
           },
           "name": "강남구",
           "orientation": "v",
           "showlegend": true,
           "textposition": "auto",
           "type": "bar",
           "x": [
            "강남구"
           ],
           "xaxis": "x",
           "y": {
            "bdata": "iBw=",
            "dtype": "i2"
           },
           "yaxis": "y"
          },
          {
           "hovertemplate": "자치구=%{x}<br>년도=2019년<br>발생 건수=%{y}<extra></extra>",
           "legendgroup": "영등포구",
           "marker": {
            "color": "rgb(93, 105, 177)",
            "pattern": {
             "shape": ""
            }
           },
           "name": "영등포구",
           "orientation": "v",
           "showlegend": true,
           "textposition": "auto",
           "type": "bar",
           "x": [
            "영등포구"
           ],
           "xaxis": "x",
           "y": {
            "bdata": "vBY=",
            "dtype": "i2"
           },
           "yaxis": "y"
          },
          {
           "hovertemplate": "자치구=%{x}<br>년도=2019년<br>발생 건수=%{y}<extra></extra>",
           "legendgroup": "송파구",
           "marker": {
            "color": "rgb(82, 188, 163)",
            "pattern": {
             "shape": ""
            }
           },
           "name": "송파구",
           "orientation": "v",
           "showlegend": true,
           "textposition": "auto",
           "type": "bar",
           "x": [
            "송파구"
           ],
           "xaxis": "x",
           "y": {
            "bdata": "QhY=",
            "dtype": "i2"
           },
           "yaxis": "y"
          },
          {
           "hovertemplate": "자치구=%{x}<br>년도=2019년<br>발생 건수=%{y}<extra></extra>",
           "legendgroup": "서초구",
           "marker": {
            "color": "rgb(153, 201, 69)",
            "pattern": {
             "shape": ""
            }
           },
           "name": "서초구",
           "orientation": "v",
           "showlegend": true,
           "textposition": "auto",
           "type": "bar",
           "x": [
            "서초구"
           ],
           "xaxis": "x",
           "y": {
            "bdata": "phU=",
            "dtype": "i2"
           },
           "yaxis": "y"
          },
          {
           "hovertemplate": "자치구=%{x}<br>년도=2019년<br>발생 건수=%{y}<extra></extra>",
           "legendgroup": "관악구",
           "marker": {
            "color": "rgb(204, 97, 176)",
            "pattern": {
             "shape": ""
            }
           },
           "name": "관악구",
           "orientation": "v",
           "showlegend": true,
           "textposition": "auto",
           "type": "bar",
           "x": [
            "관악구"
           ],
           "xaxis": "x",
           "y": {
            "bdata": "0BQ=",
            "dtype": "i2"
           },
           "yaxis": "y"
          },
          {
           "hovertemplate": "자치구=%{x}<br>년도=2019년<br>발생 건수=%{y}<extra></extra>",
           "legendgroup": "강서구",
           "marker": {
            "color": "rgb(36, 121, 108)",
            "pattern": {
             "shape": ""
            }
           },
           "name": "강서구",
           "orientation": "v",
           "showlegend": true,
           "textposition": "auto",
           "type": "bar",
           "x": [
            "강서구"
           ],
           "xaxis": "x",
           "y": {
            "bdata": "PBM=",
            "dtype": "i2"
           },
           "yaxis": "y"
          },
          {
           "hovertemplate": "자치구=%{x}<br>년도=2019년<br>발생 건수=%{y}<extra></extra>",
           "legendgroup": "마포구",
           "marker": {
            "color": "rgb(218, 165, 27)",
            "pattern": {
             "shape": ""
            }
           },
           "name": "마포구",
           "orientation": "v",
           "showlegend": true,
           "textposition": "auto",
           "type": "bar",
           "x": [
            "마포구"
           ],
           "xaxis": "x",
           "y": {
            "bdata": "6hI=",
            "dtype": "i2"
           },
           "yaxis": "y"
          },
          {
           "hovertemplate": "자치구=%{x}<br>년도=2019년<br>발생 건수=%{y}<extra></extra>",
           "legendgroup": "구로구",
           "marker": {
            "color": "rgb(47, 138, 196)",
            "pattern": {
             "shape": ""
            }
           },
           "name": "구로구",
           "orientation": "v",
           "showlegend": true,
           "textposition": "auto",
           "type": "bar",
           "x": [
            "구로구"
           ],
           "xaxis": "x",
           "y": {
            "bdata": "YxI=",
            "dtype": "i2"
           },
           "yaxis": "y"
          },
          {
           "hovertemplate": "자치구=%{x}<br>년도=2019년<br>발생 건수=%{y}<extra></extra>",
           "legendgroup": "중구",
           "marker": {
            "color": "rgb(118, 78, 159)",
            "pattern": {
             "shape": ""
            }
           },
           "name": "중구",
           "orientation": "v",
           "showlegend": true,
           "textposition": "auto",
           "type": "bar",
           "x": [
            "중구"
           ],
           "xaxis": "x",
           "y": {
            "bdata": "5xA=",
            "dtype": "i2"
           },
           "yaxis": "y"
          },
          {
           "hovertemplate": "자치구=%{x}<br>년도=2019년<br>발생 건수=%{y}<extra></extra>",
           "legendgroup": "중랑구",
           "marker": {
            "color": "rgb(237, 100, 90)",
            "pattern": {
             "shape": ""
            }
           },
           "name": "중랑구",
           "orientation": "v",
           "showlegend": true,
           "textposition": "auto",
           "type": "bar",
           "x": [
            "중랑구"
           ],
           "xaxis": "x",
           "y": {
            "bdata": "rBA=",
            "dtype": "i2"
           },
           "yaxis": "y"
          },
          {
           "hovertemplate": "자치구=%{x}<br>년도=2019년<br>발생 건수=%{y}<extra></extra>",
           "legendgroup": "노원구",
           "marker": {
            "color": "rgb(165, 170, 153)",
            "pattern": {
             "shape": ""
            }
           },
           "name": "노원구",
           "orientation": "v",
           "showlegend": true,
           "textposition": "auto",
           "type": "bar",
           "x": [
            "노원구"
           ],
           "xaxis": "x",
           "y": {
            "bdata": "ORA=",
            "dtype": "i2"
           },
           "yaxis": "y"
          },
          {
           "hovertemplate": "자치구=%{x}<br>년도=2019년<br>발생 건수=%{y}<extra></extra>",
           "legendgroup": "강동구",
           "marker": {
            "color": "rgb(229, 134, 6)",
            "pattern": {
             "shape": ""
            }
           },
           "name": "강동구",
           "orientation": "v",
           "showlegend": true,
           "textposition": "auto",
           "type": "bar",
           "x": [
            "강동구"
           ],
           "xaxis": "x",
           "y": {
            "bdata": "rg8=",
            "dtype": "i2"
           },
           "yaxis": "y"
          },
          {
           "hovertemplate": "자치구=%{x}<br>년도=2019년<br>발생 건수=%{y}<extra></extra>",
           "legendgroup": "광진구",
           "marker": {
            "color": "rgb(93, 105, 177)",
            "pattern": {
             "shape": ""
            }
           },
           "name": "광진구",
           "orientation": "v",
           "showlegend": true,
           "textposition": "auto",
           "type": "bar",
           "x": [
            "광진구"
           ],
           "xaxis": "x",
           "y": {
            "bdata": "qw8=",
            "dtype": "i2"
           },
           "yaxis": "y"
          },
          {
           "hovertemplate": "자치구=%{x}<br>년도=2019년<br>발생 건수=%{y}<extra></extra>",
           "legendgroup": "은평구",
           "marker": {
            "color": "rgb(82, 188, 163)",
            "pattern": {
             "shape": ""
            }
           },
           "name": "은평구",
           "orientation": "v",
           "showlegend": true,
           "textposition": "auto",
           "type": "bar",
           "x": [
            "은평구"
           ],
           "xaxis": "x",
           "y": {
            "bdata": "KA8=",
            "dtype": "i2"
           },
           "yaxis": "y"
          },
          {
           "hovertemplate": "자치구=%{x}<br>년도=2019년<br>발생 건수=%{y}<extra></extra>",
           "legendgroup": "종로구",
           "marker": {
            "color": "rgb(153, 201, 69)",
            "pattern": {
             "shape": ""
            }
           },
           "name": "종로구",
           "orientation": "v",
           "showlegend": true,
           "textposition": "auto",
           "type": "bar",
           "x": [
            "종로구"
           ],
           "xaxis": "x",
           "y": {
            "bdata": "Bg8=",
            "dtype": "i2"
           },
           "yaxis": "y"
          },
          {
           "hovertemplate": "자치구=%{x}<br>년도=2019년<br>발생 건수=%{y}<extra></extra>",
           "legendgroup": "강북구",
           "marker": {
            "color": "rgb(204, 97, 176)",
            "pattern": {
             "shape": ""
            }
           },
           "name": "강북구",
           "orientation": "v",
           "showlegend": true,
           "textposition": "auto",
           "type": "bar",
           "x": [
            "강북구"
           ],
           "xaxis": "x",
           "y": {
            "bdata": "/g4=",
            "dtype": "i2"
           },
           "yaxis": "y"
          },
          {
           "hovertemplate": "자치구=%{x}<br>년도=2019년<br>발생 건수=%{y}<extra></extra>",
           "legendgroup": "동대문구",
           "marker": {
            "color": "rgb(36, 121, 108)",
            "pattern": {
             "shape": ""
            }
           },
           "name": "동대문구",
           "orientation": "v",
           "showlegend": true,
           "textposition": "auto",
           "type": "bar",
           "x": [
            "동대문구"
           ],
           "xaxis": "x",
           "y": {
            "bdata": "bA4=",
            "dtype": "i2"
           },
           "yaxis": "y"
          },
          {
           "hovertemplate": "자치구=%{x}<br>년도=2019년<br>발생 건수=%{y}<extra></extra>",
           "legendgroup": "동작구",
           "marker": {
            "color": "rgb(218, 165, 27)",
            "pattern": {
             "shape": ""
            }
           },
           "name": "동작구",
           "orientation": "v",
           "showlegend": true,
           "textposition": "auto",
           "type": "bar",
           "x": [
            "동작구"
           ],
           "xaxis": "x",
           "y": {
            "bdata": "SA0=",
            "dtype": "i2"
           },
           "yaxis": "y"
          },
          {
           "hovertemplate": "자치구=%{x}<br>년도=2019년<br>발생 건수=%{y}<extra></extra>",
           "legendgroup": "용산구",
           "marker": {
            "color": "rgb(47, 138, 196)",
            "pattern": {
             "shape": ""
            }
           },
           "name": "용산구",
           "orientation": "v",
           "showlegend": true,
           "textposition": "auto",
           "type": "bar",
           "x": [
            "용산구"
           ],
           "xaxis": "x",
           "y": {
            "bdata": "8Qw=",
            "dtype": "i2"
           },
           "yaxis": "y"
          },
          {
           "hovertemplate": "자치구=%{x}<br>년도=2019년<br>발생 건수=%{y}<extra></extra>",
           "legendgroup": "양천구",
           "marker": {
            "color": "rgb(118, 78, 159)",
            "pattern": {
             "shape": ""
            }
           },
           "name": "양천구",
           "orientation": "v",
           "showlegend": true,
           "textposition": "auto",
           "type": "bar",
           "x": [
            "양천구"
           ],
           "xaxis": "x",
           "y": {
            "bdata": "jgw=",
            "dtype": "i2"
           },
           "yaxis": "y"
          },
          {
           "hovertemplate": "자치구=%{x}<br>년도=2019년<br>발생 건수=%{y}<extra></extra>",
           "legendgroup": "금천구",
           "marker": {
            "color": "rgb(237, 100, 90)",
            "pattern": {
             "shape": ""
            }
           },
           "name": "금천구",
           "orientation": "v",
           "showlegend": true,
           "textposition": "auto",
           "type": "bar",
           "x": [
            "금천구"
           ],
           "xaxis": "x",
           "y": {
            "bdata": "IQw=",
            "dtype": "i2"
           },
           "yaxis": "y"
          },
          {
           "hovertemplate": "자치구=%{x}<br>년도=2019년<br>발생 건수=%{y}<extra></extra>",
           "legendgroup": "서대문구",
           "marker": {
            "color": "rgb(165, 170, 153)",
            "pattern": {
             "shape": ""
            }
           },
           "name": "서대문구",
           "orientation": "v",
           "showlegend": true,
           "textposition": "auto",
           "type": "bar",
           "x": [
            "서대문구"
           ],
           "xaxis": "x",
           "y": {
            "bdata": "fws=",
            "dtype": "i2"
           },
           "yaxis": "y"
          },
          {
           "hovertemplate": "자치구=%{x}<br>년도=2019년<br>발생 건수=%{y}<extra></extra>",
           "legendgroup": "성북구",
           "marker": {
            "color": "rgb(229, 134, 6)",
            "pattern": {
             "shape": ""
            }
           },
           "name": "성북구",
           "orientation": "v",
           "showlegend": true,
           "textposition": "auto",
           "type": "bar",
           "x": [
            "성북구"
           ],
           "xaxis": "x",
           "y": {
            "bdata": "PQs=",
            "dtype": "i2"
           },
           "yaxis": "y"
          },
          {
           "hovertemplate": "자치구=%{x}<br>년도=2019년<br>발생 건수=%{y}<extra></extra>",
           "legendgroup": "성동구",
           "marker": {
            "color": "rgb(93, 105, 177)",
            "pattern": {
             "shape": ""
            }
           },
           "name": "성동구",
           "orientation": "v",
           "showlegend": true,
           "textposition": "auto",
           "type": "bar",
           "x": [
            "성동구"
           ],
           "xaxis": "x",
           "y": {
            "bdata": "0Ak=",
            "dtype": "i2"
           },
           "yaxis": "y"
          },
          {
           "hovertemplate": "자치구=%{x}<br>년도=2019년<br>발생 건수=%{y}<extra></extra>",
           "legendgroup": "도봉구",
           "marker": {
            "color": "rgb(82, 188, 163)",
            "pattern": {
             "shape": ""
            }
           },
           "name": "도봉구",
           "orientation": "v",
           "showlegend": true,
           "textposition": "auto",
           "type": "bar",
           "x": [
            "도봉구"
           ],
           "xaxis": "x",
           "y": {
            "bdata": "Pgg=",
            "dtype": "i2"
           },
           "yaxis": "y"
          }
         ],
         "name": "2019년"
        },
        {
         "data": [
          {
           "hovertemplate": "자치구=%{x}<br>년도=2020년<br>발생 건수=%{y}<extra></extra>",
           "legendgroup": "강남구",
           "marker": {
            "color": "rgb(229, 134, 6)",
            "pattern": {
             "shape": ""
            }
           },
           "name": "강남구",
           "orientation": "v",
           "showlegend": true,
           "textposition": "auto",
           "type": "bar",
           "x": [
            "강남구"
           ],
           "xaxis": "x",
           "y": {
            "bdata": "vBw=",
            "dtype": "i2"
           },
           "yaxis": "y"
          },
          {
           "hovertemplate": "자치구=%{x}<br>년도=2020년<br>발생 건수=%{y}<extra></extra>",
           "legendgroup": "영등포구",
           "marker": {
            "color": "rgb(93, 105, 177)",
            "pattern": {
             "shape": ""
            }
           },
           "name": "영등포구",
           "orientation": "v",
           "showlegend": true,
           "textposition": "auto",
           "type": "bar",
           "x": [
            "영등포구"
           ],
           "xaxis": "x",
           "y": {
            "bdata": "YRQ=",
            "dtype": "i2"
           },
           "yaxis": "y"
          },
          {
           "hovertemplate": "자치구=%{x}<br>년도=2020년<br>발생 건수=%{y}<extra></extra>",
           "legendgroup": "송파구",
           "marker": {
            "color": "rgb(82, 188, 163)",
            "pattern": {
             "shape": ""
            }
           },
           "name": "송파구",
           "orientation": "v",
           "showlegend": true,
           "textposition": "auto",
           "type": "bar",
           "x": [
            "송파구"
           ],
           "xaxis": "x",
           "y": {
            "bdata": "IhU=",
            "dtype": "i2"
           },
           "yaxis": "y"
          },
          {
           "hovertemplate": "자치구=%{x}<br>년도=2020년<br>발생 건수=%{y}<extra></extra>",
           "legendgroup": "서초구",
           "marker": {
            "color": "rgb(153, 201, 69)",
            "pattern": {
             "shape": ""
            }
           },
           "name": "서초구",
           "orientation": "v",
           "showlegend": true,
           "textposition": "auto",
           "type": "bar",
           "x": [
            "서초구"
           ],
           "xaxis": "x",
           "y": {
            "bdata": "+RE=",
            "dtype": "i2"
           },
           "yaxis": "y"
          },
          {
           "hovertemplate": "자치구=%{x}<br>년도=2020년<br>발생 건수=%{y}<extra></extra>",
           "legendgroup": "관악구",
           "marker": {
            "color": "rgb(204, 97, 176)",
            "pattern": {
             "shape": ""
            }
           },
           "name": "관악구",
           "orientation": "v",
           "showlegend": true,
           "textposition": "auto",
           "type": "bar",
           "x": [
            "관악구"
           ],
           "xaxis": "x",
           "y": {
            "bdata": "jRQ=",
            "dtype": "i2"
           },
           "yaxis": "y"
          },
          {
           "hovertemplate": "자치구=%{x}<br>년도=2020년<br>발생 건수=%{y}<extra></extra>",
           "legendgroup": "강서구",
           "marker": {
            "color": "rgb(36, 121, 108)",
            "pattern": {
             "shape": ""
            }
           },
           "name": "강서구",
           "orientation": "v",
           "showlegend": true,
           "textposition": "auto",
           "type": "bar",
           "x": [
            "강서구"
           ],
           "xaxis": "x",
           "y": {
            "bdata": "PxE=",
            "dtype": "i2"
           },
           "yaxis": "y"
          },
          {
           "hovertemplate": "자치구=%{x}<br>년도=2020년<br>발생 건수=%{y}<extra></extra>",
           "legendgroup": "마포구",
           "marker": {
            "color": "rgb(218, 165, 27)",
            "pattern": {
             "shape": ""
            }
           },
           "name": "마포구",
           "orientation": "v",
           "showlegend": true,
           "textposition": "auto",
           "type": "bar",
           "x": [
            "마포구"
           ],
           "xaxis": "x",
           "y": {
            "bdata": "aA4=",
            "dtype": "i2"
           },
           "yaxis": "y"
          },
          {
           "hovertemplate": "자치구=%{x}<br>년도=2020년<br>발생 건수=%{y}<extra></extra>",
           "legendgroup": "구로구",
           "marker": {
            "color": "rgb(47, 138, 196)",
            "pattern": {
             "shape": ""
            }
           },
           "name": "구로구",
           "orientation": "v",
           "showlegend": true,
           "textposition": "auto",
           "type": "bar",
           "x": [
            "구로구"
           ],
           "xaxis": "x",
           "y": {
            "bdata": "TxA=",
            "dtype": "i2"
           },
           "yaxis": "y"
          },
          {
           "hovertemplate": "자치구=%{x}<br>년도=2020년<br>발생 건수=%{y}<extra></extra>",
           "legendgroup": "중구",
           "marker": {
            "color": "rgb(118, 78, 159)",
            "pattern": {
             "shape": ""
            }
           },
           "name": "중구",
           "orientation": "v",
           "showlegend": true,
           "textposition": "auto",
           "type": "bar",
           "x": [
            "중구"
           ],
           "xaxis": "x",
           "y": {
            "bdata": "Uw0=",
            "dtype": "i2"
           },
           "yaxis": "y"
          },
          {
           "hovertemplate": "자치구=%{x}<br>년도=2020년<br>발생 건수=%{y}<extra></extra>",
           "legendgroup": "중랑구",
           "marker": {
            "color": "rgb(237, 100, 90)",
            "pattern": {
             "shape": ""
            }
           },
           "name": "중랑구",
           "orientation": "v",
           "showlegend": true,
           "textposition": "auto",
           "type": "bar",
           "x": [
            "중랑구"
           ],
           "xaxis": "x",
           "y": {
            "bdata": "jg4=",
            "dtype": "i2"
           },
           "yaxis": "y"
          },
          {
           "hovertemplate": "자치구=%{x}<br>년도=2020년<br>발생 건수=%{y}<extra></extra>",
           "legendgroup": "노원구",
           "marker": {
            "color": "rgb(165, 170, 153)",
            "pattern": {
             "shape": ""
            }
           },
           "name": "노원구",
           "orientation": "v",
           "showlegend": true,
           "textposition": "auto",
           "type": "bar",
           "x": [
            "노원구"
           ],
           "xaxis": "x",
           "y": {
            "bdata": "nw4=",
            "dtype": "i2"
           },
           "yaxis": "y"
          },
          {
           "hovertemplate": "자치구=%{x}<br>년도=2020년<br>발생 건수=%{y}<extra></extra>",
           "legendgroup": "강동구",
           "marker": {
            "color": "rgb(229, 134, 6)",
            "pattern": {
             "shape": ""
            }
           },
           "name": "강동구",
           "orientation": "v",
           "showlegend": true,
           "textposition": "auto",
           "type": "bar",
           "x": [
            "강동구"
           ],
           "xaxis": "x",
           "y": {
            "bdata": "zA4=",
            "dtype": "i2"
           },
           "yaxis": "y"
          },
          {
           "hovertemplate": "자치구=%{x}<br>년도=2020년<br>발생 건수=%{y}<extra></extra>",
           "legendgroup": "광진구",
           "marker": {
            "color": "rgb(93, 105, 177)",
            "pattern": {
             "shape": ""
            }
           },
           "name": "광진구",
           "orientation": "v",
           "showlegend": true,
           "textposition": "auto",
           "type": "bar",
           "x": [
            "광진구"
           ],
           "xaxis": "x",
           "y": {
            "bdata": "EQ4=",
            "dtype": "i2"
           },
           "yaxis": "y"
          },
          {
           "hovertemplate": "자치구=%{x}<br>년도=2020년<br>발생 건수=%{y}<extra></extra>",
           "legendgroup": "은평구",
           "marker": {
            "color": "rgb(82, 188, 163)",
            "pattern": {
             "shape": ""
            }
           },
           "name": "은평구",
           "orientation": "v",
           "showlegend": true,
           "textposition": "auto",
           "type": "bar",
           "x": [
            "은평구"
           ],
           "xaxis": "x",
           "y": {
            "bdata": "Pg0=",
            "dtype": "i2"
           },
           "yaxis": "y"
          },
          {
           "hovertemplate": "자치구=%{x}<br>년도=2020년<br>발생 건수=%{y}<extra></extra>",
           "legendgroup": "종로구",
           "marker": {
            "color": "rgb(153, 201, 69)",
            "pattern": {
             "shape": ""
            }
           },
           "name": "종로구",
           "orientation": "v",
           "showlegend": true,
           "textposition": "auto",
           "type": "bar",
           "x": [
            "종로구"
           ],
           "xaxis": "x",
           "y": {
            "bdata": "Hgw=",
            "dtype": "i2"
           },
           "yaxis": "y"
          },
          {
           "hovertemplate": "자치구=%{x}<br>년도=2020년<br>발생 건수=%{y}<extra></extra>",
           "legendgroup": "강북구",
           "marker": {
            "color": "rgb(204, 97, 176)",
            "pattern": {
             "shape": ""
            }
           },
           "name": "강북구",
           "orientation": "v",
           "showlegend": true,
           "textposition": "auto",
           "type": "bar",
           "x": [
            "강북구"
           ],
           "xaxis": "x",
           "y": {
            "bdata": "0go=",
            "dtype": "i2"
           },
           "yaxis": "y"
          },
          {
           "hovertemplate": "자치구=%{x}<br>년도=2020년<br>발생 건수=%{y}<extra></extra>",
           "legendgroup": "동대문구",
           "marker": {
            "color": "rgb(36, 121, 108)",
            "pattern": {
             "shape": ""
            }
           },
           "name": "동대문구",
           "orientation": "v",
           "showlegend": true,
           "textposition": "auto",
           "type": "bar",
           "x": [
            "동대문구"
           ],
           "xaxis": "x",
           "y": {
            "bdata": "SQ0=",
            "dtype": "i2"
           },
           "yaxis": "y"
          },
          {
           "hovertemplate": "자치구=%{x}<br>년도=2020년<br>발생 건수=%{y}<extra></extra>",
           "legendgroup": "동작구",
           "marker": {
            "color": "rgb(218, 165, 27)",
            "pattern": {
             "shape": ""
            }
           },
           "name": "동작구",
           "orientation": "v",
           "showlegend": true,
           "textposition": "auto",
           "type": "bar",
           "x": [
            "동작구"
           ],
           "xaxis": "x",
           "y": {
            "bdata": "gAw=",
            "dtype": "i2"
           },
           "yaxis": "y"
          },
          {
           "hovertemplate": "자치구=%{x}<br>년도=2020년<br>발생 건수=%{y}<extra></extra>",
           "legendgroup": "용산구",
           "marker": {
            "color": "rgb(47, 138, 196)",
            "pattern": {
             "shape": ""
            }
           },
           "name": "용산구",
           "orientation": "v",
           "showlegend": true,
           "textposition": "auto",
           "type": "bar",
           "x": [
            "용산구"
           ],
           "xaxis": "x",
           "y": {
            "bdata": "mQs=",
            "dtype": "i2"
           },
           "yaxis": "y"
          },
          {
           "hovertemplate": "자치구=%{x}<br>년도=2020년<br>발생 건수=%{y}<extra></extra>",
           "legendgroup": "양천구",
           "marker": {
            "color": "rgb(118, 78, 159)",
            "pattern": {
             "shape": ""
            }
           },
           "name": "양천구",
           "orientation": "v",
           "showlegend": true,
           "textposition": "auto",
           "type": "bar",
           "x": [
            "양천구"
           ],
           "xaxis": "x",
           "y": {
            "bdata": "kAw=",
            "dtype": "i2"
           },
           "yaxis": "y"
          },
          {
           "hovertemplate": "자치구=%{x}<br>년도=2020년<br>발생 건수=%{y}<extra></extra>",
           "legendgroup": "금천구",
           "marker": {
            "color": "rgb(237, 100, 90)",
            "pattern": {
             "shape": ""
            }
           },
           "name": "금천구",
           "orientation": "v",
           "showlegend": true,
           "textposition": "auto",
           "type": "bar",
           "x": [
            "금천구"
           ],
           "xaxis": "x",
           "y": {
            "bdata": "Jgo=",
            "dtype": "i2"
           },
           "yaxis": "y"
          },
          {
           "hovertemplate": "자치구=%{x}<br>년도=2020년<br>발생 건수=%{y}<extra></extra>",
           "legendgroup": "서대문구",
           "marker": {
            "color": "rgb(165, 170, 153)",
            "pattern": {
             "shape": ""
            }
           },
           "name": "서대문구",
           "orientation": "v",
           "showlegend": true,
           "textposition": "auto",
           "type": "bar",
           "x": [
            "서대문구"
           ],
           "xaxis": "x",
           "y": {
            "bdata": "5Qk=",
            "dtype": "i2"
           },
           "yaxis": "y"
          },
          {
           "hovertemplate": "자치구=%{x}<br>년도=2020년<br>발생 건수=%{y}<extra></extra>",
           "legendgroup": "성북구",
           "marker": {
            "color": "rgb(229, 134, 6)",
            "pattern": {
             "shape": ""
            }
           },
           "name": "성북구",
           "orientation": "v",
           "showlegend": true,
           "textposition": "auto",
           "type": "bar",
           "x": [
            "성북구"
           ],
           "xaxis": "x",
           "y": {
            "bdata": "Bwo=",
            "dtype": "i2"
           },
           "yaxis": "y"
          },
          {
           "hovertemplate": "자치구=%{x}<br>년도=2020년<br>발생 건수=%{y}<extra></extra>",
           "legendgroup": "성동구",
           "marker": {
            "color": "rgb(93, 105, 177)",
            "pattern": {
             "shape": ""
            }
           },
           "name": "성동구",
           "orientation": "v",
           "showlegend": true,
           "textposition": "auto",
           "type": "bar",
           "x": [
            "성동구"
           ],
           "xaxis": "x",
           "y": {
            "bdata": "Ogk=",
            "dtype": "i2"
           },
           "yaxis": "y"
          },
          {
           "hovertemplate": "자치구=%{x}<br>년도=2020년<br>발생 건수=%{y}<extra></extra>",
           "legendgroup": "도봉구",
           "marker": {
            "color": "rgb(82, 188, 163)",
            "pattern": {
             "shape": ""
            }
           },
           "name": "도봉구",
           "orientation": "v",
           "showlegend": true,
           "textposition": "auto",
           "type": "bar",
           "x": [
            "도봉구"
           ],
           "xaxis": "x",
           "y": {
            "bdata": "gwg=",
            "dtype": "i2"
           },
           "yaxis": "y"
          }
         ],
         "name": "2020년"
        },
        {
         "data": [
          {
           "hovertemplate": "자치구=%{x}<br>년도=2021년<br>발생 건수=%{y}<extra></extra>",
           "legendgroup": "강남구",
           "marker": {
            "color": "rgb(229, 134, 6)",
            "pattern": {
             "shape": ""
            }
           },
           "name": "강남구",
           "orientation": "v",
           "showlegend": true,
           "textposition": "auto",
           "type": "bar",
           "x": [
            "강남구"
           ],
           "xaxis": "x",
           "y": {
            "bdata": "Ahg=",
            "dtype": "i2"
           },
           "yaxis": "y"
          },
          {
           "hovertemplate": "자치구=%{x}<br>년도=2021년<br>발생 건수=%{y}<extra></extra>",
           "legendgroup": "영등포구",
           "marker": {
            "color": "rgb(93, 105, 177)",
            "pattern": {
             "shape": ""
            }
           },
           "name": "영등포구",
           "orientation": "v",
           "showlegend": true,
           "textposition": "auto",
           "type": "bar",
           "x": [
            "영등포구"
           ],
           "xaxis": "x",
           "y": {
            "bdata": "UxA=",
            "dtype": "i2"
           },
           "yaxis": "y"
          },
          {
           "hovertemplate": "자치구=%{x}<br>년도=2021년<br>발생 건수=%{y}<extra></extra>",
           "legendgroup": "송파구",
           "marker": {
            "color": "rgb(82, 188, 163)",
            "pattern": {
             "shape": ""
            }
           },
           "name": "송파구",
           "orientation": "v",
           "showlegend": true,
           "textposition": "auto",
           "type": "bar",
           "x": [
            "송파구"
           ],
           "xaxis": "x",
           "y": {
            "bdata": "ahI=",
            "dtype": "i2"
           },
           "yaxis": "y"
          },
          {
           "hovertemplate": "자치구=%{x}<br>년도=2021년<br>발생 건수=%{y}<extra></extra>",
           "legendgroup": "서초구",
           "marker": {
            "color": "rgb(153, 201, 69)",
            "pattern": {
             "shape": ""
            }
           },
           "name": "서초구",
           "orientation": "v",
           "showlegend": true,
           "textposition": "auto",
           "type": "bar",
           "x": [
            "서초구"
           ],
           "xaxis": "x",
           "y": {
            "bdata": "SA4=",
            "dtype": "i2"
           },
           "yaxis": "y"
          },
          {
           "hovertemplate": "자치구=%{x}<br>년도=2021년<br>발생 건수=%{y}<extra></extra>",
           "legendgroup": "관악구",
           "marker": {
            "color": "rgb(204, 97, 176)",
            "pattern": {
             "shape": ""
            }
           },
           "name": "관악구",
           "orientation": "v",
           "showlegend": true,
           "textposition": "auto",
           "type": "bar",
           "x": [
            "관악구"
           ],
           "xaxis": "x",
           "y": {
            "bdata": "XBE=",
            "dtype": "i2"
           },
           "yaxis": "y"
          },
          {
           "hovertemplate": "자치구=%{x}<br>년도=2021년<br>발생 건수=%{y}<extra></extra>",
           "legendgroup": "강서구",
           "marker": {
            "color": "rgb(36, 121, 108)",
            "pattern": {
             "shape": ""
            }
           },
           "name": "강서구",
           "orientation": "v",
           "showlegend": true,
           "textposition": "auto",
           "type": "bar",
           "x": [
            "강서구"
           ],
           "xaxis": "x",
           "y": {
            "bdata": "OA8=",
            "dtype": "i2"
           },
           "yaxis": "y"
          },
          {
           "hovertemplate": "자치구=%{x}<br>년도=2021년<br>발생 건수=%{y}<extra></extra>",
           "legendgroup": "마포구",
           "marker": {
            "color": "rgb(218, 165, 27)",
            "pattern": {
             "shape": ""
            }
           },
           "name": "마포구",
           "orientation": "v",
           "showlegend": true,
           "textposition": "auto",
           "type": "bar",
           "x": [
            "마포구"
           ],
           "xaxis": "x",
           "y": {
            "bdata": "1A0=",
            "dtype": "i2"
           },
           "yaxis": "y"
          },
          {
           "hovertemplate": "자치구=%{x}<br>년도=2021년<br>발생 건수=%{y}<extra></extra>",
           "legendgroup": "구로구",
           "marker": {
            "color": "rgb(47, 138, 196)",
            "pattern": {
             "shape": ""
            }
           },
           "name": "구로구",
           "orientation": "v",
           "showlegend": true,
           "textposition": "auto",
           "type": "bar",
           "x": [
            "구로구"
           ],
           "xaxis": "x",
           "y": {
            "bdata": "ng0=",
            "dtype": "i2"
           },
           "yaxis": "y"
          },
          {
           "hovertemplate": "자치구=%{x}<br>년도=2021년<br>발생 건수=%{y}<extra></extra>",
           "legendgroup": "중구",
           "marker": {
            "color": "rgb(118, 78, 159)",
            "pattern": {
             "shape": ""
            }
           },
           "name": "중구",
           "orientation": "v",
           "showlegend": true,
           "textposition": "auto",
           "type": "bar",
           "x": [
            "중구"
           ],
           "xaxis": "x",
           "y": {
            "bdata": "LQs=",
            "dtype": "i2"
           },
           "yaxis": "y"
          },
          {
           "hovertemplate": "자치구=%{x}<br>년도=2021년<br>발생 건수=%{y}<extra></extra>",
           "legendgroup": "중랑구",
           "marker": {
            "color": "rgb(237, 100, 90)",
            "pattern": {
             "shape": ""
            }
           },
           "name": "중랑구",
           "orientation": "v",
           "showlegend": true,
           "textposition": "auto",
           "type": "bar",
           "x": [
            "중랑구"
           ],
           "xaxis": "x",
           "y": {
            "bdata": "igw=",
            "dtype": "i2"
           },
           "yaxis": "y"
          },
          {
           "hovertemplate": "자치구=%{x}<br>년도=2021년<br>발생 건수=%{y}<extra></extra>",
           "legendgroup": "노원구",
           "marker": {
            "color": "rgb(165, 170, 153)",
            "pattern": {
             "shape": ""
            }
           },
           "name": "노원구",
           "orientation": "v",
           "showlegend": true,
           "textposition": "auto",
           "type": "bar",
           "x": [
            "노원구"
           ],
           "xaxis": "x",
           "y": {
            "bdata": "YQ0=",
            "dtype": "i2"
           },
           "yaxis": "y"
          },
          {
           "hovertemplate": "자치구=%{x}<br>년도=2021년<br>발생 건수=%{y}<extra></extra>",
           "legendgroup": "강동구",
           "marker": {
            "color": "rgb(229, 134, 6)",
            "pattern": {
             "shape": ""
            }
           },
           "name": "강동구",
           "orientation": "v",
           "showlegend": true,
           "textposition": "auto",
           "type": "bar",
           "x": [
            "강동구"
           ],
           "xaxis": "x",
           "y": {
            "bdata": "gg0=",
            "dtype": "i2"
           },
           "yaxis": "y"
          },
          {
           "hovertemplate": "자치구=%{x}<br>년도=2021년<br>발생 건수=%{y}<extra></extra>",
           "legendgroup": "광진구",
           "marker": {
            "color": "rgb(93, 105, 177)",
            "pattern": {
             "shape": ""
            }
           },
           "name": "광진구",
           "orientation": "v",
           "showlegend": true,
           "textposition": "auto",
           "type": "bar",
           "x": [
            "광진구"
           ],
           "xaxis": "x",
           "y": {
            "bdata": "Dww=",
            "dtype": "i2"
           },
           "yaxis": "y"
          },
          {
           "hovertemplate": "자치구=%{x}<br>년도=2021년<br>발생 건수=%{y}<extra></extra>",
           "legendgroup": "은평구",
           "marker": {
            "color": "rgb(82, 188, 163)",
            "pattern": {
             "shape": ""
            }
           },
           "name": "은평구",
           "orientation": "v",
           "showlegend": true,
           "textposition": "auto",
           "type": "bar",
           "x": [
            "은평구"
           ],
           "xaxis": "x",
           "y": {
            "bdata": "rAw=",
            "dtype": "i2"
           },
           "yaxis": "y"
          },
          {
           "hovertemplate": "자치구=%{x}<br>년도=2021년<br>발생 건수=%{y}<extra></extra>",
           "legendgroup": "종로구",
           "marker": {
            "color": "rgb(153, 201, 69)",
            "pattern": {
             "shape": ""
            }
           },
           "name": "종로구",
           "orientation": "v",
           "showlegend": true,
           "textposition": "auto",
           "type": "bar",
           "x": [
            "종로구"
           ],
           "xaxis": "x",
           "y": {
            "bdata": "mAo=",
            "dtype": "i2"
           },
           "yaxis": "y"
          },
          {
           "hovertemplate": "자치구=%{x}<br>년도=2021년<br>발생 건수=%{y}<extra></extra>",
           "legendgroup": "강북구",
           "marker": {
            "color": "rgb(204, 97, 176)",
            "pattern": {
             "shape": ""
            }
           },
           "name": "강북구",
           "orientation": "v",
           "showlegend": true,
           "textposition": "auto",
           "type": "bar",
           "x": [
            "강북구"
           ],
           "xaxis": "x",
           "y": {
            "bdata": "/Qg=",
            "dtype": "i2"
           },
           "yaxis": "y"
          },
          {
           "hovertemplate": "자치구=%{x}<br>년도=2021년<br>발생 건수=%{y}<extra></extra>",
           "legendgroup": "동대문구",
           "marker": {
            "color": "rgb(36, 121, 108)",
            "pattern": {
             "shape": ""
            }
           },
           "name": "동대문구",
           "orientation": "v",
           "showlegend": true,
           "textposition": "auto",
           "type": "bar",
           "x": [
            "동대문구"
           ],
           "xaxis": "x",
           "y": {
            "bdata": "jws=",
            "dtype": "i2"
           },
           "yaxis": "y"
          },
          {
           "hovertemplate": "자치구=%{x}<br>년도=2021년<br>발생 건수=%{y}<extra></extra>",
           "legendgroup": "동작구",
           "marker": {
            "color": "rgb(218, 165, 27)",
            "pattern": {
             "shape": ""
            }
           },
           "name": "동작구",
           "orientation": "v",
           "showlegend": true,
           "textposition": "auto",
           "type": "bar",
           "x": [
            "동작구"
           ],
           "xaxis": "x",
           "y": {
            "bdata": "Rwo=",
            "dtype": "i2"
           },
           "yaxis": "y"
          },
          {
           "hovertemplate": "자치구=%{x}<br>년도=2021년<br>발생 건수=%{y}<extra></extra>",
           "legendgroup": "용산구",
           "marker": {
            "color": "rgb(47, 138, 196)",
            "pattern": {
             "shape": ""
            }
           },
           "name": "용산구",
           "orientation": "v",
           "showlegend": true,
           "textposition": "auto",
           "type": "bar",
           "x": [
            "용산구"
           ],
           "xaxis": "x",
           "y": {
            "bdata": "TQk=",
            "dtype": "i2"
           },
           "yaxis": "y"
          },
          {
           "hovertemplate": "자치구=%{x}<br>년도=2021년<br>발생 건수=%{y}<extra></extra>",
           "legendgroup": "양천구",
           "marker": {
            "color": "rgb(118, 78, 159)",
            "pattern": {
             "shape": ""
            }
           },
           "name": "양천구",
           "orientation": "v",
           "showlegend": true,
           "textposition": "auto",
           "type": "bar",
           "x": [
            "양천구"
           ],
           "xaxis": "x",
           "y": {
            "bdata": "xws=",
            "dtype": "i2"
           },
           "yaxis": "y"
          },
          {
           "hovertemplate": "자치구=%{x}<br>년도=2021년<br>발생 건수=%{y}<extra></extra>",
           "legendgroup": "금천구",
           "marker": {
            "color": "rgb(237, 100, 90)",
            "pattern": {
             "shape": ""
            }
           },
           "name": "금천구",
           "orientation": "v",
           "showlegend": true,
           "textposition": "auto",
           "type": "bar",
           "x": [
            "금천구"
           ],
           "xaxis": "x",
           "y": {
            "bdata": "hwk=",
            "dtype": "i2"
           },
           "yaxis": "y"
          },
          {
           "hovertemplate": "자치구=%{x}<br>년도=2021년<br>발생 건수=%{y}<extra></extra>",
           "legendgroup": "서대문구",
           "marker": {
            "color": "rgb(165, 170, 153)",
            "pattern": {
             "shape": ""
            }
           },
           "name": "서대문구",
           "orientation": "v",
           "showlegend": true,
           "textposition": "auto",
           "type": "bar",
           "x": [
            "서대문구"
           ],
           "xaxis": "x",
           "y": {
            "bdata": "5gg=",
            "dtype": "i2"
           },
           "yaxis": "y"
          },
          {
           "hovertemplate": "자치구=%{x}<br>년도=2021년<br>발생 건수=%{y}<extra></extra>",
           "legendgroup": "성북구",
           "marker": {
            "color": "rgb(229, 134, 6)",
            "pattern": {
             "shape": ""
            }
           },
           "name": "성북구",
           "orientation": "v",
           "showlegend": true,
           "textposition": "auto",
           "type": "bar",
           "x": [
            "성북구"
           ],
           "xaxis": "x",
           "y": {
            "bdata": "awk=",
            "dtype": "i2"
           },
           "yaxis": "y"
          },
          {
           "hovertemplate": "자치구=%{x}<br>년도=2021년<br>발생 건수=%{y}<extra></extra>",
           "legendgroup": "성동구",
           "marker": {
            "color": "rgb(93, 105, 177)",
            "pattern": {
             "shape": ""
            }
           },
           "name": "성동구",
           "orientation": "v",
           "showlegend": true,
           "textposition": "auto",
           "type": "bar",
           "x": [
            "성동구"
           ],
           "xaxis": "x",
           "y": {
            "bdata": "QAg=",
            "dtype": "i2"
           },
           "yaxis": "y"
          },
          {
           "hovertemplate": "자치구=%{x}<br>년도=2021년<br>발생 건수=%{y}<extra></extra>",
           "legendgroup": "도봉구",
           "marker": {
            "color": "rgb(82, 188, 163)",
            "pattern": {
             "shape": ""
            }
           },
           "name": "도봉구",
           "orientation": "v",
           "showlegend": true,
           "textposition": "auto",
           "type": "bar",
           "x": [
            "도봉구"
           ],
           "xaxis": "x",
           "y": {
            "bdata": "RAc=",
            "dtype": "i2"
           },
           "yaxis": "y"
          }
         ],
         "name": "2021년"
        },
        {
         "data": [
          {
           "hovertemplate": "자치구=%{x}<br>년도=2022년<br>발생 건수=%{y}<extra></extra>",
           "legendgroup": "강남구",
           "marker": {
            "color": "rgb(229, 134, 6)",
            "pattern": {
             "shape": ""
            }
           },
           "name": "강남구",
           "orientation": "v",
           "showlegend": true,
           "textposition": "auto",
           "type": "bar",
           "x": [
            "강남구"
           ],
           "xaxis": "x",
           "y": {
            "bdata": "Ixs=",
            "dtype": "i2"
           },
           "yaxis": "y"
          },
          {
           "hovertemplate": "자치구=%{x}<br>년도=2022년<br>발생 건수=%{y}<extra></extra>",
           "legendgroup": "영등포구",
           "marker": {
            "color": "rgb(93, 105, 177)",
            "pattern": {
             "shape": ""
            }
           },
           "name": "영등포구",
           "orientation": "v",
           "showlegend": true,
           "textposition": "auto",
           "type": "bar",
           "x": [
            "영등포구"
           ],
           "xaxis": "x",
           "y": {
            "bdata": "0xI=",
            "dtype": "i2"
           },
           "yaxis": "y"
          },
          {
           "hovertemplate": "자치구=%{x}<br>년도=2022년<br>발생 건수=%{y}<extra></extra>",
           "legendgroup": "송파구",
           "marker": {
            "color": "rgb(82, 188, 163)",
            "pattern": {
             "shape": ""
            }
           },
           "name": "송파구",
           "orientation": "v",
           "showlegend": true,
           "textposition": "auto",
           "type": "bar",
           "x": [
            "송파구"
           ],
           "xaxis": "x",
           "y": {
            "bdata": "LxQ=",
            "dtype": "i2"
           },
           "yaxis": "y"
          },
          {
           "hovertemplate": "자치구=%{x}<br>년도=2022년<br>발생 건수=%{y}<extra></extra>",
           "legendgroup": "서초구",
           "marker": {
            "color": "rgb(153, 201, 69)",
            "pattern": {
             "shape": ""
            }
           },
           "name": "서초구",
           "orientation": "v",
           "showlegend": true,
           "textposition": "auto",
           "type": "bar",
           "x": [
            "서초구"
           ],
           "xaxis": "x",
           "y": {
            "bdata": "axE=",
            "dtype": "i2"
           },
           "yaxis": "y"
          },
          {
           "hovertemplate": "자치구=%{x}<br>년도=2022년<br>발생 건수=%{y}<extra></extra>",
           "legendgroup": "관악구",
           "marker": {
            "color": "rgb(204, 97, 176)",
            "pattern": {
             "shape": ""
            }
           },
           "name": "관악구",
           "orientation": "v",
           "showlegend": true,
           "textposition": "auto",
           "type": "bar",
           "x": [
            "관악구"
           ],
           "xaxis": "x",
           "y": {
            "bdata": "DxM=",
            "dtype": "i2"
           },
           "yaxis": "y"
          },
          {
           "hovertemplate": "자치구=%{x}<br>년도=2022년<br>발생 건수=%{y}<extra></extra>",
           "legendgroup": "강서구",
           "marker": {
            "color": "rgb(36, 121, 108)",
            "pattern": {
             "shape": ""
            }
           },
           "name": "강서구",
           "orientation": "v",
           "showlegend": true,
           "textposition": "auto",
           "type": "bar",
           "x": [
            "강서구"
           ],
           "xaxis": "x",
           "y": {
            "bdata": "NxI=",
            "dtype": "i2"
           },
           "yaxis": "y"
          },
          {
           "hovertemplate": "자치구=%{x}<br>년도=2022년<br>발생 건수=%{y}<extra></extra>",
           "legendgroup": "마포구",
           "marker": {
            "color": "rgb(218, 165, 27)",
            "pattern": {
             "shape": ""
            }
           },
           "name": "마포구",
           "orientation": "v",
           "showlegend": true,
           "textposition": "auto",
           "type": "bar",
           "x": [
            "마포구"
           ],
           "xaxis": "x",
           "y": {
            "bdata": "ABA=",
            "dtype": "i2"
           },
           "yaxis": "y"
          },
          {
           "hovertemplate": "자치구=%{x}<br>년도=2022년<br>발생 건수=%{y}<extra></extra>",
           "legendgroup": "구로구",
           "marker": {
            "color": "rgb(47, 138, 196)",
            "pattern": {
             "shape": ""
            }
           },
           "name": "구로구",
           "orientation": "v",
           "showlegend": true,
           "textposition": "auto",
           "type": "bar",
           "x": [
            "구로구"
           ],
           "xaxis": "x",
           "y": {
            "bdata": "EQ8=",
            "dtype": "i2"
           },
           "yaxis": "y"
          },
          {
           "hovertemplate": "자치구=%{x}<br>년도=2022년<br>발생 건수=%{y}<extra></extra>",
           "legendgroup": "중구",
           "marker": {
            "color": "rgb(118, 78, 159)",
            "pattern": {
             "shape": ""
            }
           },
           "name": "중구",
           "orientation": "v",
           "showlegend": true,
           "textposition": "auto",
           "type": "bar",
           "x": [
            "중구"
           ],
           "xaxis": "x",
           "y": {
            "bdata": "/ws=",
            "dtype": "i2"
           },
           "yaxis": "y"
          },
          {
           "hovertemplate": "자치구=%{x}<br>년도=2022년<br>발생 건수=%{y}<extra></extra>",
           "legendgroup": "중랑구",
           "marker": {
            "color": "rgb(237, 100, 90)",
            "pattern": {
             "shape": ""
            }
           },
           "name": "중랑구",
           "orientation": "v",
           "showlegend": true,
           "textposition": "auto",
           "type": "bar",
           "x": [
            "중랑구"
           ],
           "xaxis": "x",
           "y": {
            "bdata": "Dw4=",
            "dtype": "i2"
           },
           "yaxis": "y"
          },
          {
           "hovertemplate": "자치구=%{x}<br>년도=2022년<br>발생 건수=%{y}<extra></extra>",
           "legendgroup": "노원구",
           "marker": {
            "color": "rgb(165, 170, 153)",
            "pattern": {
             "shape": ""
            }
           },
           "name": "노원구",
           "orientation": "v",
           "showlegend": true,
           "textposition": "auto",
           "type": "bar",
           "x": [
            "노원구"
           ],
           "xaxis": "x",
           "y": {
            "bdata": "OA8=",
            "dtype": "i2"
           },
           "yaxis": "y"
          },
          {
           "hovertemplate": "자치구=%{x}<br>년도=2022년<br>발생 건수=%{y}<extra></extra>",
           "legendgroup": "강동구",
           "marker": {
            "color": "rgb(229, 134, 6)",
            "pattern": {
             "shape": ""
            }
           },
           "name": "강동구",
           "orientation": "v",
           "showlegend": true,
           "textposition": "auto",
           "type": "bar",
           "x": [
            "강동구"
           ],
           "xaxis": "x",
           "y": {
            "bdata": "fw4=",
            "dtype": "i2"
           },
           "yaxis": "y"
          },
          {
           "hovertemplate": "자치구=%{x}<br>년도=2022년<br>발생 건수=%{y}<extra></extra>",
           "legendgroup": "광진구",
           "marker": {
            "color": "rgb(93, 105, 177)",
            "pattern": {
             "shape": ""
            }
           },
           "name": "광진구",
           "orientation": "v",
           "showlegend": true,
           "textposition": "auto",
           "type": "bar",
           "x": [
            "광진구"
           ],
           "xaxis": "x",
           "y": {
            "bdata": "Iw4=",
            "dtype": "i2"
           },
           "yaxis": "y"
          },
          {
           "hovertemplate": "자치구=%{x}<br>년도=2022년<br>발생 건수=%{y}<extra></extra>",
           "legendgroup": "은평구",
           "marker": {
            "color": "rgb(82, 188, 163)",
            "pattern": {
             "shape": ""
            }
           },
           "name": "은평구",
           "orientation": "v",
           "showlegend": true,
           "textposition": "auto",
           "type": "bar",
           "x": [
            "은평구"
           ],
           "xaxis": "x",
           "y": {
            "bdata": "nw0=",
            "dtype": "i2"
           },
           "yaxis": "y"
          },
          {
           "hovertemplate": "자치구=%{x}<br>년도=2022년<br>발생 건수=%{y}<extra></extra>",
           "legendgroup": "종로구",
           "marker": {
            "color": "rgb(153, 201, 69)",
            "pattern": {
             "shape": ""
            }
           },
           "name": "종로구",
           "orientation": "v",
           "showlegend": true,
           "textposition": "auto",
           "type": "bar",
           "x": [
            "종로구"
           ],
           "xaxis": "x",
           "y": {
            "bdata": "Qgw=",
            "dtype": "i2"
           },
           "yaxis": "y"
          },
          {
           "hovertemplate": "자치구=%{x}<br>년도=2022년<br>발생 건수=%{y}<extra></extra>",
           "legendgroup": "강북구",
           "marker": {
            "color": "rgb(204, 97, 176)",
            "pattern": {
             "shape": ""
            }
           },
           "name": "강북구",
           "orientation": "v",
           "showlegend": true,
           "textposition": "auto",
           "type": "bar",
           "x": [
            "강북구"
           ],
           "xaxis": "x",
           "y": {
            "bdata": "EAs=",
            "dtype": "i2"
           },
           "yaxis": "y"
          },
          {
           "hovertemplate": "자치구=%{x}<br>년도=2022년<br>발생 건수=%{y}<extra></extra>",
           "legendgroup": "동대문구",
           "marker": {
            "color": "rgb(36, 121, 108)",
            "pattern": {
             "shape": ""
            }
           },
           "name": "동대문구",
           "orientation": "v",
           "showlegend": true,
           "textposition": "auto",
           "type": "bar",
           "x": [
            "동대문구"
           ],
           "xaxis": "x",
           "y": {
            "bdata": "tQw=",
            "dtype": "i2"
           },
           "yaxis": "y"
          },
          {
           "hovertemplate": "자치구=%{x}<br>년도=2022년<br>발생 건수=%{y}<extra></extra>",
           "legendgroup": "동작구",
           "marker": {
            "color": "rgb(218, 165, 27)",
            "pattern": {
             "shape": ""
            }
           },
           "name": "동작구",
           "orientation": "v",
           "showlegend": true,
           "textposition": "auto",
           "type": "bar",
           "x": [
            "동작구"
           ],
           "xaxis": "x",
           "y": {
            "bdata": "rwo=",
            "dtype": "i2"
           },
           "yaxis": "y"
          },
          {
           "hovertemplate": "자치구=%{x}<br>년도=2022년<br>발생 건수=%{y}<extra></extra>",
           "legendgroup": "용산구",
           "marker": {
            "color": "rgb(47, 138, 196)",
            "pattern": {
             "shape": ""
            }
           },
           "name": "용산구",
           "orientation": "v",
           "showlegend": true,
           "textposition": "auto",
           "type": "bar",
           "x": [
            "용산구"
           ],
           "xaxis": "x",
           "y": {
            "bdata": "lws=",
            "dtype": "i2"
           },
           "yaxis": "y"
          },
          {
           "hovertemplate": "자치구=%{x}<br>년도=2022년<br>발생 건수=%{y}<extra></extra>",
           "legendgroup": "양천구",
           "marker": {
            "color": "rgb(118, 78, 159)",
            "pattern": {
             "shape": ""
            }
           },
           "name": "양천구",
           "orientation": "v",
           "showlegend": true,
           "textposition": "auto",
           "type": "bar",
           "x": [
            "양천구"
           ],
           "xaxis": "x",
           "y": {
            "bdata": "YQw=",
            "dtype": "i2"
           },
           "yaxis": "y"
          },
          {
           "hovertemplate": "자치구=%{x}<br>년도=2022년<br>발생 건수=%{y}<extra></extra>",
           "legendgroup": "금천구",
           "marker": {
            "color": "rgb(237, 100, 90)",
            "pattern": {
             "shape": ""
            }
           },
           "name": "금천구",
           "orientation": "v",
           "showlegend": true,
           "textposition": "auto",
           "type": "bar",
           "x": [
            "금천구"
           ],
           "xaxis": "x",
           "y": {
            "bdata": "EQo=",
            "dtype": "i2"
           },
           "yaxis": "y"
          },
          {
           "hovertemplate": "자치구=%{x}<br>년도=2022년<br>발생 건수=%{y}<extra></extra>",
           "legendgroup": "서대문구",
           "marker": {
            "color": "rgb(165, 170, 153)",
            "pattern": {
             "shape": ""
            }
           },
           "name": "서대문구",
           "orientation": "v",
           "showlegend": true,
           "textposition": "auto",
           "type": "bar",
           "x": [
            "서대문구"
           ],
           "xaxis": "x",
           "y": {
            "bdata": "Rgk=",
            "dtype": "i2"
           },
           "yaxis": "y"
          },
          {
           "hovertemplate": "자치구=%{x}<br>년도=2022년<br>발생 건수=%{y}<extra></extra>",
           "legendgroup": "성북구",
           "marker": {
            "color": "rgb(229, 134, 6)",
            "pattern": {
             "shape": ""
            }
           },
           "name": "성북구",
           "orientation": "v",
           "showlegend": true,
           "textposition": "auto",
           "type": "bar",
           "x": [
            "성북구"
           ],
           "xaxis": "x",
           "y": {
            "bdata": "vQo=",
            "dtype": "i2"
           },
           "yaxis": "y"
          },
          {
           "hovertemplate": "자치구=%{x}<br>년도=2022년<br>발생 건수=%{y}<extra></extra>",
           "legendgroup": "성동구",
           "marker": {
            "color": "rgb(93, 105, 177)",
            "pattern": {
             "shape": ""
            }
           },
           "name": "성동구",
           "orientation": "v",
           "showlegend": true,
           "textposition": "auto",
           "type": "bar",
           "x": [
            "성동구"
           ],
           "xaxis": "x",
           "y": {
            "bdata": "kgg=",
            "dtype": "i2"
           },
           "yaxis": "y"
          },
          {
           "hovertemplate": "자치구=%{x}<br>년도=2022년<br>발생 건수=%{y}<extra></extra>",
           "legendgroup": "도봉구",
           "marker": {
            "color": "rgb(82, 188, 163)",
            "pattern": {
             "shape": ""
            }
           },
           "name": "도봉구",
           "orientation": "v",
           "showlegend": true,
           "textposition": "auto",
           "type": "bar",
           "x": [
            "도봉구"
           ],
           "xaxis": "x",
           "y": {
            "bdata": "XQg=",
            "dtype": "i2"
           },
           "yaxis": "y"
          }
         ],
         "name": "2022년"
        },
        {
         "data": [
          {
           "hovertemplate": "자치구=%{x}<br>년도=2023년<br>발생 건수=%{y}<extra></extra>",
           "legendgroup": "강남구",
           "marker": {
            "color": "rgb(229, 134, 6)",
            "pattern": {
             "shape": ""
            }
           },
           "name": "강남구",
           "orientation": "v",
           "showlegend": true,
           "textposition": "auto",
           "type": "bar",
           "x": [
            "강남구"
           ],
           "xaxis": "x",
           "y": {
            "bdata": "axo=",
            "dtype": "i2"
           },
           "yaxis": "y"
          },
          {
           "hovertemplate": "자치구=%{x}<br>년도=2023년<br>발생 건수=%{y}<extra></extra>",
           "legendgroup": "영등포구",
           "marker": {
            "color": "rgb(93, 105, 177)",
            "pattern": {
             "shape": ""
            }
           },
           "name": "영등포구",
           "orientation": "v",
           "showlegend": true,
           "textposition": "auto",
           "type": "bar",
           "x": [
            "영등포구"
           ],
           "xaxis": "x",
           "y": {
            "bdata": "QhE=",
            "dtype": "i2"
           },
           "yaxis": "y"
          },
          {
           "hovertemplate": "자치구=%{x}<br>년도=2023년<br>발생 건수=%{y}<extra></extra>",
           "legendgroup": "송파구",
           "marker": {
            "color": "rgb(82, 188, 163)",
            "pattern": {
             "shape": ""
            }
           },
           "name": "송파구",
           "orientation": "v",
           "showlegend": true,
           "textposition": "auto",
           "type": "bar",
           "x": [
            "송파구"
           ],
           "xaxis": "x",
           "y": {
            "bdata": "ZxQ=",
            "dtype": "i2"
           },
           "yaxis": "y"
          },
          {
           "hovertemplate": "자치구=%{x}<br>년도=2023년<br>발생 건수=%{y}<extra></extra>",
           "legendgroup": "서초구",
           "marker": {
            "color": "rgb(153, 201, 69)",
            "pattern": {
             "shape": ""
            }
           },
           "name": "서초구",
           "orientation": "v",
           "showlegend": true,
           "textposition": "auto",
           "type": "bar",
           "x": [
            "서초구"
           ],
           "xaxis": "x",
           "y": {
            "bdata": "qhE=",
            "dtype": "i2"
           },
           "yaxis": "y"
          },
          {
           "hovertemplate": "자치구=%{x}<br>년도=2023년<br>발생 건수=%{y}<extra></extra>",
           "legendgroup": "관악구",
           "marker": {
            "color": "rgb(204, 97, 176)",
            "pattern": {
             "shape": ""
            }
           },
           "name": "관악구",
           "orientation": "v",
           "showlegend": true,
           "textposition": "auto",
           "type": "bar",
           "x": [
            "관악구"
           ],
           "xaxis": "x",
           "y": {
            "bdata": "oRI=",
            "dtype": "i2"
           },
           "yaxis": "y"
          },
          {
           "hovertemplate": "자치구=%{x}<br>년도=2023년<br>발생 건수=%{y}<extra></extra>",
           "legendgroup": "강서구",
           "marker": {
            "color": "rgb(36, 121, 108)",
            "pattern": {
             "shape": ""
            }
           },
           "name": "강서구",
           "orientation": "v",
           "showlegend": true,
           "textposition": "auto",
           "type": "bar",
           "x": [
            "강서구"
           ],
           "xaxis": "x",
           "y": {
            "bdata": "yBA=",
            "dtype": "i2"
           },
           "yaxis": "y"
          },
          {
           "hovertemplate": "자치구=%{x}<br>년도=2023년<br>발생 건수=%{y}<extra></extra>",
           "legendgroup": "마포구",
           "marker": {
            "color": "rgb(218, 165, 27)",
            "pattern": {
             "shape": ""
            }
           },
           "name": "마포구",
           "orientation": "v",
           "showlegend": true,
           "textposition": "auto",
           "type": "bar",
           "x": [
            "마포구"
           ],
           "xaxis": "x",
           "y": {
            "bdata": "+g4=",
            "dtype": "i2"
           },
           "yaxis": "y"
          },
          {
           "hovertemplate": "자치구=%{x}<br>년도=2023년<br>발생 건수=%{y}<extra></extra>",
           "legendgroup": "구로구",
           "marker": {
            "color": "rgb(47, 138, 196)",
            "pattern": {
             "shape": ""
            }
           },
           "name": "구로구",
           "orientation": "v",
           "showlegend": true,
           "textposition": "auto",
           "type": "bar",
           "x": [
            "구로구"
           ],
           "xaxis": "x",
           "y": {
            "bdata": "mQ4=",
            "dtype": "i2"
           },
           "yaxis": "y"
          },
          {
           "hovertemplate": "자치구=%{x}<br>년도=2023년<br>발생 건수=%{y}<extra></extra>",
           "legendgroup": "중구",
           "marker": {
            "color": "rgb(118, 78, 159)",
            "pattern": {
             "shape": ""
            }
           },
           "name": "중구",
           "orientation": "v",
           "showlegend": true,
           "textposition": "auto",
           "type": "bar",
           "x": [
            "중구"
           ],
           "xaxis": "x",
           "y": {
            "bdata": "FA0=",
            "dtype": "i2"
           },
           "yaxis": "y"
          },
          {
           "hovertemplate": "자치구=%{x}<br>년도=2023년<br>발생 건수=%{y}<extra></extra>",
           "legendgroup": "중랑구",
           "marker": {
            "color": "rgb(237, 100, 90)",
            "pattern": {
             "shape": ""
            }
           },
           "name": "중랑구",
           "orientation": "v",
           "showlegend": true,
           "textposition": "auto",
           "type": "bar",
           "x": [
            "중랑구"
           ],
           "xaxis": "x",
           "y": {
            "bdata": "/Aw=",
            "dtype": "i2"
           },
           "yaxis": "y"
          },
          {
           "hovertemplate": "자치구=%{x}<br>년도=2023년<br>발생 건수=%{y}<extra></extra>",
           "legendgroup": "노원구",
           "marker": {
            "color": "rgb(165, 170, 153)",
            "pattern": {
             "shape": ""
            }
           },
           "name": "노원구",
           "orientation": "v",
           "showlegend": true,
           "textposition": "auto",
           "type": "bar",
           "x": [
            "노원구"
           ],
           "xaxis": "x",
           "y": {
            "bdata": "7w0=",
            "dtype": "i2"
           },
           "yaxis": "y"
          },
          {
           "hovertemplate": "자치구=%{x}<br>년도=2023년<br>발생 건수=%{y}<extra></extra>",
           "legendgroup": "강동구",
           "marker": {
            "color": "rgb(229, 134, 6)",
            "pattern": {
             "shape": ""
            }
           },
           "name": "강동구",
           "orientation": "v",
           "showlegend": true,
           "textposition": "auto",
           "type": "bar",
           "x": [
            "강동구"
           ],
           "xaxis": "x",
           "y": {
            "bdata": "Rg0=",
            "dtype": "i2"
           },
           "yaxis": "y"
          },
          {
           "hovertemplate": "자치구=%{x}<br>년도=2023년<br>발생 건수=%{y}<extra></extra>",
           "legendgroup": "광진구",
           "marker": {
            "color": "rgb(93, 105, 177)",
            "pattern": {
             "shape": ""
            }
           },
           "name": "광진구",
           "orientation": "v",
           "showlegend": true,
           "textposition": "auto",
           "type": "bar",
           "x": [
            "광진구"
           ],
           "xaxis": "x",
           "y": {
            "bdata": "YA0=",
            "dtype": "i2"
           },
           "yaxis": "y"
          },
          {
           "hovertemplate": "자치구=%{x}<br>년도=2023년<br>발생 건수=%{y}<extra></extra>",
           "legendgroup": "은평구",
           "marker": {
            "color": "rgb(82, 188, 163)",
            "pattern": {
             "shape": ""
            }
           },
           "name": "은평구",
           "orientation": "v",
           "showlegend": true,
           "textposition": "auto",
           "type": "bar",
           "x": [
            "은평구"
           ],
           "xaxis": "x",
           "y": {
            "bdata": "pQ0=",
            "dtype": "i2"
           },
           "yaxis": "y"
          },
          {
           "hovertemplate": "자치구=%{x}<br>년도=2023년<br>발생 건수=%{y}<extra></extra>",
           "legendgroup": "종로구",
           "marker": {
            "color": "rgb(153, 201, 69)",
            "pattern": {
             "shape": ""
            }
           },
           "name": "종로구",
           "orientation": "v",
           "showlegend": true,
           "textposition": "auto",
           "type": "bar",
           "x": [
            "종로구"
           ],
           "xaxis": "x",
           "y": {
            "bdata": "pQs=",
            "dtype": "i2"
           },
           "yaxis": "y"
          },
          {
           "hovertemplate": "자치구=%{x}<br>년도=2023년<br>발생 건수=%{y}<extra></extra>",
           "legendgroup": "강북구",
           "marker": {
            "color": "rgb(204, 97, 176)",
            "pattern": {
             "shape": ""
            }
           },
           "name": "강북구",
           "orientation": "v",
           "showlegend": true,
           "textposition": "auto",
           "type": "bar",
           "x": [
            "강북구"
           ],
           "xaxis": "x",
           "y": {
            "bdata": "wQk=",
            "dtype": "i2"
           },
           "yaxis": "y"
          },
          {
           "hovertemplate": "자치구=%{x}<br>년도=2023년<br>발생 건수=%{y}<extra></extra>",
           "legendgroup": "동대문구",
           "marker": {
            "color": "rgb(36, 121, 108)",
            "pattern": {
             "shape": ""
            }
           },
           "name": "동대문구",
           "orientation": "v",
           "showlegend": true,
           "textposition": "auto",
           "type": "bar",
           "x": [
            "동대문구"
           ],
           "xaxis": "x",
           "y": {
            "bdata": "jQs=",
            "dtype": "i2"
           },
           "yaxis": "y"
          },
          {
           "hovertemplate": "자치구=%{x}<br>년도=2023년<br>발생 건수=%{y}<extra></extra>",
           "legendgroup": "동작구",
           "marker": {
            "color": "rgb(218, 165, 27)",
            "pattern": {
             "shape": ""
            }
           },
           "name": "동작구",
           "orientation": "v",
           "showlegend": true,
           "textposition": "auto",
           "type": "bar",
           "x": [
            "동작구"
           ],
           "xaxis": "x",
           "y": {
            "bdata": "Ugo=",
            "dtype": "i2"
           },
           "yaxis": "y"
          },
          {
           "hovertemplate": "자치구=%{x}<br>년도=2023년<br>발생 건수=%{y}<extra></extra>",
           "legendgroup": "용산구",
           "marker": {
            "color": "rgb(47, 138, 196)",
            "pattern": {
             "shape": ""
            }
           },
           "name": "용산구",
           "orientation": "v",
           "showlegend": true,
           "textposition": "auto",
           "type": "bar",
           "x": [
            "용산구"
           ],
           "xaxis": "x",
           "y": {
            "bdata": "zQs=",
            "dtype": "i2"
           },
           "yaxis": "y"
          },
          {
           "hovertemplate": "자치구=%{x}<br>년도=2023년<br>발생 건수=%{y}<extra></extra>",
           "legendgroup": "양천구",
           "marker": {
            "color": "rgb(118, 78, 159)",
            "pattern": {
             "shape": ""
            }
           },
           "name": "양천구",
           "orientation": "v",
           "showlegend": true,
           "textposition": "auto",
           "type": "bar",
           "x": [
            "양천구"
           ],
           "xaxis": "x",
           "y": {
            "bdata": "yws=",
            "dtype": "i2"
           },
           "yaxis": "y"
          },
          {
           "hovertemplate": "자치구=%{x}<br>년도=2023년<br>발생 건수=%{y}<extra></extra>",
           "legendgroup": "금천구",
           "marker": {
            "color": "rgb(237, 100, 90)",
            "pattern": {
             "shape": ""
            }
           },
           "name": "금천구",
           "orientation": "v",
           "showlegend": true,
           "textposition": "auto",
           "type": "bar",
           "x": [
            "금천구"
           ],
           "xaxis": "x",
           "y": {
            "bdata": "wAg=",
            "dtype": "i2"
           },
           "yaxis": "y"
          },
          {
           "hovertemplate": "자치구=%{x}<br>년도=2023년<br>발생 건수=%{y}<extra></extra>",
           "legendgroup": "서대문구",
           "marker": {
            "color": "rgb(165, 170, 153)",
            "pattern": {
             "shape": ""
            }
           },
           "name": "서대문구",
           "orientation": "v",
           "showlegend": true,
           "textposition": "auto",
           "type": "bar",
           "x": [
            "서대문구"
           ],
           "xaxis": "x",
           "y": {
            "bdata": "UQk=",
            "dtype": "i2"
           },
           "yaxis": "y"
          },
          {
           "hovertemplate": "자치구=%{x}<br>년도=2023년<br>발생 건수=%{y}<extra></extra>",
           "legendgroup": "성북구",
           "marker": {
            "color": "rgb(229, 134, 6)",
            "pattern": {
             "shape": ""
            }
           },
           "name": "성북구",
           "orientation": "v",
           "showlegend": true,
           "textposition": "auto",
           "type": "bar",
           "x": [
            "성북구"
           ],
           "xaxis": "x",
           "y": {
            "bdata": "awk=",
            "dtype": "i2"
           },
           "yaxis": "y"
          },
          {
           "hovertemplate": "자치구=%{x}<br>년도=2023년<br>발생 건수=%{y}<extra></extra>",
           "legendgroup": "성동구",
           "marker": {
            "color": "rgb(93, 105, 177)",
            "pattern": {
             "shape": ""
            }
           },
           "name": "성동구",
           "orientation": "v",
           "showlegend": true,
           "textposition": "auto",
           "type": "bar",
           "x": [
            "성동구"
           ],
           "xaxis": "x",
           "y": {
            "bdata": "5wc=",
            "dtype": "i2"
           },
           "yaxis": "y"
          },
          {
           "hovertemplate": "자치구=%{x}<br>년도=2023년<br>발생 건수=%{y}<extra></extra>",
           "legendgroup": "도봉구",
           "marker": {
            "color": "rgb(82, 188, 163)",
            "pattern": {
             "shape": ""
            }
           },
           "name": "도봉구",
           "orientation": "v",
           "showlegend": true,
           "textposition": "auto",
           "type": "bar",
           "x": [
            "도봉구"
           ],
           "xaxis": "x",
           "y": {
            "bdata": "gQc=",
            "dtype": "i2"
           },
           "yaxis": "y"
          }
         ],
         "name": "2023년"
        }
       ],
       "layout": {
        "barmode": "relative",
        "font": {
         "family": "Malgun Gothic, AppleGothic, NanumGothic, sans-serif",
         "size": 12
        },
        "legend": {
         "title": {
          "text": "자치구"
         },
         "tracegroupgap": 0
        },
        "sliders": [
         {
          "active": 0,
          "currentvalue": {
           "prefix": "년도="
          },
          "len": 0.9,
          "pad": {
           "b": 10,
           "t": 60
          },
          "steps": [
           {
            "args": [
             [
              "2019년"
             ],
             {
              "frame": {
               "duration": 0,
               "redraw": true
              },
              "fromcurrent": true,
              "mode": "immediate",
              "transition": {
               "duration": 0,
               "easing": "linear"
              }
             }
            ],
            "label": "2019년",
            "method": "animate"
           },
           {
            "args": [
             [
              "2020년"
             ],
             {
              "frame": {
               "duration": 0,
               "redraw": true
              },
              "fromcurrent": true,
              "mode": "immediate",
              "transition": {
               "duration": 0,
               "easing": "linear"
              }
             }
            ],
            "label": "2020년",
            "method": "animate"
           },
           {
            "args": [
             [
              "2021년"
             ],
             {
              "frame": {
               "duration": 0,
               "redraw": true
              },
              "fromcurrent": true,
              "mode": "immediate",
              "transition": {
               "duration": 0,
               "easing": "linear"
              }
             }
            ],
            "label": "2021년",
            "method": "animate"
           },
           {
            "args": [
             [
              "2022년"
             ],
             {
              "frame": {
               "duration": 0,
               "redraw": true
              },
              "fromcurrent": true,
              "mode": "immediate",
              "transition": {
               "duration": 0,
               "easing": "linear"
              }
             }
            ],
            "label": "2022년",
            "method": "animate"
           },
           {
            "args": [
             [
              "2023년"
             ],
             {
              "frame": {
               "duration": 0,
               "redraw": true
              },
              "fromcurrent": true,
              "mode": "immediate",
              "transition": {
               "duration": 0,
               "easing": "linear"
              }
             }
            ],
            "label": "2023년",
            "method": "animate"
           }
          ],
          "x": 0.1,
          "xanchor": "left",
          "y": 0,
          "yanchor": "top"
         }
        ],
        "template": {
         "data": {
          "bar": [
           {
            "error_x": {
             "color": "#2a3f5f"
            },
            "error_y": {
             "color": "#2a3f5f"
            },
            "marker": {
             "line": {
              "color": "#E5ECF6",
              "width": 0.5
             },
             "pattern": {
              "fillmode": "overlay",
              "size": 10,
              "solidity": 0.2
             }
            },
            "type": "bar"
           }
          ],
          "barpolar": [
           {
            "marker": {
             "line": {
              "color": "#E5ECF6",
              "width": 0.5
             },
             "pattern": {
              "fillmode": "overlay",
              "size": 10,
              "solidity": 0.2
             }
            },
            "type": "barpolar"
           }
          ],
          "carpet": [
           {
            "aaxis": {
             "endlinecolor": "#2a3f5f",
             "gridcolor": "white",
             "linecolor": "white",
             "minorgridcolor": "white",
             "startlinecolor": "#2a3f5f"
            },
            "baxis": {
             "endlinecolor": "#2a3f5f",
             "gridcolor": "white",
             "linecolor": "white",
             "minorgridcolor": "white",
             "startlinecolor": "#2a3f5f"
            },
            "type": "carpet"
           }
          ],
          "choropleth": [
           {
            "colorbar": {
             "outlinewidth": 0,
             "ticks": ""
            },
            "type": "choropleth"
           }
          ],
          "contour": [
           {
            "colorbar": {
             "outlinewidth": 0,
             "ticks": ""
            },
            "colorscale": [
             [
              0,
              "#0d0887"
             ],
             [
              0.1111111111111111,
              "#46039f"
             ],
             [
              0.2222222222222222,
              "#7201a8"
             ],
             [
              0.3333333333333333,
              "#9c179e"
             ],
             [
              0.4444444444444444,
              "#bd3786"
             ],
             [
              0.5555555555555556,
              "#d8576b"
             ],
             [
              0.6666666666666666,
              "#ed7953"
             ],
             [
              0.7777777777777778,
              "#fb9f3a"
             ],
             [
              0.8888888888888888,
              "#fdca26"
             ],
             [
              1,
              "#f0f921"
             ]
            ],
            "type": "contour"
           }
          ],
          "contourcarpet": [
           {
            "colorbar": {
             "outlinewidth": 0,
             "ticks": ""
            },
            "type": "contourcarpet"
           }
          ],
          "heatmap": [
           {
            "colorbar": {
             "outlinewidth": 0,
             "ticks": ""
            },
            "colorscale": [
             [
              0,
              "#0d0887"
             ],
             [
              0.1111111111111111,
              "#46039f"
             ],
             [
              0.2222222222222222,
              "#7201a8"
             ],
             [
              0.3333333333333333,
              "#9c179e"
             ],
             [
              0.4444444444444444,
              "#bd3786"
             ],
             [
              0.5555555555555556,
              "#d8576b"
             ],
             [
              0.6666666666666666,
              "#ed7953"
             ],
             [
              0.7777777777777778,
              "#fb9f3a"
             ],
             [
              0.8888888888888888,
              "#fdca26"
             ],
             [
              1,
              "#f0f921"
             ]
            ],
            "type": "heatmap"
           }
          ],
          "histogram": [
           {
            "marker": {
             "pattern": {
              "fillmode": "overlay",
              "size": 10,
              "solidity": 0.2
             }
            },
            "type": "histogram"
           }
          ],
          "histogram2d": [
           {
            "colorbar": {
             "outlinewidth": 0,
             "ticks": ""
            },
            "colorscale": [
             [
              0,
              "#0d0887"
             ],
             [
              0.1111111111111111,
              "#46039f"
             ],
             [
              0.2222222222222222,
              "#7201a8"
             ],
             [
              0.3333333333333333,
              "#9c179e"
             ],
             [
              0.4444444444444444,
              "#bd3786"
             ],
             [
              0.5555555555555556,
              "#d8576b"
             ],
             [
              0.6666666666666666,
              "#ed7953"
             ],
             [
              0.7777777777777778,
              "#fb9f3a"
             ],
             [
              0.8888888888888888,
              "#fdca26"
             ],
             [
              1,
              "#f0f921"
             ]
            ],
            "type": "histogram2d"
           }
          ],
          "histogram2dcontour": [
           {
            "colorbar": {
             "outlinewidth": 0,
             "ticks": ""
            },
            "colorscale": [
             [
              0,
              "#0d0887"
             ],
             [
              0.1111111111111111,
              "#46039f"
             ],
             [
              0.2222222222222222,
              "#7201a8"
             ],
             [
              0.3333333333333333,
              "#9c179e"
             ],
             [
              0.4444444444444444,
              "#bd3786"
             ],
             [
              0.5555555555555556,
              "#d8576b"
             ],
             [
              0.6666666666666666,
              "#ed7953"
             ],
             [
              0.7777777777777778,
              "#fb9f3a"
             ],
             [
              0.8888888888888888,
              "#fdca26"
             ],
             [
              1,
              "#f0f921"
             ]
            ],
            "type": "histogram2dcontour"
           }
          ],
          "mesh3d": [
           {
            "colorbar": {
             "outlinewidth": 0,
             "ticks": ""
            },
            "type": "mesh3d"
           }
          ],
          "parcoords": [
           {
            "line": {
             "colorbar": {
              "outlinewidth": 0,
              "ticks": ""
             }
            },
            "type": "parcoords"
           }
          ],
          "pie": [
           {
            "automargin": true,
            "type": "pie"
           }
          ],
          "scatter": [
           {
            "fillpattern": {
             "fillmode": "overlay",
             "size": 10,
             "solidity": 0.2
            },
            "type": "scatter"
           }
          ],
          "scatter3d": [
           {
            "line": {
             "colorbar": {
              "outlinewidth": 0,
              "ticks": ""
             }
            },
            "marker": {
             "colorbar": {
              "outlinewidth": 0,
              "ticks": ""
             }
            },
            "type": "scatter3d"
           }
          ],
          "scattercarpet": [
           {
            "marker": {
             "colorbar": {
              "outlinewidth": 0,
              "ticks": ""
             }
            },
            "type": "scattercarpet"
           }
          ],
          "scattergeo": [
           {
            "marker": {
             "colorbar": {
              "outlinewidth": 0,
              "ticks": ""
             }
            },
            "type": "scattergeo"
           }
          ],
          "scattergl": [
           {
            "marker": {
             "colorbar": {
              "outlinewidth": 0,
              "ticks": ""
             }
            },
            "type": "scattergl"
           }
          ],
          "scattermap": [
           {
            "marker": {
             "colorbar": {
              "outlinewidth": 0,
              "ticks": ""
             }
            },
            "type": "scattermap"
           }
          ],
          "scattermapbox": [
           {
            "marker": {
             "colorbar": {
              "outlinewidth": 0,
              "ticks": ""
             }
            },
            "type": "scattermapbox"
           }
          ],
          "scatterpolar": [
           {
            "marker": {
             "colorbar": {
              "outlinewidth": 0,
              "ticks": ""
             }
            },
            "type": "scatterpolar"
           }
          ],
          "scatterpolargl": [
           {
            "marker": {
             "colorbar": {
              "outlinewidth": 0,
              "ticks": ""
             }
            },
            "type": "scatterpolargl"
           }
          ],
          "scatterternary": [
           {
            "marker": {
             "colorbar": {
              "outlinewidth": 0,
              "ticks": ""
             }
            },
            "type": "scatterternary"
           }
          ],
          "surface": [
           {
            "colorbar": {
             "outlinewidth": 0,
             "ticks": ""
            },
            "colorscale": [
             [
              0,
              "#0d0887"
             ],
             [
              0.1111111111111111,
              "#46039f"
             ],
             [
              0.2222222222222222,
              "#7201a8"
             ],
             [
              0.3333333333333333,
              "#9c179e"
             ],
             [
              0.4444444444444444,
              "#bd3786"
             ],
             [
              0.5555555555555556,
              "#d8576b"
             ],
             [
              0.6666666666666666,
              "#ed7953"
             ],
             [
              0.7777777777777778,
              "#fb9f3a"
             ],
             [
              0.8888888888888888,
              "#fdca26"
             ],
             [
              1,
              "#f0f921"
             ]
            ],
            "type": "surface"
           }
          ],
          "table": [
           {
            "cells": {
             "fill": {
              "color": "#EBF0F8"
             },
             "line": {
              "color": "white"
             }
            },
            "header": {
             "fill": {
              "color": "#C8D4E3"
             },
             "line": {
              "color": "white"
             }
            },
            "type": "table"
           }
          ]
         },
         "layout": {
          "annotationdefaults": {
           "arrowcolor": "#2a3f5f",
           "arrowhead": 0,
           "arrowwidth": 1
          },
          "autotypenumbers": "strict",
          "coloraxis": {
           "colorbar": {
            "outlinewidth": 0,
            "ticks": ""
           }
          },
          "colorscale": {
           "diverging": [
            [
             0,
             "#8e0152"
            ],
            [
             0.1,
             "#c51b7d"
            ],
            [
             0.2,
             "#de77ae"
            ],
            [
             0.3,
             "#f1b6da"
            ],
            [
             0.4,
             "#fde0ef"
            ],
            [
             0.5,
             "#f7f7f7"
            ],
            [
             0.6,
             "#e6f5d0"
            ],
            [
             0.7,
             "#b8e186"
            ],
            [
             0.8,
             "#7fbc41"
            ],
            [
             0.9,
             "#4d9221"
            ],
            [
             1,
             "#276419"
            ]
           ],
           "sequential": [
            [
             0,
             "#0d0887"
            ],
            [
             0.1111111111111111,
             "#46039f"
            ],
            [
             0.2222222222222222,
             "#7201a8"
            ],
            [
             0.3333333333333333,
             "#9c179e"
            ],
            [
             0.4444444444444444,
             "#bd3786"
            ],
            [
             0.5555555555555556,
             "#d8576b"
            ],
            [
             0.6666666666666666,
             "#ed7953"
            ],
            [
             0.7777777777777778,
             "#fb9f3a"
            ],
            [
             0.8888888888888888,
             "#fdca26"
            ],
            [
             1,
             "#f0f921"
            ]
           ],
           "sequentialminus": [
            [
             0,
             "#0d0887"
            ],
            [
             0.1111111111111111,
             "#46039f"
            ],
            [
             0.2222222222222222,
             "#7201a8"
            ],
            [
             0.3333333333333333,
             "#9c179e"
            ],
            [
             0.4444444444444444,
             "#bd3786"
            ],
            [
             0.5555555555555556,
             "#d8576b"
            ],
            [
             0.6666666666666666,
             "#ed7953"
            ],
            [
             0.7777777777777778,
             "#fb9f3a"
            ],
            [
             0.8888888888888888,
             "#fdca26"
            ],
            [
             1,
             "#f0f921"
            ]
           ]
          },
          "colorway": [
           "#636efa",
           "#EF553B",
           "#00cc96",
           "#ab63fa",
           "#FFA15A",
           "#19d3f3",
           "#FF6692",
           "#B6E880",
           "#FF97FF",
           "#FECB52"
          ],
          "font": {
           "color": "#2a3f5f"
          },
          "geo": {
           "bgcolor": "white",
           "lakecolor": "white",
           "landcolor": "#E5ECF6",
           "showlakes": true,
           "showland": true,
           "subunitcolor": "white"
          },
          "hoverlabel": {
           "align": "left"
          },
          "hovermode": "closest",
          "mapbox": {
           "style": "light"
          },
          "paper_bgcolor": "white",
          "plot_bgcolor": "#E5ECF6",
          "polar": {
           "angularaxis": {
            "gridcolor": "white",
            "linecolor": "white",
            "ticks": ""
           },
           "bgcolor": "#E5ECF6",
           "radialaxis": {
            "gridcolor": "white",
            "linecolor": "white",
            "ticks": ""
           }
          },
          "scene": {
           "xaxis": {
            "backgroundcolor": "#E5ECF6",
            "gridcolor": "white",
            "gridwidth": 2,
            "linecolor": "white",
            "showbackground": true,
            "ticks": "",
            "zerolinecolor": "white"
           },
           "yaxis": {
            "backgroundcolor": "#E5ECF6",
            "gridcolor": "white",
            "gridwidth": 2,
            "linecolor": "white",
            "showbackground": true,
            "ticks": "",
            "zerolinecolor": "white"
           },
           "zaxis": {
            "backgroundcolor": "#E5ECF6",
            "gridcolor": "white",
            "gridwidth": 2,
            "linecolor": "white",
            "showbackground": true,
            "ticks": "",
            "zerolinecolor": "white"
           }
          },
          "shapedefaults": {
           "line": {
            "color": "#2a3f5f"
           }
          },
          "ternary": {
           "aaxis": {
            "gridcolor": "white",
            "linecolor": "white",
            "ticks": ""
           },
           "baxis": {
            "gridcolor": "white",
            "linecolor": "white",
            "ticks": ""
           },
           "bgcolor": "#E5ECF6",
           "caxis": {
            "gridcolor": "white",
            "linecolor": "white",
            "ticks": ""
           }
          },
          "title": {
           "x": 0.05
          },
          "xaxis": {
           "automargin": true,
           "gridcolor": "white",
           "linecolor": "white",
           "ticks": "",
           "title": {
            "standoff": 15
           },
           "zerolinecolor": "white",
           "zerolinewidth": 2
          },
          "yaxis": {
           "automargin": true,
           "gridcolor": "white",
           "linecolor": "white",
           "ticks": "",
           "title": {
            "standoff": 15
           },
           "zerolinecolor": "white",
           "zerolinewidth": 2
          }
         }
        },
        "title": {
         "text": "<b>년도별 서울시 자치구 범죄 발생 건수</b>",
         "x": 0.5
        },
        "updatemenus": [
         {
          "buttons": [
           {
            "args": [
             null,
             {
              "frame": {
               "duration": 1000,
               "redraw": true
              },
              "fromcurrent": true,
              "mode": "immediate",
              "transition": {
               "duration": 500,
               "easing": "linear"
              }
             }
            ],
            "label": "&#9654;",
            "method": "animate"
           },
           {
            "args": [
             [
              null
             ],
             {
              "frame": {
               "duration": 0,
               "redraw": true
              },
              "fromcurrent": true,
              "mode": "immediate",
              "transition": {
               "duration": 0,
               "easing": "linear"
              }
             }
            ],
            "label": "&#9724;",
            "method": "animate"
           }
          ],
          "direction": "left",
          "pad": {
           "r": 10,
           "t": 70
          },
          "showactive": false,
          "type": "buttons",
          "x": 0.1,
          "xanchor": "right",
          "y": 0,
          "yanchor": "top"
         }
        ],
        "xaxis": {
         "anchor": "y",
         "categoryarray": [
          "강남구",
          "영등포구",
          "송파구",
          "서초구",
          "관악구",
          "강서구",
          "마포구",
          "구로구",
          "중구",
          "중랑구",
          "노원구",
          "강동구",
          "광진구",
          "은평구",
          "종로구",
          "강북구",
          "동대문구",
          "동작구",
          "용산구",
          "양천구",
          "금천구",
          "서대문구",
          "성북구",
          "성동구",
          "도봉구"
         ],
         "categoryorder": "total descending",
         "domain": [
          0,
          1
         ],
         "title": {
          "text": "자치구"
         }
        },
        "yaxis": {
         "anchor": "x",
         "domain": [
          0,
          1
         ],
         "range": [
          0,
          11769.6
         ],
         "title": {
          "text": "발생 건수"
         }
        }
       }
      }
     },
     "metadata": {},
     "output_type": "display_data"
    }
   ],
   "source": [
    "import pandas as pd\n",
    "import plotly.express as px\n",
    "\n",
    "# 데이터 불러오기\n",
    "df_year = pd.read_csv(\"data/crime2.csv\")  # CSV 파일 경로\n",
    "\n",
    "# 타입을 변경할 컬럼 이름들을 리스트로 만듭니다.\n",
    "columns_to_convert = ['2019년', '2020년', '2021년', '2022년', '2023년']\n",
    "\n",
    "# for 반복문을 사용해 df_year의 각 컬럼 타입을 int로 변경합니다.\n",
    "for column in columns_to_convert:\n",
    "    df_year[column] = pd.to_numeric(df_year[column])\n",
    "\n",
    "# Plotly에 적합한 형태로 데이터 구조 변경 (Wide to Long)\n",
    "df_long = pd.melt(df_year,\n",
    "                  id_vars=['자치구별'],\n",
    "                  var_name='년도',\n",
    "                  value_name='발생 횟수')\n",
    "\n",
    "# 년도별로 정렬\n",
    "df_long = df_long.sort_values(by=['년도', '발생 횟수'], ascending=[True, False])\n",
    "\n",
    "fig = px.bar(df_long,\n",
    "             x='자치구별',\n",
    "             y='발생 횟수',\n",
    "             color='자치구별',\n",
    "             animation_frame='년도', # 이 옵션이 애니메이션을 만듭니다.\n",
    "             title='<b>년도별 서울시 자치구 범죄 발생 건수</b>',\n",
    "             labels={'자치구별': '자치구', '발생 횟수': '발생 건수'},\n",
    "             color_discrete_sequence=px.colors.qualitative.Vivid)\n",
    "\n",
    "# 애니메이션이 부드럽게 보이도록 y축 범위 고정\n",
    "fig.update_yaxes(range=[0, df_long['발생 횟수'].max() * 1.6])\n",
    "\n",
    "# 레이아웃 및 폰트 설정\n",
    "fig.update_layout(\n",
    "    title_x=0.5,\n",
    "    font=dict(family=\"Malgun Gothic, AppleGothic, NanumGothic, sans-serif\", size=12),\n",
    "    xaxis={'categoryorder':'total descending'} # 각 년도마다 막대를 내림차순으로 정렬\n",
    ")\n",
    "\n",
    "# --- 애니메이션 속도 조절 (수정된 부분) ---\n",
    "# Plotly가 자동으로 생성한 플레이 버튼의 애니메이션 속성값을 변경합니다.\n",
    "# duration: 각 프레임(년도)이 표시되는 시간 (1000ms = 1초)\n",
    "# transition: 프레임 간 전환(애니메이션)에 걸리는 시간 (500ms = 0.5초)\n",
    "fig.layout.updatemenus[0].buttons[0].args[1]['frame']['duration'] = 1000\n",
    "fig.layout.updatemenus[0].buttons[0].args[1]['transition']['duration'] = 500\n",
    "\n",
    "fig.show()"
   ]
  }
 ],
 "metadata": {
  "kernelspec": {
   "display_name": "streamlit_env",
   "language": "python",
   "name": "python3"
  },
  "language_info": {
   "codemirror_mode": {
    "name": "ipython",
    "version": 3
   },
   "file_extension": ".py",
   "mimetype": "text/x-python",
   "name": "python",
   "nbconvert_exporter": "python",
   "pygments_lexer": "ipython3",
   "version": "3.9.23"
  }
 },
 "nbformat": 4,
 "nbformat_minor": 5
}
